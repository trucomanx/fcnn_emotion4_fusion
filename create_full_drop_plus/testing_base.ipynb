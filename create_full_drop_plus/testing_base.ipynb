{
 "cells": [
  {
   "cell_type": "code",
   "execution_count": 35,
   "id": "7d874f9f",
   "metadata": {},
   "outputs": [],
   "source": [
    "import os\n",
    "#os.environ['TF_GPU_ALLOCATOR'] = 'cuda_malloc_async'\n",
    "\n",
    "os.environ['TF_USE_LEGACY_KERAS'] = '1';"
   ]
  },
  {
   "cell_type": "code",
   "execution_count": 36,
   "id": "8c38da82",
   "metadata": {},
   "outputs": [],
   "source": [
    "input_default_json_conf_file='fcnn_emotion4_testing_base_default.json';"
   ]
  },
  {
   "cell_type": "code",
   "execution_count": 37,
   "id": "3410f40c-893b-449d-b024-7781e0d76733",
   "metadata": {},
   "outputs": [],
   "source": [
    "import numpy as np\n",
    "import pandas as pd\n",
    "import tensorflow as tf\n",
    "import datetime\n",
    "import json"
   ]
  },
  {
   "cell_type": "code",
   "execution_count": 38,
   "id": "d4ce46fc-8392-4e0b-a820-3ce426fcc7ba",
   "metadata": {},
   "outputs": [],
   "source": [
    "import sys\n",
    "sys.path.append('../library');"
   ]
  },
  {
   "cell_type": "code",
   "execution_count": 39,
   "id": "d770d436",
   "metadata": {},
   "outputs": [
    {
     "name": "stdout",
     "output_type": "stream",
     "text": [
      "Num GPUs Available:  1\n"
     ]
    }
   ],
   "source": [
    "print(\"Num GPUs Available: \", len(tf.config.list_physical_devices('GPU')))"
   ]
  },
  {
   "cell_type": "code",
   "execution_count": 40,
   "id": "00acb00f",
   "metadata": {},
   "outputs": [],
   "source": [
    "## Load json conf json file\n",
    "fd = open(os.path.join('./',input_default_json_conf_file));\n",
    "DATA = json.load(fd);\n",
    "fd.close()"
   ]
  },
  {
   "cell_type": "markdown",
   "id": "13b0f452-3278-49c0-9601-c8a443dbc32b",
   "metadata": {},
   "source": [
    "# Variable globales"
   ]
  },
  {
   "cell_type": "code",
   "execution_count": 41,
   "id": "d83c3fa6-dbbb-4644-a12f-e497f971a446",
   "metadata": {},
   "outputs": [],
   "source": [
    "## Dataset \n",
    "dataset_base_test_dir    = DATA['dataset_test_base_dir'];\n",
    "dataset_labels_test_file = DATA['dataset_test_labels_file'];\n",
    "\n",
    "dataset_name        = DATA['dataset_name'];\n",
    "\n",
    "## Model filepath\n",
    "best_model_file = DATA['model_file'];\n",
    "\n",
    "\n",
    "\n",
    "## Output\n",
    "output_base_dir = DATA[\"output_base_dir\"];\n",
    "\n",
    "NCOD=15;\n",
    "minus=None;\n",
    "sub_dir='';\n",
    "testing_base_name='testing_base';"
   ]
  },
  {
   "cell_type": "markdown",
   "id": "65186ce7",
   "metadata": {},
   "source": [
    "# Parametros de entrada"
   ]
  },
  {
   "cell_type": "code",
   "execution_count": 42,
   "id": "8a1d31d1",
   "metadata": {},
   "outputs": [
    {
     "name": "stdout",
     "output_type": "stream",
     "text": [
      "        dataset_base_dir: /media/fernando/Expansion/DATASET/TESE/BER/BER2024/BER2024-FUSION/ber2024-source/ncod20_efficientnet_b3_efficientnet_b3_step1\n",
      "     dataset_labels_file: train.csv\n",
      "   dataset_base_test_dir: /media/fernando/Expansion/DATASET/TESE/BER/BER2024/BER2024-FUSION/dummy/L30000_p0.15\n",
      "dataset_labels_test_file: train.csv\n",
      "   dataset_base_test_dir: /media/fernando/Expansion/DATASET/TESE/BER/BER2024/BER2024-FUSION/ber2024-source/ncod20_efficientnet_b3_efficientnet_b3_step1\n",
      "dataset_labels_test_file: test.csv\n",
      "            dataset_name: ber2024-fusion\n",
      "                  EPOCAS: 100\n",
      "              BATCH_SIZE: 1024\n",
      "                    NCOD: 15\n",
      "                patience: 20\n",
      "             seed_number: 0\n",
      "         output_base_dir: /media/fernando/Expansion/OUTPUTS/DOCTORADO2/fcnn_emotion4_fusion_1\n"
     ]
    }
   ],
   "source": [
    "for n in range(len(sys.argv)):\n",
    "    if sys.argv[n]=='--dataset-test-dir':\n",
    "        dataset_base_test_dir=sys.argv[n+1];\n",
    "    elif sys.argv[n]=='--dataset-test-file':\n",
    "        dataset_labels_test_file=sys.argv[n+1];\n",
    "    elif sys.argv[n]=='--dataset-name':\n",
    "        dataset_name=sys.argv[n+1];\n",
    "    elif sys.argv[n]=='--model-file':\n",
    "        best_model_file=sys.argv[n+1];\n",
    "    elif sys.argv[n]=='--ncod':\n",
    "        NCOD=int(sys.argv[n+1]);\n",
    "    elif sys.argv[n]=='--sub-dir':\n",
    "        sub_dir=sys.argv[n+1];\n",
    "    elif sys.argv[n]=='--base-name':\n",
    "        testing_base_name=sys.argv[n+1];\n",
    "    elif sys.argv[n]=='--output-dir':\n",
    "        output_base_dir=sys.argv[n+1];\n",
    "    elif sys.argv[n]=='--minus':\n",
    "        minus=int(sys.argv[n+1]);\n",
    "        \n",
    "if len(sub_dir)==0:\n",
    "    if minus is None:\n",
    "        sub_dir='cls_ncod'+str(NCOD);\n",
    "    else:\n",
    "        sub_dir='cls_minus'+str(minus)+'_ncod'+str(NCOD);\n",
    "\n",
    "\n",
    "print('   dataset_base_test_dir:',dataset_base_test_dir)\n",
    "print('dataset_labels_test_file:',dataset_labels_test_file)\n",
    "print('            dataset_name:',dataset_name)\n",
    "print('                    NCOD:',NCOD)\n",
    "print('         best_model_file:',best_model_file)\n",
    "print('                 sub_dir:',sub_dir)\n",
    "print('       testing_base_name:',testing_base_name)\n",
    "print('         output_base_dir:',output_base_dir)\n",
    "print('                   minus:',minus)"
   ]
  },
  {
   "cell_type": "markdown",
   "id": "28a59004-739e-4760-bd91-ee3808207e3e",
   "metadata": {},
   "source": [
    "# Loading data of dataset"
   ]
  },
  {
   "cell_type": "code",
   "execution_count": 44,
   "id": "1abe0e9b-ee46-40d8-97c3-12a1efc0cd1a",
   "metadata": {},
   "outputs": [
    {
     "name": "stdout",
     "output_type": "stream",
     "text": [
      "\n",
      "\n",
      "dummy_df\n",
      "             d0        d1        d2        d3        d4        d5        d6  \\\n",
      "0      0.224582  0.133591  0.225396  0.416430  0.115009  0.208645  0.231006   \n",
      "1      0.037114  0.187126  0.258345  0.517415  0.115193  0.126007  0.259558   \n",
      "2      0.007186  0.297487  0.224354  0.470973  0.206671  0.182703  0.151418   \n",
      "3      0.367856  0.171388  0.282665  0.178091  0.521942  0.139584  0.279541   \n",
      "4      0.276513  0.140360  0.482942  0.100184  0.113897  0.141131  0.465378   \n",
      "...         ...       ...       ...       ...       ...       ...       ...   \n",
      "29995  0.208061  0.537792  0.124906  0.129241  0.301961  0.505377  0.119539   \n",
      "29996  0.275570  0.061500  0.047205  0.615725  0.127590  0.149018  0.243310   \n",
      "29997  0.398522  0.134628  0.310514  0.156336  0.404484  0.191104  0.205217   \n",
      "29998  0.023369  0.158488  0.776848  0.041295  0.240887  0.250146  0.278696   \n",
      "29999  0.189666  0.127528  0.452404  0.230402  0.310355  0.173137  0.388660   \n",
      "\n",
      "             d7        d8        d9       d10       d11     label  \n",
      "0      0.445340  0.322304  0.072405  0.154954  0.450337  positive  \n",
      "1      0.499243  0.142261  0.148077  0.234130  0.475531  positive  \n",
      "2      0.459208  0.096011  0.251722  0.128289  0.523978  positive  \n",
      "3      0.058933  0.323104  0.153302  0.267519  0.256075  negative  \n",
      "4      0.279594  0.294595  0.180015  0.513283  0.012106      pain  \n",
      "...         ...       ...       ...       ...       ...       ...  \n",
      "29995  0.073122  0.096915  0.405040  0.247391  0.250654    neutro  \n",
      "29996  0.480082  0.125035  0.334910  0.062923  0.477132  positive  \n",
      "29997  0.199194  0.453006  0.004632  0.223134  0.319228  negative  \n",
      "29998  0.230271  0.139351  0.022450  0.447453  0.390746      pain  \n",
      "29999  0.127847  0.108887  0.065987  0.563776  0.261351      pain  \n",
      "\n",
      "[30000 rows x 13 columns]\n",
      "\n",
      "\n",
      "test_df\n",
      "             d0        d1        d2        d3            d4            d5  \\\n",
      "0      0.000686  0.998839  0.000349  0.000126  1.989638e-05  9.997572e-01   \n",
      "1      0.999747  0.000154  0.000078  0.000022  9.999405e-01  5.823886e-05   \n",
      "2      0.000036  0.000102  0.000191  0.999670  5.370393e-07  1.223157e-06   \n",
      "3      0.007865  0.991319  0.000236  0.000579  5.689665e-02  9.430852e-01   \n",
      "4      0.000047  0.000282  0.000154  0.999517  6.336613e-06  7.395937e-05   \n",
      "...         ...       ...       ...       ...           ...           ...   \n",
      "16653  0.000441  0.999499  0.000023  0.000037  7.283359e-05  9.999247e-01   \n",
      "16654  0.006311  0.993072  0.000470  0.000147  2.958973e-03  9.970395e-01   \n",
      "16655  0.000197  0.000046  0.999420  0.000337  2.487195e-05  7.110825e-07   \n",
      "16656  0.198577  0.799782  0.001604  0.000037  6.360198e-02  9.363549e-01   \n",
      "16657  0.000017  0.000121  0.000156  0.999707  9.749557e-03  2.710924e-02   \n",
      "\n",
      "                 d6            d7        d8        d9       d10       d11  \\\n",
      "0      8.731121e-05  1.355198e-04  0.698122  0.178350  0.097385  0.026143   \n",
      "1      2.919172e-11  1.213780e-06  0.100934  0.053261  0.000473  0.845332   \n",
      "2      1.740726e-06  9.999964e-01  0.029880  0.025689  0.000023  0.944408   \n",
      "3      8.183360e-08  1.805722e-05  0.483954  0.386169  0.000119  0.129758   \n",
      "4      2.000081e-05  9.998996e-01  0.434757  0.221319  0.000032  0.343892   \n",
      "...             ...           ...       ...       ...       ...       ...   \n",
      "16653  1.625708e-06  8.960983e-07  0.001509  0.987823  0.004670  0.005999   \n",
      "16654  2.444364e-07  1.293126e-06  0.032181  0.497086  0.000423  0.470310   \n",
      "16655  9.999663e-01  8.154845e-06  0.063303  0.002049  0.932050  0.002598   \n",
      "16656  5.470350e-06  3.758280e-05  0.386832  0.257217  0.038219  0.317731   \n",
      "16657  1.584141e-03  9.615570e-01  0.000692  0.096912  0.001261  0.901134   \n",
      "\n",
      "          label  \n",
      "0        neutro  \n",
      "1      negative  \n",
      "2      positive  \n",
      "3        neutro  \n",
      "4      positive  \n",
      "...         ...  \n",
      "16653    neutro  \n",
      "16654    neutro  \n",
      "16655      pain  \n",
      "16656    neutro  \n",
      "16657  positive  \n",
      "\n",
      "[16658 rows x 13 columns]\n"
     ]
    }
   ],
   "source": [
    "# Load test filenames and labels\n",
    "test_df = pd.read_csv(os.path.join(dataset_base_test_dir,dataset_labels_test_file));\n",
    "\n",
    "print('\\n\\ntest_df')\n",
    "print(test_df)\n"
   ]
  },
  {
   "cell_type": "markdown",
   "id": "ed5189cf-b447-4b0a-b9f3-56f304d6fdde",
   "metadata": {},
   "source": [
    "# Creating output directory"
   ]
  },
  {
   "cell_type": "markdown",
   "id": "11c8fe28",
   "metadata": {},
   "source": []
  },
  {
   "cell_type": "code",
   "execution_count": 46,
   "id": "7fa3bada",
   "metadata": {},
   "outputs": [],
   "source": [
    "output_dir = os.path.join(output_base_dir,dataset_name,testing_base_name,sub_dir);\n",
    "\n",
    "os.makedirs(output_base_dir,exist_ok = True);\n",
    "\n",
    "os.makedirs(output_dir,exist_ok = True);"
   ]
  },
  {
   "cell_type": "markdown",
   "id": "67beeb38-1ad1-455d-8a71-5900a1e88163",
   "metadata": {},
   "source": [
    "# Data augmentation configuration"
   ]
  },
  {
   "cell_type": "code",
   "execution_count": 47,
   "id": "c2e3e68f-50e7-4f8c-9cd6-ae3261e8f20f",
   "metadata": {},
   "outputs": [
    {
     "name": "stdout",
     "output_type": "stream",
     "text": [
      "train: (51567, 12) (51567,)\n",
      "  val: (5392, 12) (5392,)\n",
      " test: (16658, 12) (16658,)\n"
     ]
    }
   ],
   "source": [
    "test_data_array = test_df.iloc[:,:-1].values;\n",
    "test_y_label = test_df.iloc[:,-1].values;\n",
    "\n",
    "print(' test:',test_data_array.shape, test_y_label.shape)"
   ]
  },
  {
   "cell_type": "code",
   "execution_count": 48,
   "id": "79c6a223-d0e3-4f54-9db1-582b07690e4f",
   "metadata": {},
   "outputs": [
    {
     "name": "stdout",
     "output_type": "stream",
     "text": [
      "train: (51567, 12) (51567, 4)\n",
      "  val: (5392, 12) (5392, 4)\n",
      " test: (16658, 12) (16658, 4)\n"
     ]
    }
   ],
   "source": [
    "from sklearn.preprocessing import LabelEncoder\n",
    "from tensorflow.keras.utils import to_categorical\n",
    "\n",
    "label_encoder = LabelEncoder()\n",
    "\n",
    "test_y       = label_encoder.fit_transform(test_y_label)\n",
    "\n",
    "test_y_categorical       = to_categorical(test_y)\n",
    "\n",
    "print(' test:',test_data_array.shape,test_y_categorical.shape)\n"
   ]
  },
  {
   "cell_type": "markdown",
   "id": "1f1555c7-97f3-4ede-8312-45d74d6008f6",
   "metadata": {},
   "source": [
    "# Create new model"
   ]
  },
  {
   "cell_type": "code",
   "execution_count": 49,
   "id": "424849a4-7762-47ff-8adf-4c9344e58558",
   "metadata": {},
   "outputs": [
    {
     "name": "stdout",
     "output_type": "stream",
     "text": [
      "input_shape (None, 12)\n",
      "output_shape (None, 4)\n",
      "\n",
      "Model: \"sequential\"\n",
      "_________________________________________________________________\n",
      " Layer (type)                Output Shape              Param #   \n",
      "=================================================================\n",
      " dense (Dense)               (None, 15)                195       \n",
      "                                                                 \n",
      " dense_1 (Dense)             (None, 4)                 64        \n",
      "                                                                 \n",
      "=================================================================\n",
      "Total params: 259 (1.01 KB)\n",
      "Trainable params: 259 (1.01 KB)\n",
      "Non-trainable params: 0 (0.00 Byte)\n",
      "_________________________________________________________________\n"
     ]
    },
    {
     "name": "stderr",
     "output_type": "stream",
     "text": [
      "2024-08-09 00:35:40.458887: I external/local_xla/xla/stream_executor/cuda/cuda_executor.cc:998] successful NUMA node read from SysFS had negative value (-1), but there must be at least one NUMA node, so returning NUMA node zero. See more at https://github.com/torvalds/linux/blob/v6.0/Documentation/ABI/testing/sysfs-bus-pci#L344-L355\n",
      "2024-08-09 00:35:40.459250: I external/local_xla/xla/stream_executor/cuda/cuda_executor.cc:998] successful NUMA node read from SysFS had negative value (-1), but there must be at least one NUMA node, so returning NUMA node zero. See more at https://github.com/torvalds/linux/blob/v6.0/Documentation/ABI/testing/sysfs-bus-pci#L344-L355\n",
      "2024-08-09 00:35:40.459494: I external/local_xla/xla/stream_executor/cuda/cuda_executor.cc:998] successful NUMA node read from SysFS had negative value (-1), but there must be at least one NUMA node, so returning NUMA node zero. See more at https://github.com/torvalds/linux/blob/v6.0/Documentation/ABI/testing/sysfs-bus-pci#L344-L355\n",
      "2024-08-09 00:35:40.670539: I external/local_xla/xla/stream_executor/cuda/cuda_executor.cc:998] successful NUMA node read from SysFS had negative value (-1), but there must be at least one NUMA node, so returning NUMA node zero. See more at https://github.com/torvalds/linux/blob/v6.0/Documentation/ABI/testing/sysfs-bus-pci#L344-L355\n",
      "2024-08-09 00:35:40.670894: I external/local_xla/xla/stream_executor/cuda/cuda_executor.cc:998] successful NUMA node read from SysFS had negative value (-1), but there must be at least one NUMA node, so returning NUMA node zero. See more at https://github.com/torvalds/linux/blob/v6.0/Documentation/ABI/testing/sysfs-bus-pci#L344-L355\n",
      "2024-08-09 00:35:40.671194: I external/local_xla/xla/stream_executor/cuda/cuda_executor.cc:998] successful NUMA node read from SysFS had negative value (-1), but there must be at least one NUMA node, so returning NUMA node zero. See more at https://github.com/torvalds/linux/blob/v6.0/Documentation/ABI/testing/sysfs-bus-pci#L344-L355\n",
      "2024-08-09 00:35:40.672152: I tensorflow/core/common_runtime/gpu/gpu_device.cc:1928] Created device /job:localhost/replica:0/task:0/device:GPU:0 with 1737 MB memory:  -> device: 0, name: NVIDIA GeForce MX150, pci bus id: 0000:01:00.0, compute capability: 6.1\n"
     ]
    }
   ],
   "source": [
    "import FusionEmotion4Lib.lib_model as mpp\n",
    "\n",
    "model = mpp.create_model(  load_weights=False,\n",
    "                           file_of_weight=best_model_file,\n",
    "                           ncod=NCOD,\n",
    "                           minus=minus);\n",
    "\n",
    "print('input_shape',model.input_shape)\n",
    "print('output_shape',model.output_shape)\n",
    "print('')\n",
    "\n",
    "model.summary()\n",
    "\n",
    "mpp.save_model_parameters(model, os.path.join(output_dir,'parameters_stats.m'));"
   ]
  },
  {
   "cell_type": "code",
   "execution_count": 50,
   "id": "c59cdc78-6eba-4cde-995e-cc56d0ed2dd2",
   "metadata": {},
   "outputs": [],
   "source": [
    "# COMPILE NEW MODEL\n",
    "model.compile(loss='categorical_crossentropy',\n",
    "              optimizer='adam',\n",
    "              metrics=['categorical_accuracy'])\n",
    "\n"
   ]
  },
  {
   "cell_type": "code",
   "execution_count": 53,
   "id": "d6bff659-35f6-444f-b889-8cd0bbf636d0",
   "metadata": {},
   "outputs": [
    {
     "name": "stdout",
     "output_type": "stream",
     "text": [
      "1612/1612 [==============================] - 4s 2ms/step - loss: 0.1649 - categorical_accuracy: 0.9905\n",
      "training {'loss': 0.1648501455783844, 'categorical_accuracy': 0.9904783964157104} \n",
      "\n",
      "\n",
      "169/169 [==============================] - 0s 2ms/step - loss: 0.0865 - categorical_accuracy: 0.9776\n",
      "validation {'loss': 0.08647266030311584, 'categorical_accuracy': 0.9775593280792236} \n",
      "\n",
      "\n",
      "521/521 [==============================] - 2s 3ms/step - loss: 0.1264 - categorical_accuracy: 0.9685\n",
      "testing {'loss': 0.12638325989246368, 'categorical_accuracy': 0.9684836268424988} \n",
      "\n",
      "\n"
     ]
    }
   ],
   "source": [
    "data_results=dict();\n",
    "\n",
    "# Evaluate testing\n",
    "results = model.evaluate(test_data_array,test_y_categorical)\n",
    "results = dict(zip(model.metrics_names,results))\n",
    "print('testing',results,\"\\n\\n\");\n",
    "for key,value in results.items():\n",
    "    data_results['test_'+key]=value;\n",
    "\n",
    "data_results['number_of_parameters']=mpp.get_model_parameters(model);\n",
    "data_results['ncod']=NCOD;\n",
    "\n",
    "# final all json\n",
    "with open(os.path.join(output_dir,\"testing_data_results.json\"), 'w') as f:\n",
    "    json.dump(data_results, f,indent=4);\n",
    "\n",
    "tf.keras.backend.clear_session()"
   ]
  },
  {
   "cell_type": "code",
   "execution_count": 54,
   "id": "6fa36ac3-a1b0-459f-b46e-681c993968ff",
   "metadata": {},
   "outputs": [
    {
     "name": "stdout",
     "output_type": "stream",
     "text": [
      "521/521 [==============================] - 1s 2ms/step\n",
      "Categorical accuracy: 0.9684836114779686\n",
      "{\n",
      "    \"negative\": {\n",
      "        \"precision\": 0.9463150459147633,\n",
      "        \"recall\": 0.9553125742809603,\n",
      "        \"f1-score\": 0.9507925242488763,\n",
      "        \"support\": 4207.0\n",
      "    },\n",
      "    \"neutral\": {\n",
      "        \"precision\": 0.9622988505747126,\n",
      "        \"recall\": 0.9410971223021583,\n",
      "        \"f1-score\": 0.9515799045237554,\n",
      "        \"support\": 4448.0\n",
      "    },\n",
      "    \"pain\": {\n",
      "        \"precision\": 0.9753054989816701,\n",
      "        \"recall\": 0.9917162826818535,\n",
      "        \"f1-score\": 0.9834424335772045,\n",
      "        \"support\": 3863.0\n",
      "    },\n",
      "    \"positive\": {\n",
      "        \"precision\": 0.9912896201306557,\n",
      "        \"recall\": 0.9896135265700483,\n",
      "        \"f1-score\": 0.9904508642572223,\n",
      "        \"support\": 4140.0\n",
      "    },\n",
      "    \"accuracy\": 0.9684836114779686,\n",
      "    \"macro avg\": {\n",
      "        \"precision\": 0.9688022539004505,\n",
      "        \"recall\": 0.969434876458755,\n",
      "        \"f1-score\": 0.9690664316517646,\n",
      "        \"support\": 16658.0\n",
      "    },\n",
      "    \"weighted avg\": {\n",
      "        \"precision\": 0.9684834227054171,\n",
      "        \"recall\": 0.9684836114779686,\n",
      "        \"f1-score\": 0.9684305597172727,\n",
      "        \"support\": 16658.0\n",
      "    }\n",
      "}\n"
     ]
    },
    {
     "data": {
      "image/png": "[encoded data removed]",
      "text/plain": [
       "<Figure size 800x600 with 2 Axes>"
      ]
     },
     "metadata": {},
     "output_type": "display_data"
    }
   ],
   "source": [
    "from sklearn.metrics import classification_report,confusion_matrix\n",
    "from sklearn.metrics import ConfusionMatrixDisplay\n",
    "import matplotlib.pyplot as plt\n",
    "\n",
    "target_names = ['negative','neutral','pain','positive'];\n",
    "\n",
    "# Predict\n",
    "Y_pred = model.predict(test_data_array,verbose=1);\n",
    "y_pred = np.argmax(Y_pred, axis=1);\n",
    "\n",
    "# Calculate accuracy\n",
    "categorical_accuracy = np.mean(test_y == y_pred);\n",
    "print(f'Categorical accuracy: {categorical_accuracy}');\n",
    "\n",
    "# Confusion matrix\n",
    "CM=confusion_matrix(test_y, y_pred);\n",
    "\n",
    "fname=os.path.join(output_dir,\"confusion_matrix.eps\");\n",
    "fig, ax = plt.subplots(figsize=(8,6), dpi=100)\n",
    "disp = ConfusionMatrixDisplay(confusion_matrix=CM, display_labels=target_names)\n",
    "disp.plot(ax=ax,cmap=plt.cm.Blues)\n",
    "plt.savefig(fname)\n",
    "\n",
    "cm_dict=dict();\n",
    "cm_dict['matrix']=CM.tolist();\n",
    "cm_dict['label']=target_names;\n",
    "# final all json\n",
    "with open(os.path.join(output_dir,\"confusion_matrix.json\"), 'w') as f:\n",
    "    json.dump(cm_dict, f,indent=4);\n",
    "    f.close()\n",
    "\n",
    "# Classification report\n",
    "fname=os.path.join(output_dir,\"classification_report.json\")\n",
    "dict_dat=classification_report(test_y, y_pred, target_names=target_names,output_dict=True);\n",
    "print(json.dumps(dict_dat, indent=4))\n",
    "with open(fname, 'w') as f: \n",
    "    json.dump(dict_dat, f,indent=4);\n",
    "    f.close()"
   ]
  }
 ],
 "metadata": {
  "kernelspec": {
   "display_name": "Python 3 (ipykernel)",
   "language": "python",
   "name": "python3"
  },
  "language_info": {
   "codemirror_mode": {
    "name": "ipython",
    "version": 3
   },
   "file_extension": ".py",
   "mimetype": "text/x-python",
   "name": "python",
   "nbconvert_exporter": "python",
   "pygments_lexer": "ipython3",
   "version": "3.10.12"
  }
 },
 "nbformat": 4,
 "nbformat_minor": 5
}
