{
 "cells": [
  {
   "cell_type": "code",
   "execution_count": 23,
   "id": "c82894ec-b47b-4fdf-b1f3-d2b3bc1482d3",
   "metadata": {},
   "outputs": [],
   "source": [
    "import os\n",
    "#os.environ['TF_GPU_ALLOCATOR'] = 'cuda_malloc_async'\n",
    "\n",
    "os.environ['TF_USE_LEGACY_KERAS'] = '1';"
   ]
  },
  {
   "cell_type": "code",
   "execution_count": 24,
   "id": "2e77e209",
   "metadata": {},
   "outputs": [],
   "source": [
    "input_default_json_conf_file='fcnn_emotion4_testing_delay_default.json';"
   ]
  },
  {
   "cell_type": "code",
   "execution_count": 25,
   "id": "3410f40c-893b-449d-b024-7781e0d76733",
   "metadata": {},
   "outputs": [],
   "source": [
    "import numpy as np\n",
    "import pandas as pd\n",
    "import os\n",
    "import tensorflow as tf\n",
    "import json\n",
    "from tensorflow.keras.preprocessing.image import load_img"
   ]
  },
  {
   "cell_type": "code",
   "execution_count": 26,
   "id": "d4ce46fc-8392-4e0b-a820-3ce426fcc7ba",
   "metadata": {},
   "outputs": [],
   "source": [
    "import sys\n",
    "sys.path.append('../library');"
   ]
  },
  {
   "cell_type": "code",
   "execution_count": 27,
   "id": "5c365c1f",
   "metadata": {},
   "outputs": [
    {
     "name": "stdout",
     "output_type": "stream",
     "text": [
      "Num GPUs Available:  1\n"
     ]
    }
   ],
   "source": [
    "print(\"Num GPUs Available: \", len(tf.config.list_physical_devices('GPU')))"
   ]
  },
  {
   "cell_type": "code",
   "execution_count": 28,
   "id": "9afbfad3",
   "metadata": {},
   "outputs": [],
   "source": [
    "## Load json conf file\n",
    "fd = open(os.path.join('./',input_default_json_conf_file));\n",
    "DATA = json.load(fd);\n",
    "fd.close()"
   ]
  },
  {
   "cell_type": "markdown",
   "id": "13b0f452-3278-49c0-9601-c8a443dbc32b",
   "metadata": {},
   "source": [
    "# Variable globales"
   ]
  },
  {
   "cell_type": "code",
   "execution_count": 29,
   "id": "d83c3fa6-dbbb-4644-a12f-e497f971a446",
   "metadata": {},
   "outputs": [],
   "source": [
    "## Seed for the random variables\n",
    "seed_number=0;\n",
    "\n",
    "## Dataset \n",
    "dataset_base_dir     = DATA['dataset_base_dir'];\n",
    "dataset_labels_file  = DATA['dataset_labels_file'];\n",
    "dataset_name         = DATA['dataset_name'];\n",
    "\n",
    "target_labels=['negative','neutro','pain','positive'];\n",
    "\n",
    "## Model filepath\n",
    "best_model_file = DATA['model_file'];\n",
    "\n",
    "## times to count time\n",
    "times = DATA['times'];\n",
    "\n",
    "NCOD=DATA['ncod'];\n",
    "\n",
    "## Output\n",
    "output_base_dir = DATA['output_base_dir'];\n",
    "\n",
    "##############################################"
   ]
  },
  {
   "cell_type": "markdown",
   "id": "3cdc12f1-6c56-4e35-b126-8979486b695b",
   "metadata": {},
   "source": [
    "# If command line"
   ]
  },
  {
   "cell_type": "code",
   "execution_count": 30,
   "id": "2087e4ea-a8e4-4ed5-b2f7-2b391f054575",
   "metadata": {},
   "outputs": [
    {
     "name": "stdout",
     "output_type": "stream",
     "text": [
      "   dataset_base_dir: /media/fernando/Expansion/DATASET/TESE/BER/BER2024/BER2024-FUSION/ber2024-source/ncod20_efficientnet_b3_efficientnet_b3_step1\n",
      "dataset_labels_file: test.csv\n",
      "       dataset_name: ber2024-fusion\n",
      "               NCOD: 8\n",
      "    best_model_file: /media/fernando/Expansion/OUTPUTS/DOCTORADO2/fcnn_emotion4_fusion_1/ber2024-fusion/training_validation_holdout/cls_ncod8/model_ncod8.h5\n",
      "              times: 10\n",
      "    output_base_dir: /media/fernando/Expansion/OUTPUTS/DOCTORADO2/fcnn_emotion4_fusion_1\n"
     ]
    }
   ],
   "source": [
    "for n in range(len(sys.argv)):\n",
    "    if   sys.argv[n]=='--dataset-dir':\n",
    "        dataset_base_dir=sys.argv[n+1];\n",
    "    elif sys.argv[n]=='--dataset-file':\n",
    "        dataset_labels_file=sys.argv[n+1];\n",
    "    elif sys.argv[n]=='--dataset-name':\n",
    "        dataset_name=sys.argv[n+1];\n",
    "    elif sys.argv[n]=='--ncod':\n",
    "        NCOD=int(sys.argv[n+1]);\n",
    "    elif sys.argv[n]=='--model-file':\n",
    "        best_model_file=sys.argv[n+1];\n",
    "    elif sys.argv[n]=='--times':\n",
    "        times=int(sys.argv[n+1]);\n",
    "    elif sys.argv[n]=='--output-dir':\n",
    "        output_base_dir=sys.argv[n+1];\n",
    "\n",
    "\n",
    "print('   dataset_base_dir:',dataset_base_dir);\n",
    "print('dataset_labels_file:',dataset_labels_file);\n",
    "print('       dataset_name:',dataset_name);\n",
    "print('               NCOD:',NCOD);\n",
    "print('    best_model_file:',best_model_file);\n",
    "print('              times:',times);\n",
    "print('    output_base_dir:',output_base_dir);\n",
    "\n"
   ]
  },
  {
   "cell_type": "markdown",
   "id": "99d1dee5-778a-4fd9-80de-90620bb33128",
   "metadata": {},
   "source": [
    "# Set seed of random variables\n"
   ]
  },
  {
   "cell_type": "code",
   "execution_count": 31,
   "id": "6ddef12f-6604-4c71-9473-15f328e954dd",
   "metadata": {},
   "outputs": [],
   "source": [
    "np.random.seed(seed_number)\n",
    "tf.keras.utils.set_random_seed(seed_number);"
   ]
  },
  {
   "cell_type": "markdown",
   "id": "1a5242bb-2077-4de0-8f41-374768f159e9",
   "metadata": {},
   "source": [
    "# Loading data of dataset"
   ]
  },
  {
   "cell_type": "code",
   "execution_count": 32,
   "id": "4f79564c-1ed0-4459-90cc-84e2bdda978c",
   "metadata": {},
   "outputs": [
    {
     "name": "stdout",
     "output_type": "stream",
     "text": [
      "             d0        d1        d2        d3            d4            d5  \\\n",
      "0      0.000686  0.998839  0.000349  0.000126  1.989638e-05  9.997572e-01   \n",
      "1      0.999747  0.000154  0.000078  0.000022  9.999405e-01  5.823886e-05   \n",
      "2      0.000036  0.000102  0.000191  0.999670  5.370393e-07  1.223157e-06   \n",
      "3      0.007865  0.991319  0.000236  0.000579  5.689665e-02  9.430852e-01   \n",
      "4      0.000047  0.000282  0.000154  0.999517  6.336613e-06  7.395937e-05   \n",
      "...         ...       ...       ...       ...           ...           ...   \n",
      "16653  0.000441  0.999499  0.000023  0.000037  7.283359e-05  9.999247e-01   \n",
      "16654  0.006311  0.993072  0.000470  0.000147  2.958973e-03  9.970395e-01   \n",
      "16655  0.000197  0.000046  0.999420  0.000337  2.487195e-05  7.110825e-07   \n",
      "16656  0.198577  0.799782  0.001604  0.000037  6.360198e-02  9.363549e-01   \n",
      "16657  0.000017  0.000121  0.000156  0.999707  9.749557e-03  2.710924e-02   \n",
      "\n",
      "                 d6            d7        d8        d9       d10       d11  \\\n",
      "0      8.731121e-05  1.355198e-04  0.698122  0.178350  0.097385  0.026143   \n",
      "1      2.919172e-11  1.213780e-06  0.100934  0.053261  0.000473  0.845332   \n",
      "2      1.740726e-06  9.999964e-01  0.029880  0.025689  0.000023  0.944408   \n",
      "3      8.183360e-08  1.805722e-05  0.483954  0.386169  0.000119  0.129758   \n",
      "4      2.000081e-05  9.998996e-01  0.434757  0.221319  0.000032  0.343892   \n",
      "...             ...           ...       ...       ...       ...       ...   \n",
      "16653  1.625708e-06  8.960983e-07  0.001509  0.987823  0.004670  0.005999   \n",
      "16654  2.444364e-07  1.293126e-06  0.032181  0.497086  0.000423  0.470310   \n",
      "16655  9.999663e-01  8.154845e-06  0.063303  0.002049  0.932050  0.002598   \n",
      "16656  5.470350e-06  3.758280e-05  0.386832  0.257217  0.038219  0.317731   \n",
      "16657  1.584141e-03  9.615570e-01  0.000692  0.096912  0.001261  0.901134   \n",
      "\n",
      "          label  \n",
      "0        neutro  \n",
      "1      negative  \n",
      "2      positive  \n",
      "3        neutro  \n",
      "4      positive  \n",
      "...         ...  \n",
      "16653    neutro  \n",
      "16654    neutro  \n",
      "16655      pain  \n",
      "16656    neutro  \n",
      "16657  positive  \n",
      "\n",
      "[16658 rows x 13 columns]\n"
     ]
    }
   ],
   "source": [
    "# Load filenames and labels\n",
    "test_df = pd.read_csv(os.path.join(dataset_base_dir,dataset_labels_file));\n",
    "print(test_df)"
   ]
  },
  {
   "cell_type": "markdown",
   "id": "ed5189cf-b447-4b0a-b9f3-56f304d6fdde",
   "metadata": {},
   "source": [
    "# Creating output directory"
   ]
  },
  {
   "cell_type": "code",
   "execution_count": 33,
   "id": "6a786de7-43ac-4597-92eb-d9eee66f81d9",
   "metadata": {},
   "outputs": [],
   "source": [
    "\n",
    "output_dir = os.path.join(output_base_dir,dataset_name,'test_delay','cls_ncod'+str(NCOD));\n",
    "\n",
    "os.makedirs(output_dir,exist_ok = True);"
   ]
  },
  {
   "cell_type": "markdown",
   "id": "bbf04e51-7a7b-4116-8e1e-04e5f358c5dc",
   "metadata": {},
   "source": [
    "# Create new model"
   ]
  },
  {
   "cell_type": "code",
   "execution_count": 34,
   "id": "5d629ba9-d621-4905-a88f-a0730d6c1802",
   "metadata": {},
   "outputs": [
    {
     "name": "stdout",
     "output_type": "stream",
     "text": [
      "Loading the weights in: /media/fernando/Expansion/OUTPUTS/DOCTORADO2/fcnn_emotion4_fusion_1/ber2024-fusion/training_validation_holdout/cls_ncod8/model_ncod8.h5\n",
      "Loaded the weights in: /media/fernando/Expansion/OUTPUTS/DOCTORADO2/fcnn_emotion4_fusion_1/ber2024-fusion/training_validation_holdout/cls_ncod8/model_ncod8.h5\n",
      "Model: \"sequential_1\"\n",
      "_________________________________________________________________\n",
      " Layer (type)                Output Shape              Param #   \n",
      "=================================================================\n",
      " dense_2 (Dense)             (None, 8)                 104       \n",
      "                                                                 \n",
      " dense_3 (Dense)             (None, 4)                 36        \n",
      "                                                                 \n",
      "=================================================================\n",
      "Total params: 140 (560.00 Byte)\n",
      "Trainable params: 140 (560.00 Byte)\n",
      "Non-trainable params: 0 (0.00 Byte)\n",
      "_________________________________________________________________\n"
     ]
    }
   ],
   "source": [
    "import FusionEmotion4Lib.lib_model as mpp\n",
    "\n",
    "model = mpp.create_model(load_weights=False,file_of_weight=best_model_file,ncod=NCOD);\n",
    "model.summary()\n",
    "\n",
    "mpp.save_model_parameters(model, os.path.join(output_dir,'parameters_stats.m'));\n"
   ]
  },
  {
   "cell_type": "markdown",
   "id": "67beeb38-1ad1-455d-8a71-5900a1e88163",
   "metadata": {},
   "source": [
    "# Creating numpy vector"
   ]
  },
  {
   "cell_type": "code",
   "execution_count": 39,
   "id": "c2e3e68f-50e7-4f8c-9cd6-ae3261e8f20f",
   "metadata": {},
   "outputs": [
    {
     "name": "stdout",
     "output_type": "stream",
     "text": [
      "[6.8554503e-04 9.9883920e-01 3.4933464e-04 1.2598086e-04 1.9896381e-05\n",
      " 9.9975723e-01 8.7311208e-05 1.3551982e-04 6.9812173e-01 1.7835021e-01\n",
      " 9.7384840e-02 2.6143270e-02]\n",
      "1\n"
     ]
    }
   ],
   "source": [
    "import pandas as pd\n",
    "\n",
    "np_vector=[];\n",
    "labelid_vector=[]\n",
    "for index, row in test_df.iterrows():\n",
    "    vec=row.iloc[:12].values;\n",
    "    if vec.dtype != np.float32:\n",
    "        vec = vec.astype(np.float32);\n",
    "    np_vector.append(vec)\n",
    "    labelid_vector.append(target_labels.index(row.iloc[12].lower()));\n",
    "\n",
    "print(np_vector[0])\n",
    "print(labelid_vector[0])"
   ]
  },
  {
   "cell_type": "markdown",
   "id": "083be078-c76e-423a-a538-6e5c6c9cda8c",
   "metadata": {},
   "source": [
    "# Time"
   ]
  },
  {
   "cell_type": "code",
   "execution_count": 40,
   "id": "33e25913-47a1-4e14-b560-2c5037904a7f",
   "metadata": {},
   "outputs": [],
   "source": [
    "from pytictoc import TicToc\n",
    "t = TicToc() "
   ]
  },
  {
   "cell_type": "markdown",
   "id": "a97efa97-b910-43a5-97ee-a18a230305e7",
   "metadata": {},
   "source": [
    "# Evaluate best model"
   ]
  },
  {
   "cell_type": "code",
   "execution_count": null,
   "id": "ad6b267c",
   "metadata": {},
   "outputs": [
    {
     "name": "stdout",
     "output_type": "stream",
     "text": [
      "L: 16658\n",
      "m: 0\n"
     ]
    },
    {
     "name": "stderr",
     "output_type": "stream",
     "text": [
      " 98%|████████████████████████████████████▏| 16304/16658 [17:57<00:27, 13.08it/s]"
     ]
    }
   ],
   "source": [
    "\n",
    "from tqdm import tqdm\n",
    "\n",
    "Count=0;\n",
    "L=len(np_vector);\n",
    "print('L:',L)\n",
    "\n",
    "\n",
    "t.tic();\n",
    "for m in range(times):\n",
    "    print('m:',m)\n",
    "    for n in tqdm(range(L)):\n",
    "        res=mpp.evaluate_model_from_npvector(model, np_vector[n])\n",
    "        if labelid_vector[n]==res:\n",
    "            Count=Count+1;\n",
    "t0=t.tocvalue();\n",
    "\n",
    "\n",
    "results = dict();\n",
    "results['categorical_accuracy']=Count*1.0/(L*times);\n",
    "results['delayms']=t0*1000.0/(times*L);\n",
    "results['number_of_parameters']=mpp.get_model_parameters(model);\n",
    "results['ncod']=NCOD;\n",
    "\n",
    "print(json.dumps(results, indent=4))\n"
   ]
  },
  {
   "cell_type": "code",
   "execution_count": null,
   "id": "1d4f6536-46f0-4c89-b98f-7cb5a4075cf1",
   "metadata": {},
   "outputs": [],
   "source": [
    "# final all json\n",
    "with open(os.path.join(output_dir,\"testing_data_results.json\"), 'w') as f:\n",
    "    json.dump(results, f,indent=4);\n",
    "\n",
    "tf.keras.backend.clear_session();\n"
   ]
  }
 ],
 "metadata": {
  "kernelspec": {
   "display_name": "Python 3 (ipykernel)",
   "language": "python",
   "name": "python3"
  },
  "language_info": {
   "codemirror_mode": {
    "name": "ipython",
    "version": 3
   },
   "file_extension": ".py",
   "mimetype": "text/x-python",
   "name": "python",
   "nbconvert_exporter": "python",
   "pygments_lexer": "ipython3",
   "version": "3.10.12"
  }
 },
 "nbformat": 4,
 "nbformat_minor": 5
}
