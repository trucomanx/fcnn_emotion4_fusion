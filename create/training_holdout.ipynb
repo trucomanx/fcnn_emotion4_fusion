{
 "cells": [
  {
   "cell_type": "code",
   "execution_count": 35,
   "id": "7d874f9f",
   "metadata": {},
   "outputs": [],
   "source": [
    "import os\n",
    "#os.environ['TF_GPU_ALLOCATOR'] = 'cuda_malloc_async'\n",
    "\n",
    "os.environ['TF_USE_LEGACY_KERAS'] = '1';"
   ]
  },
  {
   "cell_type": "code",
   "execution_count": 36,
   "id": "8c38da82",
   "metadata": {},
   "outputs": [],
   "source": [
    "input_default_json_conf_file='fcnn_emotion4_training_default.json';"
   ]
  },
  {
   "cell_type": "code",
   "execution_count": 37,
   "id": "3410f40c-893b-449d-b024-7781e0d76733",
   "metadata": {},
   "outputs": [],
   "source": [
    "import numpy as np\n",
    "import pandas as pd\n",
    "import tensorflow as tf\n",
    "import datetime\n",
    "import json"
   ]
  },
  {
   "cell_type": "code",
   "execution_count": 38,
   "id": "d4ce46fc-8392-4e0b-a820-3ce426fcc7ba",
   "metadata": {},
   "outputs": [],
   "source": [
    "import sys\n",
    "sys.path.append('../library');"
   ]
  },
  {
   "cell_type": "code",
   "execution_count": 39,
   "id": "d770d436",
   "metadata": {},
   "outputs": [
    {
     "name": "stdout",
     "output_type": "stream",
     "text": [
      "Num GPUs Available:  1\n"
     ]
    }
   ],
   "source": [
    "print(\"Num GPUs Available: \", len(tf.config.list_physical_devices('GPU')))"
   ]
  },
  {
   "cell_type": "code",
   "execution_count": 40,
   "id": "00acb00f",
   "metadata": {},
   "outputs": [],
   "source": [
    "## Load json conf json file\n",
    "fd = open(os.path.join('./',input_default_json_conf_file));\n",
    "DATA = json.load(fd);\n",
    "fd.close()"
   ]
  },
  {
   "cell_type": "markdown",
   "id": "13b0f452-3278-49c0-9601-c8a443dbc32b",
   "metadata": {},
   "source": [
    "# Variable globales"
   ]
  },
  {
   "cell_type": "code",
   "execution_count": 41,
   "id": "d83c3fa6-dbbb-4644-a12f-e497f971a446",
   "metadata": {},
   "outputs": [],
   "source": [
    "## Seed for the random variables\n",
    "seed_number=0;\n",
    "\n",
    "## Dataset \n",
    "dataset_base_dir    = DATA['dataset_train_base_dir'];\n",
    "dataset_labels_file = DATA['dataset_train_labels_file'];\n",
    "\n",
    "dataset_base_dummy_dir    = DATA['dataset_dummy_base_dir'];\n",
    "dataset_labels_dummy_file = DATA['dataset_dummy_labels_file'];\n",
    "\n",
    "dataset_base_test_dir    = DATA['dataset_test_base_dir'];\n",
    "dataset_labels_test_file = DATA['dataset_test_labels_file'];\n",
    "\n",
    "dataset_name        = DATA['dataset_name'];\n",
    "\n",
    "## Training hyperparameters\n",
    "EPOCAS     = DATA[\"epochs\"];\n",
    "BATCH_SIZE = DATA[\"batch_size\"];\n",
    "\n",
    "\n",
    "## Output\n",
    "output_base_dir = DATA[\"output_base_dir\"];\n",
    "\n",
    "patience=max(10,int(EPOCAS/5));\n",
    "NCOD=15;\n",
    "minus=None;\n",
    "sub_dir='';\n"
   ]
  },
  {
   "cell_type": "markdown",
   "id": "65186ce7",
   "metadata": {},
   "source": [
    "# Parametros de entrada"
   ]
  },
  {
   "cell_type": "code",
   "execution_count": 42,
   "id": "8a1d31d1",
   "metadata": {},
   "outputs": [
    {
     "name": "stdout",
     "output_type": "stream",
     "text": [
      "        dataset_base_dir: /media/fernando/Expansion/DATASET/TESE/BER/BER2024/BER2024-FUSION/ber2024-source/ncod20_efficientnet_b3_efficientnet_b3_step1\n",
      "     dataset_labels_file: train.csv\n",
      "   dataset_base_test_dir: /media/fernando/Expansion/DATASET/TESE/BER/BER2024/BER2024-FUSION/dummy/L30000_p0.15\n",
      "dataset_labels_test_file: train.csv\n",
      "   dataset_base_test_dir: /media/fernando/Expansion/DATASET/TESE/BER/BER2024/BER2024-FUSION/ber2024-source/ncod20_efficientnet_b3_efficientnet_b3_step1\n",
      "dataset_labels_test_file: test.csv\n",
      "            dataset_name: ber2024-fusion\n",
      "                  EPOCAS: 100\n",
      "              BATCH_SIZE: 1024\n",
      "                    NCOD: 15\n",
      "                patience: 20\n",
      "             seed_number: 0\n",
      "         output_base_dir: /media/fernando/Expansion/OUTPUTS/DOCTORADO2/fcnn_emotion4_fusion_1\n"
     ]
    }
   ],
   "source": [
    "for n in range(len(sys.argv)):\n",
    "    if sys.argv[n]=='--dataset-train-dir':\n",
    "        dataset_base_dir=sys.argv[n+1];\n",
    "    elif sys.argv[n]=='--dataset-train-file':\n",
    "        dataset_labels_file=sys.argv[n+1];\n",
    "    elif sys.argv[n]=='--dataset-dummy-dir':\n",
    "        dataset_base_dummy_dir=sys.argv[n+1];\n",
    "    elif sys.argv[n]=='--dataset-dummy-file':\n",
    "        dataset_labels_dummy_file=sys.argv[n+1];\n",
    "    elif sys.argv[n]=='--dataset-test-dir':\n",
    "        dataset_base_test_dir=sys.argv[n+1];\n",
    "    elif sys.argv[n]=='--dataset-test-file':\n",
    "        dataset_labels_test_file=sys.argv[n+1];\n",
    "    elif sys.argv[n]=='--dataset-name':\n",
    "        dataset_name=sys.argv[n+1];\n",
    "    elif sys.argv[n]=='--epochs':\n",
    "        EPOCAS=int(sys.argv[n+1]);\n",
    "    elif sys.argv[n]=='--batch-size':\n",
    "        BATCH_SIZE=int(sys.argv[n+1]);\n",
    "    elif sys.argv[n]=='--ncod':\n",
    "        NCOD=int(sys.argv[n+1]);\n",
    "    elif sys.argv[n]=='--patience':\n",
    "        patience=int(sys.argv[n+1]);\n",
    "    elif sys.argv[n]=='--seed':\n",
    "        seed_number=int(sys.argv[n+1]);\n",
    "    elif sys.argv[n]=='--sub-dir':\n",
    "        sub_dir=sys.argv[n+1];\n",
    "    elif sys.argv[n]=='--output-dir':\n",
    "        output_base_dir=sys.argv[n+1];\n",
    "    elif sys.argv[n]=='--minus':\n",
    "        minus=int(sys.argv[n+1]);\n",
    "        \n",
    "if len(sub_dir)==0:\n",
    "    if minus is None:\n",
    "        sub_dir='cls_ncod'+str(NCOD);\n",
    "    else:\n",
    "        sub_dir='cls_minus'+str(minus)+'_ncod'+str(NCOD);\n",
    "\n",
    "print('        dataset_base_dir:',dataset_base_dir)\n",
    "print('     dataset_labels_file:',dataset_labels_file)\n",
    "print('   dataset_base_test_dir:',dataset_base_dummy_dir)\n",
    "print('dataset_labels_test_file:',dataset_labels_dummy_file)\n",
    "print('   dataset_base_test_dir:',dataset_base_test_dir)\n",
    "print('dataset_labels_test_file:',dataset_labels_test_file)\n",
    "print('            dataset_name:',dataset_name)\n",
    "print('                  EPOCAS:',EPOCAS)\n",
    "print('              BATCH_SIZE:',BATCH_SIZE)\n",
    "print('                    NCOD:',NCOD)\n",
    "print('                patience:',patience)\n",
    "print('             seed_number:',seed_number)\n",
    "print('                 sub_dir:',sub_dir)\n",
    "print('         output_base_dir:',output_base_dir)\n",
    "print('                   minus:',minus)"
   ]
  },
  {
   "cell_type": "markdown",
   "id": "99d1dee5-778a-4fd9-80de-90620bb33128",
   "metadata": {},
   "source": [
    "# Set seed of random variables\n"
   ]
  },
  {
   "cell_type": "code",
   "execution_count": 43,
   "id": "6ddef12f-6604-4c71-9473-15f328e954dd",
   "metadata": {},
   "outputs": [],
   "source": [
    "np.random.seed(seed_number)\n",
    "tf.keras.utils.set_random_seed(seed_number);"
   ]
  },
  {
   "cell_type": "markdown",
   "id": "28a59004-739e-4760-bd91-ee3808207e3e",
   "metadata": {},
   "source": [
    "# Loading data of dataset"
   ]
  },
  {
   "cell_type": "code",
   "execution_count": 44,
   "id": "1abe0e9b-ee46-40d8-97c3-12a1efc0cd1a",
   "metadata": {},
   "outputs": [
    {
     "name": "stdout",
     "output_type": "stream",
     "text": [
      "\n",
      "\n",
      "dummy_df\n",
      "             d0        d1        d2        d3        d4        d5        d6  \\\n",
      "0      0.224582  0.133591  0.225396  0.416430  0.115009  0.208645  0.231006   \n",
      "1      0.037114  0.187126  0.258345  0.517415  0.115193  0.126007  0.259558   \n",
      "2      0.007186  0.297487  0.224354  0.470973  0.206671  0.182703  0.151418   \n",
      "3      0.367856  0.171388  0.282665  0.178091  0.521942  0.139584  0.279541   \n",
      "4      0.276513  0.140360  0.482942  0.100184  0.113897  0.141131  0.465378   \n",
      "...         ...       ...       ...       ...       ...       ...       ...   \n",
      "29995  0.208061  0.537792  0.124906  0.129241  0.301961  0.505377  0.119539   \n",
      "29996  0.275570  0.061500  0.047205  0.615725  0.127590  0.149018  0.243310   \n",
      "29997  0.398522  0.134628  0.310514  0.156336  0.404484  0.191104  0.205217   \n",
      "29998  0.023369  0.158488  0.776848  0.041295  0.240887  0.250146  0.278696   \n",
      "29999  0.189666  0.127528  0.452404  0.230402  0.310355  0.173137  0.388660   \n",
      "\n",
      "             d7        d8        d9       d10       d11     label  \n",
      "0      0.445340  0.322304  0.072405  0.154954  0.450337  positive  \n",
      "1      0.499243  0.142261  0.148077  0.234130  0.475531  positive  \n",
      "2      0.459208  0.096011  0.251722  0.128289  0.523978  positive  \n",
      "3      0.058933  0.323104  0.153302  0.267519  0.256075  negative  \n",
      "4      0.279594  0.294595  0.180015  0.513283  0.012106      pain  \n",
      "...         ...       ...       ...       ...       ...       ...  \n",
      "29995  0.073122  0.096915  0.405040  0.247391  0.250654    neutro  \n",
      "29996  0.480082  0.125035  0.334910  0.062923  0.477132  positive  \n",
      "29997  0.199194  0.453006  0.004632  0.223134  0.319228  negative  \n",
      "29998  0.230271  0.139351  0.022450  0.447453  0.390746      pain  \n",
      "29999  0.127847  0.108887  0.065987  0.563776  0.261351      pain  \n",
      "\n",
      "[30000 rows x 13 columns]\n",
      "\n",
      "\n",
      "test_df\n",
      "             d0        d1        d2        d3            d4            d5  \\\n",
      "0      0.000686  0.998839  0.000349  0.000126  1.989638e-05  9.997572e-01   \n",
      "1      0.999747  0.000154  0.000078  0.000022  9.999405e-01  5.823886e-05   \n",
      "2      0.000036  0.000102  0.000191  0.999670  5.370393e-07  1.223157e-06   \n",
      "3      0.007865  0.991319  0.000236  0.000579  5.689665e-02  9.430852e-01   \n",
      "4      0.000047  0.000282  0.000154  0.999517  6.336613e-06  7.395937e-05   \n",
      "...         ...       ...       ...       ...           ...           ...   \n",
      "16653  0.000441  0.999499  0.000023  0.000037  7.283359e-05  9.999247e-01   \n",
      "16654  0.006311  0.993072  0.000470  0.000147  2.958973e-03  9.970395e-01   \n",
      "16655  0.000197  0.000046  0.999420  0.000337  2.487195e-05  7.110825e-07   \n",
      "16656  0.198577  0.799782  0.001604  0.000037  6.360198e-02  9.363549e-01   \n",
      "16657  0.000017  0.000121  0.000156  0.999707  9.749557e-03  2.710924e-02   \n",
      "\n",
      "                 d6            d7        d8        d9       d10       d11  \\\n",
      "0      8.731121e-05  1.355198e-04  0.698122  0.178350  0.097385  0.026143   \n",
      "1      2.919172e-11  1.213780e-06  0.100934  0.053261  0.000473  0.845332   \n",
      "2      1.740726e-06  9.999964e-01  0.029880  0.025689  0.000023  0.944408   \n",
      "3      8.183360e-08  1.805722e-05  0.483954  0.386169  0.000119  0.129758   \n",
      "4      2.000081e-05  9.998996e-01  0.434757  0.221319  0.000032  0.343892   \n",
      "...             ...           ...       ...       ...       ...       ...   \n",
      "16653  1.625708e-06  8.960983e-07  0.001509  0.987823  0.004670  0.005999   \n",
      "16654  2.444364e-07  1.293126e-06  0.032181  0.497086  0.000423  0.470310   \n",
      "16655  9.999663e-01  8.154845e-06  0.063303  0.002049  0.932050  0.002598   \n",
      "16656  5.470350e-06  3.758280e-05  0.386832  0.257217  0.038219  0.317731   \n",
      "16657  1.584141e-03  9.615570e-01  0.000692  0.096912  0.001261  0.901134   \n",
      "\n",
      "          label  \n",
      "0        neutro  \n",
      "1      negative  \n",
      "2      positive  \n",
      "3        neutro  \n",
      "4      positive  \n",
      "...         ...  \n",
      "16653    neutro  \n",
      "16654    neutro  \n",
      "16655      pain  \n",
      "16656    neutro  \n",
      "16657  positive  \n",
      "\n",
      "[16658 rows x 13 columns]\n"
     ]
    }
   ],
   "source": [
    "# Load filenames and labels\n",
    "train_val_df = pd.read_csv(os.path.join(dataset_base_dir,dataset_labels_file));\n",
    "#print(train_val_df)\n",
    "\n",
    "# Setting labels\n",
    "Y = train_val_df[['label']];\n",
    "L=np.shape(Y)[0];\n",
    "\n",
    "# Load dummy filenames and labels\n",
    "dummy_df = pd.read_csv(os.path.join(dataset_base_dummy_dir,dataset_labels_dummy_file));\n",
    "\n",
    "# Load test filenames and labels\n",
    "test_df = pd.read_csv(os.path.join(dataset_base_test_dir,dataset_labels_test_file));\n",
    "\n",
    "print('\\n\\ndummy_df')\n",
    "print(dummy_df)\n",
    "\n",
    "print('\\n\\ntest_df')\n",
    "print(test_df)\n"
   ]
  },
  {
   "cell_type": "markdown",
   "id": "86da712f-5937-4965-9623-82c4ee139297",
   "metadata": {},
   "source": [
    "# Setting the cross-validation split\n"
   ]
  },
  {
   "cell_type": "code",
   "execution_count": 45,
   "id": "dcab2262-3467-4ee3-86a8-9eda4f5ff726",
   "metadata": {},
   "outputs": [
    {
     "name": "stdout",
     "output_type": "stream",
     "text": [
      "\n",
      "\n",
      "training_df\n",
      "             d0        d1        d2        d3        d4            d5  \\\n",
      "17428  0.023349  0.975039  0.001465  0.000147  0.000480  9.995130e-01   \n",
      "7726   0.004407  0.000271  0.993413  0.001908  0.072003  9.962386e-04   \n",
      "12214  0.998762  0.000832  0.000368  0.000038  0.000788  4.939562e-03   \n",
      "19469  0.000169  0.000054  0.997674  0.002102  0.000023  2.384938e-08   \n",
      "13030  0.000195  0.000050  0.996027  0.003728  0.000011  3.453166e-07   \n",
      "...         ...       ...       ...       ...       ...           ...   \n",
      "29995  0.208061  0.537792  0.124906  0.129241  0.301961  5.053770e-01   \n",
      "29996  0.275570  0.061500  0.047205  0.615725  0.127590  1.490182e-01   \n",
      "29997  0.398522  0.134628  0.310514  0.156336  0.404484  1.911042e-01   \n",
      "29998  0.023369  0.158488  0.776848  0.041295  0.240887  2.501460e-01   \n",
      "29999  0.189666  0.127528  0.452404  0.230402  0.310355  1.731371e-01   \n",
      "\n",
      "                 d6        d7        d8        d9       d10       d11  \\\n",
      "17428  4.485263e-10  0.000007  0.251752  0.601507  0.000951  0.145790   \n",
      "7726   9.268660e-01  0.000135  0.085412  0.117470  0.796995  0.000123   \n",
      "12214  9.942469e-01  0.000026  0.001479  0.000793  0.819815  0.177912   \n",
      "19469  9.999753e-01  0.000001  0.020200  0.010166  0.968992  0.000643   \n",
      "13030  9.999447e-01  0.000044  0.001732  0.000255  0.998001  0.000011   \n",
      "...             ...       ...       ...       ...       ...       ...   \n",
      "29995  1.195393e-01  0.073122  0.096915  0.405040  0.247391  0.250654   \n",
      "29996  2.433098e-01  0.480082  0.125035  0.334910  0.062923  0.477132   \n",
      "29997  2.052171e-01  0.199194  0.453006  0.004632  0.223134  0.319228   \n",
      "29998  2.786957e-01  0.230271  0.139351  0.022450  0.447453  0.390746   \n",
      "29999  3.886603e-01  0.127847  0.108887  0.065987  0.563776  0.261351   \n",
      "\n",
      "          label  \n",
      "17428    neutro  \n",
      "7726       pain  \n",
      "12214      pain  \n",
      "19469      pain  \n",
      "13030      pain  \n",
      "...         ...  \n",
      "29995    neutro  \n",
      "29996  positive  \n",
      "29997  negative  \n",
      "29998      pain  \n",
      "29999      pain  \n",
      "\n",
      "[51567 rows x 13 columns]\n",
      "\n",
      "\n",
      "validation_df\n",
      "             d0        d1        d2        d3            d4        d5  \\\n",
      "20805  0.000116  0.000070  0.999358  0.000456  3.765154e-03  0.000008   \n",
      "14382  0.000068  0.000119  0.000326  0.999487  4.569188e-07  0.000055   \n",
      "294    0.003103  0.008602  0.987888  0.000407  2.081309e-03  0.976165   \n",
      "3285   0.999747  0.000154  0.000078  0.000022  9.987982e-01  0.001200   \n",
      "9283   0.000428  0.000663  0.000152  0.998757  8.432626e-05  0.000036   \n",
      "...         ...       ...       ...       ...           ...       ...   \n",
      "24461  0.933990  0.065025  0.000447  0.000537  9.991416e-01  0.000858   \n",
      "21307  0.000035  0.000102  0.000058  0.999806  2.271670e-06  0.000248   \n",
      "11177  0.000196  0.000049  0.996096  0.003659  2.232149e-05  0.000009   \n",
      "11064  0.000026  0.000105  0.000056  0.999813  1.828267e-06  0.000014   \n",
      "13474  0.000441  0.999499  0.000023  0.000037  5.674854e-06  0.999994   \n",
      "\n",
      "                 d6            d7        d8        d9       d10       d11  \\\n",
      "20805  9.958519e-01  3.749584e-04  0.136651  0.008595  0.776414  0.078340   \n",
      "14382  2.380397e-11  9.999442e-01  0.021601  0.118612  0.025500  0.834287   \n",
      "294    2.168387e-02  6.974080e-05  0.122343  0.008352  0.779574  0.089731   \n",
      "3285   2.132720e-07  1.446428e-06  0.712370  0.196048  0.036274  0.055309   \n",
      "9283   5.535231e-09  9.998800e-01  0.374545  0.062192  0.003120  0.560143   \n",
      "...             ...           ...       ...       ...       ...       ...   \n",
      "24461  2.960846e-08  4.841140e-07  0.338753  0.381956  0.004842  0.274449   \n",
      "21307  2.539593e-09  9.997498e-01  0.001534  0.098018  0.002587  0.897860   \n",
      "11177  9.999334e-01  3.494078e-05  0.490324  0.489239  0.013957  0.006479   \n",
      "11064  2.850325e-06  9.999811e-01  0.405573  0.460105  0.001024  0.133299   \n",
      "13474  6.761208e-11  2.336713e-08  0.193539  0.478634  0.065479  0.262348   \n",
      "\n",
      "          label  \n",
      "20805      pain  \n",
      "14382  positive  \n",
      "294      neutro  \n",
      "3285   negative  \n",
      "9283   positive  \n",
      "...         ...  \n",
      "24461  negative  \n",
      "21307  positive  \n",
      "11177      pain  \n",
      "11064  positive  \n",
      "13474    neutro  \n",
      "\n",
      "[5392 rows x 13 columns]\n"
     ]
    }
   ],
   "source": [
    "from sklearn.model_selection import train_test_split\n",
    "\n",
    "training_raw_df, validation_df = train_test_split(train_val_df, test_size=0.2,shuffle=True, stratify=Y)\n",
    "if minus is None:\n",
    "    training_df = pd.concat([training_raw_df, dummy_df], axis=0).reset_index(drop=True);\n",
    "else:\n",
    "    training_df = training_raw_df.copy();\n",
    "\n",
    "\n",
    "print('\\n\\ntraining_df',training_df.shape)\n",
    "print(training_df);\n",
    "\n",
    "\n",
    "print('\\n\\nvalidation_df',validation_df.shape)\n",
    "print(validation_df)"
   ]
  },
  {
   "cell_type": "markdown",
   "id": "ed5189cf-b447-4b0a-b9f3-56f304d6fdde",
   "metadata": {},
   "source": [
    "# Creating output directory"
   ]
  },
  {
   "cell_type": "code",
   "execution_count": 46,
   "id": "7fa3bada",
   "metadata": {},
   "outputs": [],
   "source": [
    "output_dir = os.path.join(output_base_dir,dataset_name,'training_validation_holdout',sub_dir);\n",
    "\n",
    "os.makedirs(output_base_dir,exist_ok = True);\n",
    "\n",
    "os.makedirs(output_dir,exist_ok = True);"
   ]
  },
  {
   "cell_type": "markdown",
   "id": "67beeb38-1ad1-455d-8a71-5900a1e88163",
   "metadata": {},
   "source": [
    "# Data augmentation configuration"
   ]
  },
  {
   "cell_type": "code",
   "execution_count": 47,
   "id": "c2e3e68f-50e7-4f8c-9cd6-ae3261e8f20f",
   "metadata": {},
   "outputs": [
    {
     "name": "stdout",
     "output_type": "stream",
     "text": [
      "train: (51567, 12) (51567,)\n",
      "  val: (5392, 12) (5392,)\n",
      " test: (16658, 12) (16658,)\n"
     ]
    }
   ],
   "source": [
    "\n",
    "training_data_array   = training_df.iloc[:,:-1].values;\n",
    "training_y_label = training_df.iloc[:,-1].values;\n",
    "\n",
    "validation_data_array = validation_df.iloc[:,:-1].values;\n",
    "validation_y_label = validation_df.iloc[:,-1].values;\n",
    "\n",
    "test_data_array = test_df.iloc[:,:-1].values;\n",
    "test_y_label = test_df.iloc[:,-1].values;\n",
    "\n",
    "print('train:',training_data_array.shape, training_y_label.shape)\n",
    "print('  val:',validation_data_array.shape, validation_y_label.shape)\n",
    "print(' test:',test_data_array.shape, test_y_label.shape)"
   ]
  },
  {
   "cell_type": "code",
   "execution_count": 48,
   "id": "79c6a223-d0e3-4f54-9db1-582b07690e4f",
   "metadata": {},
   "outputs": [
    {
     "name": "stdout",
     "output_type": "stream",
     "text": [
      "train: (51567, 12) (51567, 4)\n",
      "  val: (5392, 12) (5392, 4)\n",
      " test: (16658, 12) (16658, 4)\n"
     ]
    }
   ],
   "source": [
    "from sklearn.preprocessing import LabelEncoder\n",
    "from tensorflow.keras.utils import to_categorical\n",
    "\n",
    "label_encoder = LabelEncoder()\n",
    "\n",
    "training_y   = label_encoder.fit_transform(training_y_label)\n",
    "validation_y = label_encoder.fit_transform(validation_y_label)\n",
    "test_y       = label_encoder.fit_transform(test_y_label)\n",
    "\n",
    "training_y_categorical   = to_categorical(training_y)\n",
    "validation_y_categorical = to_categorical(validation_y)\n",
    "test_y_categorical       = to_categorical(test_y)\n",
    "\n",
    "\n",
    "print('train:',training_data_array.shape,training_y_categorical.shape)\n",
    "print('  val:',validation_data_array.shape,validation_y_categorical.shape)\n",
    "print(' test:',test_data_array.shape,test_y_categorical.shape)\n"
   ]
  },
  {
   "cell_type": "markdown",
   "id": "1f1555c7-97f3-4ede-8312-45d74d6008f6",
   "metadata": {},
   "source": [
    "# Create new model"
   ]
  },
  {
   "cell_type": "code",
   "execution_count": 49,
   "id": "424849a4-7762-47ff-8adf-4c9344e58558",
   "metadata": {},
   "outputs": [
    {
     "name": "stdout",
     "output_type": "stream",
     "text": [
      "input_shape (None, 12)\n",
      "output_shape (None, 4)\n",
      "\n",
      "Model: \"sequential\"\n",
      "_________________________________________________________________\n",
      " Layer (type)                Output Shape              Param #   \n",
      "=================================================================\n",
      " dense (Dense)               (None, 15)                195       \n",
      "                                                                 \n",
      " dense_1 (Dense)             (None, 4)                 64        \n",
      "                                                                 \n",
      "=================================================================\n",
      "Total params: 259 (1.01 KB)\n",
      "Trainable params: 259 (1.01 KB)\n",
      "Non-trainable params: 0 (0.00 Byte)\n",
      "_________________________________________________________________\n"
     ]
    },
    {
     "name": "stderr",
     "output_type": "stream",
     "text": [
      "2024-08-09 00:35:40.458887: I external/local_xla/xla/stream_executor/cuda/cuda_executor.cc:998] successful NUMA node read from SysFS had negative value (-1), but there must be at least one NUMA node, so returning NUMA node zero. See more at https://github.com/torvalds/linux/blob/v6.0/Documentation/ABI/testing/sysfs-bus-pci#L344-L355\n",
      "2024-08-09 00:35:40.459250: I external/local_xla/xla/stream_executor/cuda/cuda_executor.cc:998] successful NUMA node read from SysFS had negative value (-1), but there must be at least one NUMA node, so returning NUMA node zero. See more at https://github.com/torvalds/linux/blob/v6.0/Documentation/ABI/testing/sysfs-bus-pci#L344-L355\n",
      "2024-08-09 00:35:40.459494: I external/local_xla/xla/stream_executor/cuda/cuda_executor.cc:998] successful NUMA node read from SysFS had negative value (-1), but there must be at least one NUMA node, so returning NUMA node zero. See more at https://github.com/torvalds/linux/blob/v6.0/Documentation/ABI/testing/sysfs-bus-pci#L344-L355\n",
      "2024-08-09 00:35:40.670539: I external/local_xla/xla/stream_executor/cuda/cuda_executor.cc:998] successful NUMA node read from SysFS had negative value (-1), but there must be at least one NUMA node, so returning NUMA node zero. See more at https://github.com/torvalds/linux/blob/v6.0/Documentation/ABI/testing/sysfs-bus-pci#L344-L355\n",
      "2024-08-09 00:35:40.670894: I external/local_xla/xla/stream_executor/cuda/cuda_executor.cc:998] successful NUMA node read from SysFS had negative value (-1), but there must be at least one NUMA node, so returning NUMA node zero. See more at https://github.com/torvalds/linux/blob/v6.0/Documentation/ABI/testing/sysfs-bus-pci#L344-L355\n",
      "2024-08-09 00:35:40.671194: I external/local_xla/xla/stream_executor/cuda/cuda_executor.cc:998] successful NUMA node read from SysFS had negative value (-1), but there must be at least one NUMA node, so returning NUMA node zero. See more at https://github.com/torvalds/linux/blob/v6.0/Documentation/ABI/testing/sysfs-bus-pci#L344-L355\n",
      "2024-08-09 00:35:40.672152: I tensorflow/core/common_runtime/gpu/gpu_device.cc:1928] Created device /job:localhost/replica:0/task:0/device:GPU:0 with 1737 MB memory:  -> device: 0, name: NVIDIA GeForce MX150, pci bus id: 0000:01:00.0, compute capability: 6.1\n"
     ]
    }
   ],
   "source": [
    "import FusionEmotion4Lib.lib_model as mpp\n",
    "\n",
    "model = mpp.create_model(  load_weights=False,\n",
    "                           file_of_weight='',\n",
    "                           ncod=NCOD,\n",
    "                           minus=minus);\n",
    "\n",
    "print('input_shape',model.input_shape)\n",
    "print('output_shape',model.output_shape)\n",
    "print('')\n",
    "\n",
    "model.summary()\n",
    "\n",
    "mpp.save_model_parameters(model, os.path.join(output_dir,'parameters_stats.m'));"
   ]
  },
  {
   "cell_type": "code",
   "execution_count": 50,
   "id": "c59cdc78-6eba-4cde-995e-cc56d0ed2dd2",
   "metadata": {},
   "outputs": [],
   "source": [
    "# COMPILE NEW MODEL\n",
    "model.compile(loss='categorical_crossentropy',\n",
    "              optimizer='adam',\n",
    "              metrics=['categorical_accuracy'])\n",
    "\n",
    "# CREATE CALLBACKS\n",
    "best_model_file=os.path.join(output_dir,'model_ncod'+str(NCOD)+'.h5');\n",
    "checkpoint = tf.keras.callbacks.ModelCheckpoint(filepath=best_model_file, \n",
    "                                                save_weights_only=True,\n",
    "                                                monitor='val_loss', \n",
    "                                                save_best_only=True, \n",
    "                                                verbose=1);\n",
    "\n",
    "# Definindo o callback EarlyStopping\n",
    "early_stopping = tf.keras.callbacks.EarlyStopping(  monitor='val_loss', \n",
    "                                                    patience=patience,  \n",
    "                                                    verbose=1, \n",
    "                                                    restore_best_weights=False);\n",
    "\n",
    "log_dir = os.path.join(output_dir,\"logs\",\"fit\",datetime.datetime.now().strftime(\"%Y%m%d-%H%M%S\"));\n",
    "tensorboard_callback = tf.keras.callbacks.TensorBoard(log_dir=log_dir, histogram_freq=1)"
   ]
  },
  {
   "cell_type": "code",
   "execution_count": 51,
   "id": "b9f0567f-b59d-43de-b9b2-7f013fb123c8",
   "metadata": {
    "scrolled": true
   },
   "outputs": [
    {
     "name": "stdout",
     "output_type": "stream",
     "text": [
      "Epoch 1/100\n"
     ]
    },
    {
     "name": "stderr",
     "output_type": "stream",
     "text": [
      "WARNING: All log messages before absl::InitializeLog() is called are written to STDERR\n",
      "I0000 00:00:1723174557.827165   12076 service.cc:145] XLA service 0x7180489546b0 initialized for platform CUDA (this does not guarantee that XLA will be used). Devices:\n",
      "I0000 00:00:1723174557.827239   12076 service.cc:153]   StreamExecutor device (0): NVIDIA GeForce MX150, Compute Capability 6.1\n",
      "2024-08-09 00:35:57.847490: I tensorflow/compiler/mlir/tensorflow/utils/dump_mlir_util.cc:268] disabling MLIR crash reproducer, set env var `MLIR_CRASH_REPRODUCER_DIRECTORY` to enable.\n",
      "2024-08-09 00:35:57.908281: I external/local_xla/xla/stream_executor/cuda/cuda_dnn.cc:465] Loaded cuDNN version 8906\n",
      "I0000 00:00:1723174558.023095   12076 device_compiler.h:188] Compiled cluster using XLA!  This line is logged at most once for the lifetime of the process.\n"
     ]
    },
    {
     "name": "stdout",
     "output_type": "stream",
     "text": [
      "48/51 [===========================>..] - ETA: 0s - loss: 1.3389 - categorical_accuracy: 0.3155\n",
      "Epoch 1: val_loss improved from inf to 1.12180, saving model to /media/fernando/Expansion/OUTPUTS/DOCTORADO2/fcnn_emotion4_fusion_1/ber2024-fusion/training_validation_holdout/cls_ncod15/model_ncod15.h5\n",
      "51/51 [==============================] - 17s 20ms/step - loss: 1.3332 - categorical_accuracy: 0.3249 - val_loss: 1.1218 - val_categorical_accuracy: 0.7040\n",
      "Epoch 2/100\n",
      "51/51 [==============================] - ETA: 0s - loss: 1.0948 - categorical_accuracy: 0.7173\n",
      "Epoch 2: val_loss improved from 1.12180 to 0.77453, saving model to /media/fernando/Expansion/OUTPUTS/DOCTORADO2/fcnn_emotion4_fusion_1/ber2024-fusion/training_validation_holdout/cls_ncod15/model_ncod15.h5\n",
      "51/51 [==============================] - 0s 9ms/step - loss: 1.0948 - categorical_accuracy: 0.7173 - val_loss: 0.7745 - val_categorical_accuracy: 0.9494\n",
      "Epoch 3/100\n",
      "49/51 [===========================>..] - ETA: 0s - loss: 0.8568 - categorical_accuracy: 0.9294\n",
      "Epoch 3: val_loss improved from 0.77453 to 0.46448, saving model to /media/fernando/Expansion/OUTPUTS/DOCTORADO2/fcnn_emotion4_fusion_1/ber2024-fusion/training_validation_holdout/cls_ncod15/model_ncod15.h5\n",
      "51/51 [==============================] - 0s 10ms/step - loss: 0.8532 - categorical_accuracy: 0.9303 - val_loss: 0.4645 - val_categorical_accuracy: 0.9694\n",
      "Epoch 4/100\n",
      "46/51 [==========================>...] - ETA: 0s - loss: 0.6434 - categorical_accuracy: 0.9744\n",
      "Epoch 4: val_loss improved from 0.46448 to 0.26966, saving model to /media/fernando/Expansion/OUTPUTS/DOCTORADO2/fcnn_emotion4_fusion_1/ber2024-fusion/training_validation_holdout/cls_ncod15/model_ncod15.h5\n",
      "51/51 [==============================] - 1s 14ms/step - loss: 0.6355 - categorical_accuracy: 0.9749 - val_loss: 0.2697 - val_categorical_accuracy: 0.9724\n",
      "Epoch 5/100\n",
      "49/51 [===========================>..] - ETA: 0s - loss: 0.4794 - categorical_accuracy: 0.9837\n",
      "Epoch 5: val_loss improved from 0.26966 to 0.17244, saving model to /media/fernando/Expansion/OUTPUTS/DOCTORADO2/fcnn_emotion4_fusion_1/ber2024-fusion/training_validation_holdout/cls_ncod15/model_ncod15.h5\n",
      "51/51 [==============================] - 0s 9ms/step - loss: 0.4779 - categorical_accuracy: 0.9837 - val_loss: 0.1724 - val_categorical_accuracy: 0.9739\n",
      "Epoch 6/100\n",
      "48/51 [===========================>..] - ETA: 0s - loss: 0.3747 - categorical_accuracy: 0.9869\n",
      "Epoch 6: val_loss improved from 0.17244 to 0.12563, saving model to /media/fernando/Expansion/OUTPUTS/DOCTORADO2/fcnn_emotion4_fusion_1/ber2024-fusion/training_validation_holdout/cls_ncod15/model_ncod15.h5\n",
      "51/51 [==============================] - 1s 10ms/step - loss: 0.3726 - categorical_accuracy: 0.9871 - val_loss: 0.1256 - val_categorical_accuracy: 0.9757\n",
      "Epoch 7/100\n",
      "48/51 [===========================>..] - ETA: 0s - loss: 0.3001 - categorical_accuracy: 0.9887\n",
      "Epoch 7: val_loss improved from 0.12563 to 0.10303, saving model to /media/fernando/Expansion/OUTPUTS/DOCTORADO2/fcnn_emotion4_fusion_1/ber2024-fusion/training_validation_holdout/cls_ncod15/model_ncod15.h5\n",
      "51/51 [==============================] - 0s 9ms/step - loss: 0.2988 - categorical_accuracy: 0.9887 - val_loss: 0.1030 - val_categorical_accuracy: 0.9764\n",
      "Epoch 8/100\n",
      "47/51 [==========================>...] - ETA: 0s - loss: 0.2475 - categorical_accuracy: 0.9891\n",
      "Epoch 8: val_loss improved from 0.10303 to 0.09242, saving model to /media/fernando/Expansion/OUTPUTS/DOCTORADO2/fcnn_emotion4_fusion_1/ber2024-fusion/training_validation_holdout/cls_ncod15/model_ncod15.h5\n",
      "51/51 [==============================] - 0s 10ms/step - loss: 0.2457 - categorical_accuracy: 0.9895 - val_loss: 0.0924 - val_categorical_accuracy: 0.9766\n",
      "Epoch 9/100\n",
      "48/51 [===========================>..] - ETA: 0s - loss: 0.2070 - categorical_accuracy: 0.9900\n",
      "Epoch 9: val_loss improved from 0.09242 to 0.08795, saving model to /media/fernando/Expansion/OUTPUTS/DOCTORADO2/fcnn_emotion4_fusion_1/ber2024-fusion/training_validation_holdout/cls_ncod15/model_ncod15.h5\n",
      "51/51 [==============================] - 0s 9ms/step - loss: 0.2066 - categorical_accuracy: 0.9900 - val_loss: 0.0879 - val_categorical_accuracy: 0.9768\n",
      "Epoch 10/100\n",
      "46/51 [==========================>...] - ETA: 0s - loss: 0.1789 - categorical_accuracy: 0.9904\n",
      "Epoch 10: val_loss improved from 0.08795 to 0.08647, saving model to /media/fernando/Expansion/OUTPUTS/DOCTORADO2/fcnn_emotion4_fusion_1/ber2024-fusion/training_validation_holdout/cls_ncod15/model_ncod15.h5\n",
      "51/51 [==============================] - 0s 8ms/step - loss: 0.1773 - categorical_accuracy: 0.9905 - val_loss: 0.0865 - val_categorical_accuracy: 0.9776\n",
      "Epoch 11/100\n",
      "44/51 [========================>.....] - ETA: 0s - loss: 0.1560 - categorical_accuracy: 0.9907\n",
      "Epoch 11: val_loss did not improve from 0.08647\n",
      "51/51 [==============================] - 0s 9ms/step - loss: 0.1550 - categorical_accuracy: 0.9906 - val_loss: 0.0866 - val_categorical_accuracy: 0.9776\n",
      "Epoch 12/100\n",
      "48/51 [===========================>..] - ETA: 0s - loss: 0.1382 - categorical_accuracy: 0.9909\n",
      "Epoch 12: val_loss did not improve from 0.08647\n",
      "51/51 [==============================] - 0s 8ms/step - loss: 0.1378 - categorical_accuracy: 0.9908 - val_loss: 0.0876 - val_categorical_accuracy: 0.9777\n",
      "Epoch 13/100\n",
      "46/51 [==========================>...] - ETA: 0s - loss: 0.1250 - categorical_accuracy: 0.9910\n",
      "Epoch 13: val_loss did not improve from 0.08647\n",
      "51/51 [==============================] - 0s 8ms/step - loss: 0.1243 - categorical_accuracy: 0.9910 - val_loss: 0.0892 - val_categorical_accuracy: 0.9777\n",
      "Epoch 14/100\n",
      "48/51 [===========================>..] - ETA: 0s - loss: 0.1136 - categorical_accuracy: 0.9912\n",
      "Epoch 14: val_loss did not improve from 0.08647\n",
      "51/51 [==============================] - 0s 9ms/step - loss: 0.1135 - categorical_accuracy: 0.9912 - val_loss: 0.0907 - val_categorical_accuracy: 0.9779\n",
      "Epoch 15/100\n",
      "48/51 [===========================>..] - ETA: 0s - loss: 0.1055 - categorical_accuracy: 0.9913\n",
      "Epoch 15: val_loss did not improve from 0.08647\n",
      "51/51 [==============================] - 0s 9ms/step - loss: 0.1049 - categorical_accuracy: 0.9912 - val_loss: 0.0924 - val_categorical_accuracy: 0.9776\n",
      "Epoch 16/100\n",
      "45/51 [=========================>....] - ETA: 0s - loss: 0.0974 - categorical_accuracy: 0.9914\n",
      "Epoch 16: val_loss did not improve from 0.08647\n",
      "51/51 [==============================] - 0s 9ms/step - loss: 0.0978 - categorical_accuracy: 0.9913 - val_loss: 0.0942 - val_categorical_accuracy: 0.9772\n",
      "Epoch 17/100\n",
      "46/51 [==========================>...] - ETA: 0s - loss: 0.0923 - categorical_accuracy: 0.9915\n",
      "Epoch 17: val_loss did not improve from 0.08647\n",
      "51/51 [==============================] - 1s 17ms/step - loss: 0.0920 - categorical_accuracy: 0.9914 - val_loss: 0.0957 - val_categorical_accuracy: 0.9776\n",
      "Epoch 18/100\n",
      "44/51 [========================>.....] - ETA: 0s - loss: 0.0878 - categorical_accuracy: 0.9914\n",
      "Epoch 18: val_loss did not improve from 0.08647\n",
      "51/51 [==============================] - 1s 12ms/step - loss: 0.0871 - categorical_accuracy: 0.9914 - val_loss: 0.0972 - val_categorical_accuracy: 0.9779\n",
      "Epoch 19/100\n",
      "51/51 [==============================] - ETA: 0s - loss: 0.0831 - categorical_accuracy: 0.9915\n",
      "Epoch 19: val_loss did not improve from 0.08647\n",
      "51/51 [==============================] - 1s 11ms/step - loss: 0.0831 - categorical_accuracy: 0.9915 - val_loss: 0.0984 - val_categorical_accuracy: 0.9776\n",
      "Epoch 20/100\n",
      "51/51 [==============================] - ETA: 0s - loss: 0.0796 - categorical_accuracy: 0.9915\n",
      "Epoch 20: val_loss did not improve from 0.08647\n",
      "51/51 [==============================] - 1s 16ms/step - loss: 0.0796 - categorical_accuracy: 0.9915 - val_loss: 0.0996 - val_categorical_accuracy: 0.9779\n",
      "Epoch 21/100\n",
      "51/51 [==============================] - ETA: 0s - loss: 0.0766 - categorical_accuracy: 0.9915\n",
      "Epoch 21: val_loss did not improve from 0.08647\n",
      "51/51 [==============================] - 1s 11ms/step - loss: 0.0766 - categorical_accuracy: 0.9915 - val_loss: 0.1007 - val_categorical_accuracy: 0.9779\n",
      "Epoch 22/100\n",
      "48/51 [===========================>..] - ETA: 0s - loss: 0.0743 - categorical_accuracy: 0.9915\n",
      "Epoch 22: val_loss did not improve from 0.08647\n",
      "51/51 [==============================] - 1s 10ms/step - loss: 0.0741 - categorical_accuracy: 0.9915 - val_loss: 0.1018 - val_categorical_accuracy: 0.9779\n",
      "Epoch 23/100\n",
      "45/51 [=========================>....] - ETA: 0s - loss: 0.0707 - categorical_accuracy: 0.9918\n",
      "Epoch 23: val_loss did not improve from 0.08647\n",
      "51/51 [==============================] - 1s 12ms/step - loss: 0.0718 - categorical_accuracy: 0.9915 - val_loss: 0.1026 - val_categorical_accuracy: 0.9781\n",
      "Epoch 24/100\n",
      "48/51 [===========================>..] - ETA: 0s - loss: 0.0701 - categorical_accuracy: 0.9915\n",
      "Epoch 24: val_loss did not improve from 0.08647\n",
      "51/51 [==============================] - 0s 10ms/step - loss: 0.0699 - categorical_accuracy: 0.9916 - val_loss: 0.1034 - val_categorical_accuracy: 0.9781\n",
      "Epoch 25/100\n",
      "51/51 [==============================] - ETA: 0s - loss: 0.0681 - categorical_accuracy: 0.9916\n",
      "Epoch 25: val_loss did not improve from 0.08647\n",
      "51/51 [==============================] - 0s 10ms/step - loss: 0.0681 - categorical_accuracy: 0.9916 - val_loss: 0.1041 - val_categorical_accuracy: 0.9781\n",
      "Epoch 26/100\n",
      "47/51 [==========================>...] - ETA: 0s - loss: 0.0674 - categorical_accuracy: 0.9916\n",
      "Epoch 26: val_loss did not improve from 0.08647\n",
      "51/51 [==============================] - 0s 9ms/step - loss: 0.0666 - categorical_accuracy: 0.9916 - val_loss: 0.1048 - val_categorical_accuracy: 0.9777\n",
      "Epoch 27/100\n",
      "47/51 [==========================>...] - ETA: 0s - loss: 0.0651 - categorical_accuracy: 0.9916\n",
      "Epoch 27: val_loss did not improve from 0.08647\n",
      "51/51 [==============================] - 1s 10ms/step - loss: 0.0652 - categorical_accuracy: 0.9916 - val_loss: 0.1055 - val_categorical_accuracy: 0.9776\n",
      "Epoch 28/100\n",
      "46/51 [==========================>...] - ETA: 0s - loss: 0.0648 - categorical_accuracy: 0.9917\n",
      "Epoch 28: val_loss did not improve from 0.08647\n",
      "51/51 [==============================] - 0s 10ms/step - loss: 0.0639 - categorical_accuracy: 0.9917 - val_loss: 0.1058 - val_categorical_accuracy: 0.9777\n",
      "Epoch 29/100\n",
      "45/51 [=========================>....] - ETA: 0s - loss: 0.0637 - categorical_accuracy: 0.9914\n",
      "Epoch 29: val_loss did not improve from 0.08647\n",
      "51/51 [==============================] - 0s 9ms/step - loss: 0.0628 - categorical_accuracy: 0.9916 - val_loss: 0.1063 - val_categorical_accuracy: 0.9777\n",
      "Epoch 30/100\n",
      "48/51 [===========================>..] - ETA: 0s - loss: 0.0623 - categorical_accuracy: 0.9917\n",
      "Epoch 30: val_loss did not improve from 0.08647\n",
      "51/51 [==============================] - 0s 9ms/step - loss: 0.0618 - categorical_accuracy: 0.9918 - val_loss: 0.1066 - val_categorical_accuracy: 0.9779\n",
      "Epoch 30: early stopping\n"
     ]
    }
   ],
   "source": [
    "# FIT THE MODEL\n",
    "history = model.fit(training_data_array,training_y_categorical,\n",
    "                    epochs=EPOCAS,\n",
    "                    batch_size=BATCH_SIZE,\n",
    "                    validation_data=(validation_data_array,validation_y_categorical),\n",
    "                    callbacks=[checkpoint,early_stopping,tensorboard_callback],\n",
    "                    verbose=1\n",
    "                   );"
   ]
  },
  {
   "cell_type": "code",
   "execution_count": 52,
   "id": "29ed98f1-5e63-4cc3-9425-c9498d0eb68b",
   "metadata": {},
   "outputs": [
    {
     "name": "stdout",
     "output_type": "stream",
     "text": [
      "max_val_acc 0.9781157374382019\n"
     ]
    },
    {
     "data": {
      "image/png": "[encoded data removed]",
      "text/plain": [
       "<Figure size 1600x800 with 2 Axes>"
      ]
     },
     "metadata": {},
     "output_type": "display_data"
    }
   ],
   "source": [
    "mpp.save_model_history(history,\n",
    "                       os.path.join(output_dir,\"historical.csv\"),\n",
    "                       show=False,\n",
    "                       labels=['categorical_accuracy','loss']);"
   ]
  },
  {
   "cell_type": "code",
   "execution_count": 53,
   "id": "d6bff659-35f6-444f-b889-8cd0bbf636d0",
   "metadata": {},
   "outputs": [
    {
     "name": "stdout",
     "output_type": "stream",
     "text": [
      "1612/1612 [==============================] - 4s 2ms/step - loss: 0.1649 - categorical_accuracy: 0.9905\n",
      "training {'loss': 0.1648501455783844, 'categorical_accuracy': 0.9904783964157104} \n",
      "\n",
      "\n",
      "169/169 [==============================] - 0s 2ms/step - loss: 0.0865 - categorical_accuracy: 0.9776\n",
      "validation {'loss': 0.08647266030311584, 'categorical_accuracy': 0.9775593280792236} \n",
      "\n",
      "\n",
      "521/521 [==============================] - 2s 3ms/step - loss: 0.1264 - categorical_accuracy: 0.9685\n",
      "testing {'loss': 0.12638325989246368, 'categorical_accuracy': 0.9684836268424988} \n",
      "\n",
      "\n"
     ]
    }
   ],
   "source": [
    "# LOAD BEST MODEL to evaluate the performance of the model\n",
    "model.load_weights(best_model_file);\n",
    "data_results=dict();\n",
    "\n",
    "# Evaluate training\n",
    "results = model.evaluate(training_data_array,training_y_categorical)\n",
    "results = dict(zip(model.metrics_names,results))\n",
    "print('training',results,\"\\n\\n\");\n",
    "for key,value in results.items():\n",
    "    data_results['train_'+key]=value;\n",
    "\n",
    "# Evaluate validation\n",
    "results = model.evaluate(validation_data_array,validation_y_categorical)\n",
    "results = dict(zip(model.metrics_names,results))\n",
    "print('validation',results,\"\\n\\n\");\n",
    "for key,value in results.items():\n",
    "    data_results['val_'+key]=value;\n",
    "\n",
    "# Evaluate testing\n",
    "results = model.evaluate(test_data_array,test_y_categorical)\n",
    "results = dict(zip(model.metrics_names,results))\n",
    "print('testing',results,\"\\n\\n\");\n",
    "for key,value in results.items():\n",
    "    data_results['test_'+key]=value;\n",
    "\n",
    "data_results['number_of_parameters']=mpp.get_model_parameters(model);\n",
    "data_results['ncod']=NCOD;\n",
    "data_results['epochs']=EPOCAS;\n",
    "data_results['patience']=patience;\n",
    "data_results['seed']=seed_number;\n",
    "\n",
    "# final all json\n",
    "with open(os.path.join(output_dir,\"training_data_results.json\"), 'w') as f:\n",
    "    json.dump(data_results, f,indent=4);\n",
    "\n",
    "tf.keras.backend.clear_session()"
   ]
  },
  {
   "cell_type": "code",
   "execution_count": 54,
   "id": "6fa36ac3-a1b0-459f-b46e-681c993968ff",
   "metadata": {},
   "outputs": [
    {
     "name": "stdout",
     "output_type": "stream",
     "text": [
      "521/521 [==============================] - 1s 2ms/step\n",
      "Categorical accuracy: 0.9684836114779686\n",
      "{\n",
      "    \"negative\": {\n",
      "        \"precision\": 0.9463150459147633,\n",
      "        \"recall\": 0.9553125742809603,\n",
      "        \"f1-score\": 0.9507925242488763,\n",
      "        \"support\": 4207.0\n",
      "    },\n",
      "    \"neutral\": {\n",
      "        \"precision\": 0.9622988505747126,\n",
      "        \"recall\": 0.9410971223021583,\n",
      "        \"f1-score\": 0.9515799045237554,\n",
      "        \"support\": 4448.0\n",
      "    },\n",
      "    \"pain\": {\n",
      "        \"precision\": 0.9753054989816701,\n",
      "        \"recall\": 0.9917162826818535,\n",
      "        \"f1-score\": 0.9834424335772045,\n",
      "        \"support\": 3863.0\n",
      "    },\n",
      "    \"positive\": {\n",
      "        \"precision\": 0.9912896201306557,\n",
      "        \"recall\": 0.9896135265700483,\n",
      "        \"f1-score\": 0.9904508642572223,\n",
      "        \"support\": 4140.0\n",
      "    },\n",
      "    \"accuracy\": 0.9684836114779686,\n",
      "    \"macro avg\": {\n",
      "        \"precision\": 0.9688022539004505,\n",
      "        \"recall\": 0.969434876458755,\n",
      "        \"f1-score\": 0.9690664316517646,\n",
      "        \"support\": 16658.0\n",
      "    },\n",
      "    \"weighted avg\": {\n",
      "        \"precision\": 0.9684834227054171,\n",
      "        \"recall\": 0.9684836114779686,\n",
      "        \"f1-score\": 0.9684305597172727,\n",
      "        \"support\": 16658.0\n",
      "    }\n",
      "}\n"
     ]
    },
    {
     "data": {
      "image/png": "[encoded data removed]",
      "text/plain": [
       "<Figure size 800x600 with 2 Axes>"
      ]
     },
     "metadata": {},
     "output_type": "display_data"
    }
   ],
   "source": [
    "from sklearn.metrics import classification_report,confusion_matrix\n",
    "from sklearn.metrics import ConfusionMatrixDisplay\n",
    "import matplotlib.pyplot as plt\n",
    "\n",
    "target_names = ['negative','neutral','pain','positive'];\n",
    "\n",
    "# Predict\n",
    "Y_pred = model.predict(test_data_array,verbose=1);\n",
    "y_pred = np.argmax(Y_pred, axis=1);\n",
    "\n",
    "# Calculate accuracy\n",
    "categorical_accuracy = np.mean(test_y == y_pred);\n",
    "print(f'Categorical accuracy: {categorical_accuracy}');\n",
    "\n",
    "# Confusion matrix\n",
    "CM=confusion_matrix(test_y, y_pred);\n",
    "\n",
    "fname=os.path.join(output_dir,\"confusion_matrix.eps\");\n",
    "fig, ax = plt.subplots(figsize=(8,6), dpi=100)\n",
    "disp = ConfusionMatrixDisplay(confusion_matrix=CM, display_labels=target_names)\n",
    "disp.plot(ax=ax,cmap=plt.cm.Blues)\n",
    "plt.savefig(fname)\n",
    "\n",
    "cm_dict=dict();\n",
    "cm_dict['matrix']=CM.tolist();\n",
    "cm_dict['label']=target_names;\n",
    "# final all json\n",
    "with open(os.path.join(output_dir,\"confusion_matrix.json\"), 'w') as f:\n",
    "    json.dump(cm_dict, f,indent=4);\n",
    "    f.close()\n",
    "\n",
    "# Classification report\n",
    "fname=os.path.join(output_dir,\"classification_report.json\")\n",
    "dict_dat=classification_report(test_y, y_pred, target_names=target_names,output_dict=True);\n",
    "print(json.dumps(dict_dat, indent=4))\n",
    "with open(fname, 'w') as f: \n",
    "    json.dump(dict_dat, f,indent=4);\n",
    "    f.close()"
   ]
  }
 ],
 "metadata": {
  "kernelspec": {
   "display_name": "Python 3 (ipykernel)",
   "language": "python",
   "name": "python3"
  },
  "language_info": {
   "codemirror_mode": {
    "name": "ipython",
    "version": 3
   },
   "file_extension": ".py",
   "mimetype": "text/x-python",
   "name": "python",
   "nbconvert_exporter": "python",
   "pygments_lexer": "ipython3",
   "version": "3.10.12"
  }
 },
 "nbformat": 4,
 "nbformat_minor": 5
}
