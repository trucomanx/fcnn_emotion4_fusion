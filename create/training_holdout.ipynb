{
 "cells": [
  {
   "cell_type": "code",
   "execution_count": 1,
   "id": "7d874f9f",
   "metadata": {},
   "outputs": [],
   "source": [
    "import os\n",
    "#os.environ['TF_GPU_ALLOCATOR'] = 'cuda_malloc_async'\n",
    "\n",
    "os.environ['TF_USE_LEGACY_KERAS'] = '1';"
   ]
  },
  {
   "cell_type": "code",
   "execution_count": 3,
   "id": "8c38da82",
   "metadata": {},
   "outputs": [],
   "source": [
    "input_default_json_conf_file='fcnn_emotion4_training_default.json';"
   ]
  },
  {
   "cell_type": "code",
   "execution_count": 4,
   "id": "3410f40c-893b-449d-b024-7781e0d76733",
   "metadata": {},
   "outputs": [],
   "source": [
    "import numpy as np\n",
    "import pandas as pd\n",
    "import tensorflow as tf\n",
    "import datetime\n",
    "import json"
   ]
  },
  {
   "cell_type": "code",
   "execution_count": 5,
   "id": "d4ce46fc-8392-4e0b-a820-3ce426fcc7ba",
   "metadata": {},
   "outputs": [],
   "source": [
    "import sys\n",
    "sys.path.append('../library');"
   ]
  },
  {
   "cell_type": "code",
   "execution_count": 6,
   "id": "d770d436",
   "metadata": {},
   "outputs": [
    {
     "name": "stdout",
     "output_type": "stream",
     "text": [
      "Num GPUs Available:  1\n"
     ]
    }
   ],
   "source": [
    "print(\"Num GPUs Available: \", len(tf.config.list_physical_devices('GPU')))"
   ]
  },
  {
   "cell_type": "code",
   "execution_count": 7,
   "id": "00acb00f",
   "metadata": {},
   "outputs": [],
   "source": [
    "## Load json conf json file\n",
    "fd = open(os.path.join('./',input_default_json_conf_file));\n",
    "DATA = json.load(fd);\n",
    "fd.close()"
   ]
  },
  {
   "cell_type": "markdown",
   "id": "13b0f452-3278-49c0-9601-c8a443dbc32b",
   "metadata": {},
   "source": [
    "# Variable globales"
   ]
  },
  {
   "cell_type": "code",
   "execution_count": 8,
   "id": "d83c3fa6-dbbb-4644-a12f-e497f971a446",
   "metadata": {},
   "outputs": [],
   "source": [
    "## Seed for the random variables\n",
    "seed_number=0;\n",
    "\n",
    "## Dataset \n",
    "dataset_base_dir    = DATA['dataset_train_base_dir'];\n",
    "dataset_labels_file = DATA['dataset_train_labels_file'];\n",
    "\n",
    "dataset_base_test_dir    = DATA['dataset_test_base_dir'];\n",
    "dataset_labels_test_file = DATA['dataset_test_labels_file'];\n",
    "\n",
    "dataset_name        = DATA['dataset_name'];\n",
    "\n",
    "## Training hyperparameters\n",
    "EPOCAS     = DATA[\"epochs\"];\n",
    "BATCH_SIZE = DATA[\"batch_size\"];\n",
    "\n",
    "\n",
    "## Output\n",
    "output_base_dir = DATA[\"output_base_dir\"];\n",
    "\n",
    "patience=max(10,int(EPOCAS/5));\n",
    "NCOD=15;\n"
   ]
  },
  {
   "cell_type": "markdown",
   "id": "65186ce7",
   "metadata": {},
   "source": [
    "# Parametros de entrada"
   ]
  },
  {
   "cell_type": "code",
   "execution_count": 9,
   "id": "8a1d31d1",
   "metadata": {},
   "outputs": [
    {
     "name": "stdout",
     "output_type": "stream",
     "text": [
      "        dataset_base_dir: /media/fernando/Expansion/DATASET/TESE/BER/BER2024/BER2024-FUSION/ber2024-source/efficientnet_b3_efficientnet_b3_ncod20\n",
      "     dataset_labels_file: train.csv\n",
      "   dataset_base_test_dir: /media/fernando/Expansion/DATASET/TESE/BER/BER2024/BER2024-FUSION/ber2024-source/efficientnet_b3_efficientnet_b3_ncod20\n",
      "dataset_labels_test_file: test.csv\n",
      "            dataset_name: ber2024-fusion\n",
      "                  EPOCAS: 100\n",
      "              BATCH_SIZE: 2048\n",
      "                    NCOD: 15\n",
      "                patience: 20\n",
      "             seed_number: 0\n",
      "         output_base_dir: /media/fernando/Expansion/OUTPUTS/DOCTORADO2/fcnn_emotion4_fusion_1\n"
     ]
    }
   ],
   "source": [
    "for n in range(len(sys.argv)):\n",
    "    if sys.argv[n]=='--dataset-train-dir':\n",
    "        dataset_base_dir=sys.argv[n+1];\n",
    "    elif sys.argv[n]=='--dataset-train-file':\n",
    "        dataset_labels_file=sys.argv[n+1];\n",
    "    elif sys.argv[n]=='--dataset-test-dir':\n",
    "        dataset_base_test_dir=sys.argv[n+1];\n",
    "    elif sys.argv[n]=='--dataset-test-file':\n",
    "        dataset_labels_test_file=sys.argv[n+1];\n",
    "    elif sys.argv[n]=='--dataset-name':\n",
    "        dataset_name=sys.argv[n+1];\n",
    "    elif sys.argv[n]=='--epochs':\n",
    "        EPOCAS=int(sys.argv[n+1]);\n",
    "    elif sys.argv[n]=='--batch-size':\n",
    "        BATCH_SIZE=int(sys.argv[n+1]);\n",
    "    elif sys.argv[n]=='--ncod':\n",
    "        NCOD=int(sys.argv[n+1]);\n",
    "    elif sys.argv[n]=='--patience':\n",
    "        patience=int(sys.argv[n+1]);\n",
    "    elif sys.argv[n]=='--seed':\n",
    "        seed_number=int(sys.argv[n+1]);\n",
    "    elif sys.argv[n]=='--output-dir':\n",
    "        output_base_dir=sys.argv[n+1];\n",
    "        \n",
    "print('        dataset_base_dir:',dataset_base_dir)\n",
    "print('     dataset_labels_file:',dataset_labels_file)\n",
    "print('   dataset_base_test_dir:',dataset_base_test_dir)\n",
    "print('dataset_labels_test_file:',dataset_labels_test_file)\n",
    "print('            dataset_name:',dataset_name)\n",
    "print('                  EPOCAS:',EPOCAS)\n",
    "print('              BATCH_SIZE:',BATCH_SIZE)\n",
    "print('                    NCOD:',NCOD)\n",
    "print('                patience:',patience)\n",
    "print('             seed_number:',seed_number)\n",
    "print('         output_base_dir:',output_base_dir)"
   ]
  },
  {
   "cell_type": "markdown",
   "id": "99d1dee5-778a-4fd9-80de-90620bb33128",
   "metadata": {},
   "source": [
    "# Set seed of random variables\n"
   ]
  },
  {
   "cell_type": "code",
   "execution_count": 10,
   "id": "6ddef12f-6604-4c71-9473-15f328e954dd",
   "metadata": {},
   "outputs": [],
   "source": [
    "np.random.seed(seed_number)\n",
    "tf.keras.utils.set_random_seed(seed_number);"
   ]
  },
  {
   "cell_type": "markdown",
   "id": "28a59004-739e-4760-bd91-ee3808207e3e",
   "metadata": {},
   "source": [
    "# Loading data of dataset"
   ]
  },
  {
   "cell_type": "code",
   "execution_count": 11,
   "id": "1abe0e9b-ee46-40d8-97c3-12a1efc0cd1a",
   "metadata": {},
   "outputs": [
    {
     "name": "stdout",
     "output_type": "stream",
     "text": [
      "\n",
      "\n",
      "test_df\n",
      "             d0        d1        d2        d3            d4            d5  \\\n",
      "0      0.000686  0.998839  0.000349  0.000126  1.989638e-05  9.997572e-01   \n",
      "1      0.999747  0.000154  0.000078  0.000022  9.999405e-01  5.823886e-05   \n",
      "2      0.000036  0.000102  0.000191  0.999670  5.370393e-07  1.223157e-06   \n",
      "3      0.007865  0.991319  0.000236  0.000579  5.689665e-02  9.430852e-01   \n",
      "4      0.000047  0.000282  0.000154  0.999517  6.336613e-06  7.395937e-05   \n",
      "...         ...       ...       ...       ...           ...           ...   \n",
      "16653  0.000441  0.999499  0.000023  0.000037  7.283359e-05  9.999247e-01   \n",
      "16654  0.006311  0.993072  0.000470  0.000147  2.958973e-03  9.970395e-01   \n",
      "16655  0.000197  0.000046  0.999420  0.000337  2.487195e-05  7.110825e-07   \n",
      "16656  0.198577  0.799782  0.001604  0.000037  6.360198e-02  9.363549e-01   \n",
      "16657  0.000017  0.000121  0.000156  0.999707  9.749557e-03  2.710924e-02   \n",
      "\n",
      "                 d6            d7        d8        d9       d10       d11  \\\n",
      "0      8.731121e-05  1.355198e-04  0.698122  0.178350  0.097385  0.026143   \n",
      "1      2.919172e-11  1.213780e-06  0.100934  0.053261  0.000473  0.845332   \n",
      "2      1.740726e-06  9.999964e-01  0.029880  0.025689  0.000023  0.944408   \n",
      "3      8.183360e-08  1.805722e-05  0.483954  0.386169  0.000119  0.129758   \n",
      "4      2.000081e-05  9.998996e-01  0.434757  0.221319  0.000032  0.343892   \n",
      "...             ...           ...       ...       ...       ...       ...   \n",
      "16653  1.625708e-06  8.960983e-07  0.001509  0.987823  0.004670  0.005999   \n",
      "16654  2.444364e-07  1.293126e-06  0.032181  0.497086  0.000423  0.470310   \n",
      "16655  9.999663e-01  8.154845e-06  0.063303  0.002049  0.932050  0.002598   \n",
      "16656  5.470350e-06  3.758280e-05  0.386832  0.257217  0.038219  0.317731   \n",
      "16657  1.584141e-03  9.615570e-01  0.000692  0.096912  0.001261  0.901134   \n",
      "\n",
      "          label  \n",
      "0        neutro  \n",
      "1      negative  \n",
      "2      positive  \n",
      "3        neutro  \n",
      "4      positive  \n",
      "...         ...  \n",
      "16653    neutro  \n",
      "16654    neutro  \n",
      "16655      pain  \n",
      "16656    neutro  \n",
      "16657  positive  \n",
      "\n",
      "[16658 rows x 13 columns]\n"
     ]
    }
   ],
   "source": [
    "# Load filenames and labels\n",
    "train_val_df = pd.read_csv(os.path.join(dataset_base_dir,dataset_labels_file));\n",
    "#print(train_val_df)\n",
    "\n",
    "# Setting labels\n",
    "Y = train_val_df[['label']];\n",
    "L=np.shape(Y)[0];\n",
    "\n",
    "# Load test filenames and labels\n",
    "test_df = pd.read_csv(os.path.join(dataset_base_test_dir,dataset_labels_test_file));\n",
    "\n",
    "print('\\n\\ntest_df')\n",
    "print(test_df)\n"
   ]
  },
  {
   "cell_type": "markdown",
   "id": "86da712f-5937-4965-9623-82c4ee139297",
   "metadata": {},
   "source": [
    "# Setting the cross-validation split\n"
   ]
  },
  {
   "cell_type": "code",
   "execution_count": 12,
   "id": "dcab2262-3467-4ee3-86a8-9eda4f5ff726",
   "metadata": {},
   "outputs": [
    {
     "name": "stdout",
     "output_type": "stream",
     "text": [
      "\n",
      "\n",
      "training_df\n",
      "             d0        d1        d2        d3        d4            d5  \\\n",
      "17428  0.023349  0.975039  0.001465  0.000147  0.000480  9.995130e-01   \n",
      "7726   0.004407  0.000271  0.993413  0.001908  0.072003  9.962386e-04   \n",
      "12214  0.998762  0.000832  0.000368  0.000038  0.000788  4.939562e-03   \n",
      "19469  0.000169  0.000054  0.997674  0.002102  0.000023  2.384938e-08   \n",
      "13030  0.000195  0.000050  0.996027  0.003728  0.000011  3.453166e-07   \n",
      "...         ...       ...       ...       ...       ...           ...   \n",
      "11949  0.000157  0.000058  0.998835  0.000949  0.000011  8.207031e-07   \n",
      "14841  0.000213  0.999638  0.000069  0.000080  0.000025  9.999744e-01   \n",
      "21853  0.000029  0.000114  0.000054  0.999802  0.000006  1.854480e-04   \n",
      "15222  0.000196  0.000049  0.996096  0.003659  0.000160  3.900910e-05   \n",
      "57     0.000195  0.000049  0.996158  0.003598  0.000002  1.026813e-07   \n",
      "\n",
      "                 d6            d7        d8        d9       d10       d11  \\\n",
      "17428  4.485263e-10  6.916557e-06  0.251752  0.601507  0.000951  0.145790   \n",
      "7726   9.268660e-01  1.348780e-04  0.085412  0.117470  0.796995  0.000123   \n",
      "12214  9.942469e-01  2.608929e-05  0.001479  0.000793  0.819815  0.177912   \n",
      "19469  9.999753e-01  1.457297e-06  0.020200  0.010166  0.968992  0.000643   \n",
      "13030  9.999447e-01  4.382384e-05  0.001732  0.000255  0.998001  0.000011   \n",
      "...             ...           ...       ...       ...       ...       ...   \n",
      "11949  9.999876e-01  5.202398e-07  0.167776  0.246113  0.509094  0.077018   \n",
      "14841  2.267178e-15  1.998780e-07  0.177549  0.758976  0.000381  0.063094   \n",
      "21853  3.576334e-05  9.997724e-01  0.047737  0.087833  0.000175  0.864255   \n",
      "15222  9.997966e-01  4.214920e-06  0.002150  0.816718  0.065074  0.116058   \n",
      "57     9.999970e-01  1.281802e-06  0.001026  0.001203  0.996185  0.001585   \n",
      "\n",
      "          label  \n",
      "17428    neutro  \n",
      "7726       pain  \n",
      "12214      pain  \n",
      "19469      pain  \n",
      "13030      pain  \n",
      "...         ...  \n",
      "11949      pain  \n",
      "14841    neutro  \n",
      "21853  positive  \n",
      "15222      pain  \n",
      "57         pain  \n",
      "\n",
      "[21567 rows x 13 columns]\n",
      "\n",
      "\n",
      "validation_df\n",
      "             d0        d1        d2        d3            d4        d5  \\\n",
      "20805  0.000116  0.000070  0.999358  0.000456  3.765154e-03  0.000008   \n",
      "14382  0.000068  0.000119  0.000326  0.999487  4.569188e-07  0.000055   \n",
      "294    0.003103  0.008602  0.987888  0.000407  2.081309e-03  0.976165   \n",
      "3285   0.999747  0.000154  0.000078  0.000022  9.987982e-01  0.001200   \n",
      "9283   0.000428  0.000663  0.000152  0.998757  8.432626e-05  0.000036   \n",
      "...         ...       ...       ...       ...           ...       ...   \n",
      "24461  0.933990  0.065025  0.000447  0.000537  9.991416e-01  0.000858   \n",
      "21307  0.000035  0.000102  0.000058  0.999806  2.271670e-06  0.000248   \n",
      "11177  0.000196  0.000049  0.996096  0.003659  2.232149e-05  0.000009   \n",
      "11064  0.000026  0.000105  0.000056  0.999813  1.828267e-06  0.000014   \n",
      "13474  0.000441  0.999499  0.000023  0.000037  5.674854e-06  0.999994   \n",
      "\n",
      "                 d6            d7        d8        d9       d10       d11  \\\n",
      "20805  9.958519e-01  3.749584e-04  0.136651  0.008595  0.776414  0.078340   \n",
      "14382  2.380397e-11  9.999442e-01  0.021601  0.118612  0.025500  0.834287   \n",
      "294    2.168387e-02  6.974080e-05  0.122343  0.008352  0.779574  0.089731   \n",
      "3285   2.132720e-07  1.446428e-06  0.712370  0.196048  0.036274  0.055309   \n",
      "9283   5.535231e-09  9.998800e-01  0.374545  0.062192  0.003120  0.560143   \n",
      "...             ...           ...       ...       ...       ...       ...   \n",
      "24461  2.960846e-08  4.841140e-07  0.338753  0.381956  0.004842  0.274449   \n",
      "21307  2.539593e-09  9.997498e-01  0.001534  0.098018  0.002587  0.897860   \n",
      "11177  9.999334e-01  3.494078e-05  0.490324  0.489239  0.013957  0.006479   \n",
      "11064  2.850325e-06  9.999811e-01  0.405573  0.460105  0.001024  0.133299   \n",
      "13474  6.761208e-11  2.336713e-08  0.193539  0.478634  0.065479  0.262348   \n",
      "\n",
      "          label  \n",
      "20805      pain  \n",
      "14382  positive  \n",
      "294      neutro  \n",
      "3285   negative  \n",
      "9283   positive  \n",
      "...         ...  \n",
      "24461  negative  \n",
      "21307  positive  \n",
      "11177      pain  \n",
      "11064  positive  \n",
      "13474    neutro  \n",
      "\n",
      "[5392 rows x 13 columns]\n"
     ]
    }
   ],
   "source": [
    "from sklearn.model_selection import train_test_split\n",
    "\n",
    "training_df, validation_df = train_test_split(train_val_df, test_size=0.2,shuffle=True, stratify=Y)\n",
    "\n",
    "print('\\n\\ntraining_df')\n",
    "print(training_df);\n",
    "\n",
    "\n",
    "print('\\n\\nvalidation_df')\n",
    "print(validation_df)"
   ]
  },
  {
   "cell_type": "markdown",
   "id": "ed5189cf-b447-4b0a-b9f3-56f304d6fdde",
   "metadata": {},
   "source": [
    "# Creating output directory"
   ]
  },
  {
   "cell_type": "code",
   "execution_count": 13,
   "id": "7fa3bada",
   "metadata": {},
   "outputs": [],
   "source": [
    "output_dir = os.path.join(output_base_dir,dataset_name,'training_validation_holdout','cls_ncod'+str(NCOD));\n",
    "\n",
    "os.makedirs(output_base_dir,exist_ok = True);\n",
    "\n",
    "os.makedirs(output_dir,exist_ok = True);"
   ]
  },
  {
   "cell_type": "markdown",
   "id": "67beeb38-1ad1-455d-8a71-5900a1e88163",
   "metadata": {},
   "source": [
    "# Data augmentation configuration"
   ]
  },
  {
   "cell_type": "code",
   "execution_count": 14,
   "id": "c2e3e68f-50e7-4f8c-9cd6-ae3261e8f20f",
   "metadata": {},
   "outputs": [
    {
     "name": "stdout",
     "output_type": "stream",
     "text": [
      "train: (21567, 12) (21567,)\n",
      "  val: (5392, 12) (5392,)\n",
      " test: (16658, 12) (16658,)\n"
     ]
    }
   ],
   "source": [
    "\n",
    "training_data_array   = training_df.iloc[:,0:12].values;\n",
    "training_y_label = training_df.iloc[:,12].values;\n",
    "\n",
    "validation_data_array = validation_df.iloc[:,0:12].values;\n",
    "validation_y_label = validation_df.iloc[:,12].values;\n",
    "\n",
    "test_data_array = test_df.iloc[:,0:12].values;\n",
    "test_y_label = test_df.iloc[:,12].values;\n",
    "\n",
    "print('train:',training_data_array.shape, training_y_label.shape)\n",
    "print('  val:',validation_data_array.shape, validation_y_label.shape)\n",
    "print(' test:',test_data_array.shape, test_y_label.shape)"
   ]
  },
  {
   "cell_type": "code",
   "execution_count": 15,
   "id": "79c6a223-d0e3-4f54-9db1-582b07690e4f",
   "metadata": {},
   "outputs": [
    {
     "name": "stdout",
     "output_type": "stream",
     "text": [
      "train: (21567, 12) (21567, 4)\n",
      "  val: (5392, 12) (5392, 4)\n",
      " test: (16658, 12) (16658, 4)\n"
     ]
    }
   ],
   "source": [
    "from sklearn.preprocessing import LabelEncoder\n",
    "from tensorflow.keras.utils import to_categorical\n",
    "\n",
    "label_encoder = LabelEncoder()\n",
    "\n",
    "training_y   = label_encoder.fit_transform(training_y_label)\n",
    "validation_y = label_encoder.fit_transform(validation_y_label)\n",
    "test_y       = label_encoder.fit_transform(test_y_label)\n",
    "\n",
    "training_y_categorical   = to_categorical(training_y)\n",
    "validation_y_categorical = to_categorical(validation_y)\n",
    "test_y_categorical       = to_categorical(test_y)\n",
    "\n",
    "\n",
    "print('train:',training_data_array.shape,training_y_categorical.shape)\n",
    "print('  val:',validation_data_array.shape,validation_y_categorical.shape)\n",
    "print(' test:',test_data_array.shape,test_y_categorical.shape)\n"
   ]
  },
  {
   "cell_type": "markdown",
   "id": "1f1555c7-97f3-4ede-8312-45d74d6008f6",
   "metadata": {},
   "source": [
    "# Create new model"
   ]
  },
  {
   "cell_type": "code",
   "execution_count": 16,
   "id": "424849a4-7762-47ff-8adf-4c9344e58558",
   "metadata": {},
   "outputs": [
    {
     "name": "stdout",
     "output_type": "stream",
     "text": [
      "input_shape (None, 12)\n",
      "output_shape (None, 4)\n",
      "\n",
      "Model: \"sequential\"\n",
      "_________________________________________________________________\n",
      " Layer (type)                Output Shape              Param #   \n",
      "=================================================================\n",
      " dense (Dense)               (None, 91)                1183      \n",
      "                                                                 \n",
      " dense_1 (Dense)             (None, 31)                2852      \n",
      "                                                                 \n",
      " dense_2 (Dense)             (None, 15)                480       \n",
      "                                                                 \n",
      " dense_3 (Dense)             (None, 4)                 64        \n",
      "                                                                 \n",
      "=================================================================\n",
      "Total params: 4579 (17.89 KB)\n",
      "Trainable params: 4579 (17.89 KB)\n",
      "Non-trainable params: 0 (0.00 Byte)\n",
      "_________________________________________________________________\n"
     ]
    },
    {
     "name": "stderr",
     "output_type": "stream",
     "text": [
      "2024-08-08 02:52:39.687084: I external/local_xla/xla/stream_executor/cuda/cuda_executor.cc:998] successful NUMA node read from SysFS had negative value (-1), but there must be at least one NUMA node, so returning NUMA node zero. See more at https://github.com/torvalds/linux/blob/v6.0/Documentation/ABI/testing/sysfs-bus-pci#L344-L355\n",
      "2024-08-08 02:52:39.687289: I external/local_xla/xla/stream_executor/cuda/cuda_executor.cc:998] successful NUMA node read from SysFS had negative value (-1), but there must be at least one NUMA node, so returning NUMA node zero. See more at https://github.com/torvalds/linux/blob/v6.0/Documentation/ABI/testing/sysfs-bus-pci#L344-L355\n",
      "2024-08-08 02:52:39.687427: I external/local_xla/xla/stream_executor/cuda/cuda_executor.cc:998] successful NUMA node read from SysFS had negative value (-1), but there must be at least one NUMA node, so returning NUMA node zero. See more at https://github.com/torvalds/linux/blob/v6.0/Documentation/ABI/testing/sysfs-bus-pci#L344-L355\n",
      "2024-08-08 02:52:39.752002: I external/local_xla/xla/stream_executor/cuda/cuda_executor.cc:998] successful NUMA node read from SysFS had negative value (-1), but there must be at least one NUMA node, so returning NUMA node zero. See more at https://github.com/torvalds/linux/blob/v6.0/Documentation/ABI/testing/sysfs-bus-pci#L344-L355\n",
      "2024-08-08 02:52:39.752199: I external/local_xla/xla/stream_executor/cuda/cuda_executor.cc:998] successful NUMA node read from SysFS had negative value (-1), but there must be at least one NUMA node, so returning NUMA node zero. See more at https://github.com/torvalds/linux/blob/v6.0/Documentation/ABI/testing/sysfs-bus-pci#L344-L355\n",
      "2024-08-08 02:52:39.752341: I external/local_xla/xla/stream_executor/cuda/cuda_executor.cc:998] successful NUMA node read from SysFS had negative value (-1), but there must be at least one NUMA node, so returning NUMA node zero. See more at https://github.com/torvalds/linux/blob/v6.0/Documentation/ABI/testing/sysfs-bus-pci#L344-L355\n",
      "2024-08-08 02:52:39.752449: I tensorflow/core/common_runtime/gpu/gpu_device.cc:1928] Created device /job:localhost/replica:0/task:0/device:GPU:0 with 1705 MB memory:  -> device: 0, name: NVIDIA GeForce MX150, pci bus id: 0000:01:00.0, compute capability: 6.1\n"
     ]
    }
   ],
   "source": [
    "import FusionEmotion4Lib.lib_model as mpp\n",
    "\n",
    "model = mpp.create_model(  load_weights=False,\n",
    "                           file_of_weight='',\n",
    "                           ncod=NCOD);\n",
    "\n",
    "print('input_shape',model.input_shape)\n",
    "print('output_shape',model.output_shape)\n",
    "print('')\n",
    "\n",
    "model.summary()\n",
    "\n",
    "mpp.save_model_parameters(model, os.path.join(output_dir,'parameters_stats.m'));"
   ]
  },
  {
   "cell_type": "code",
   "execution_count": 17,
   "id": "c59cdc78-6eba-4cde-995e-cc56d0ed2dd2",
   "metadata": {},
   "outputs": [],
   "source": [
    "# COMPILE NEW MODEL\n",
    "model.compile(loss='categorical_crossentropy',\n",
    "              optimizer='adam',\n",
    "              metrics=['categorical_accuracy'])\n",
    "\n",
    "# CREATE CALLBACKS\n",
    "best_model_file=os.path.join(output_dir,'model_ncod'+str(NCOD)+'.h5');\n",
    "checkpoint = tf.keras.callbacks.ModelCheckpoint(filepath=best_model_file, \n",
    "                                                save_weights_only=True,\n",
    "                                                monitor='val_loss', \n",
    "                                                save_best_only=True, \n",
    "                                                verbose=1);\n",
    "\n",
    "# Definindo o callback EarlyStopping\n",
    "early_stopping = tf.keras.callbacks.EarlyStopping(  monitor='val_loss', \n",
    "                                                    patience=patience,  \n",
    "                                                    verbose=1, \n",
    "                                                    restore_best_weights=False);\n",
    "\n",
    "log_dir = os.path.join(output_dir,\"logs\",\"fit\",datetime.datetime.now().strftime(\"%Y%m%d-%H%M%S\"));\n",
    "tensorboard_callback = tf.keras.callbacks.TensorBoard(log_dir=log_dir, histogram_freq=1)"
   ]
  },
  {
   "cell_type": "code",
   "execution_count": 18,
   "id": "b9f0567f-b59d-43de-b9b2-7f013fb123c8",
   "metadata": {
    "scrolled": true
   },
   "outputs": [
    {
     "name": "stdout",
     "output_type": "stream",
     "text": [
      "Epoch 1/100\n"
     ]
    },
    {
     "name": "stderr",
     "output_type": "stream",
     "text": [
      "WARNING: All log messages before absl::InitializeLog() is called are written to STDERR\n",
      "I0000 00:00:1723096369.982750   31908 service.cc:145] XLA service 0x7d605876d4f0 initialized for platform CUDA (this does not guarantee that XLA will be used). Devices:\n",
      "I0000 00:00:1723096369.982783   31908 service.cc:153]   StreamExecutor device (0): NVIDIA GeForce MX150, Compute Capability 6.1\n",
      "2024-08-08 02:52:49.988483: I tensorflow/compiler/mlir/tensorflow/utils/dump_mlir_util.cc:268] disabling MLIR crash reproducer, set env var `MLIR_CRASH_REPRODUCER_DIRECTORY` to enable.\n",
      "2024-08-08 02:52:50.005956: I external/local_xla/xla/stream_executor/cuda/cuda_dnn.cc:465] Loaded cuDNN version 8906\n",
      "I0000 00:00:1723096370.071090   31908 device_compiler.h:188] Compiled cluster using XLA!  This line is logged at most once for the lifetime of the process.\n"
     ]
    },
    {
     "name": "stdout",
     "output_type": "stream",
     "text": [
      "674/674 [==============================] - ETA: 0s - loss: 0.1431 - categorical_accuracy: 0.9633\n",
      "Epoch 1: val_loss improved from inf to 0.07262, saving model to /media/fernando/Expansion/OUTPUTS/DOCTORADO2/fcnn_emotion4_fusion_1/ber2024-fusion/training_validation_holdout/cls_ncod15/model_ncod15.h5\n",
      "674/674 [==============================] - 14s 6ms/step - loss: 0.1431 - categorical_accuracy: 0.9633 - val_loss: 0.0726 - val_categorical_accuracy: 0.9798\n",
      "Epoch 2/100\n",
      "669/674 [============================>.] - ETA: 0s - loss: 0.0571 - categorical_accuracy: 0.9820\n",
      "Epoch 2: val_loss improved from 0.07262 to 0.07215, saving model to /media/fernando/Expansion/OUTPUTS/DOCTORADO2/fcnn_emotion4_fusion_1/ber2024-fusion/training_validation_holdout/cls_ncod15/model_ncod15.h5\n",
      "674/674 [==============================] - 4s 6ms/step - loss: 0.0579 - categorical_accuracy: 0.9819 - val_loss: 0.0721 - val_categorical_accuracy: 0.9802\n",
      "Epoch 3/100\n",
      "668/674 [============================>.] - ETA: 0s - loss: 0.0571 - categorical_accuracy: 0.9819\n",
      "Epoch 3: val_loss improved from 0.07215 to 0.06988, saving model to /media/fernando/Expansion/OUTPUTS/DOCTORADO2/fcnn_emotion4_fusion_1/ber2024-fusion/training_validation_holdout/cls_ncod15/model_ncod15.h5\n",
      "674/674 [==============================] - 4s 6ms/step - loss: 0.0568 - categorical_accuracy: 0.9820 - val_loss: 0.0699 - val_categorical_accuracy: 0.9802\n",
      "Epoch 4/100\n",
      "668/674 [============================>.] - ETA: 0s - loss: 0.0555 - categorical_accuracy: 0.9821\n",
      "Epoch 4: val_loss did not improve from 0.06988\n",
      "674/674 [==============================] - 3s 4ms/step - loss: 0.0555 - categorical_accuracy: 0.9821 - val_loss: 0.0748 - val_categorical_accuracy: 0.9776\n",
      "Epoch 5/100\n",
      "668/674 [============================>.] - ETA: 0s - loss: 0.0547 - categorical_accuracy: 0.9825\n",
      "Epoch 5: val_loss did not improve from 0.06988\n",
      "674/674 [==============================] - 3s 4ms/step - loss: 0.0551 - categorical_accuracy: 0.9824 - val_loss: 0.0700 - val_categorical_accuracy: 0.9811\n",
      "Epoch 6/100\n",
      "661/674 [============================>.] - ETA: 0s - loss: 0.0541 - categorical_accuracy: 0.9829\n",
      "Epoch 6: val_loss did not improve from 0.06988\n",
      "674/674 [==============================] - 3s 4ms/step - loss: 0.0542 - categorical_accuracy: 0.9829 - val_loss: 0.0700 - val_categorical_accuracy: 0.9794\n",
      "Epoch 7/100\n",
      "673/674 [============================>.] - ETA: 0s - loss: 0.0536 - categorical_accuracy: 0.9827\n",
      "Epoch 7: val_loss improved from 0.06988 to 0.06865, saving model to /media/fernando/Expansion/OUTPUTS/DOCTORADO2/fcnn_emotion4_fusion_1/ber2024-fusion/training_validation_holdout/cls_ncod15/model_ncod15.h5\n",
      "674/674 [==============================] - 3s 4ms/step - loss: 0.0535 - categorical_accuracy: 0.9828 - val_loss: 0.0687 - val_categorical_accuracy: 0.9805\n",
      "Epoch 8/100\n",
      "669/674 [============================>.] - ETA: 0s - loss: 0.0524 - categorical_accuracy: 0.9831\n",
      "Epoch 8: val_loss did not improve from 0.06865\n",
      "674/674 [==============================] - 3s 4ms/step - loss: 0.0528 - categorical_accuracy: 0.9830 - val_loss: 0.0691 - val_categorical_accuracy: 0.9781\n",
      "Epoch 9/100\n",
      "674/674 [==============================] - ETA: 0s - loss: 0.0528 - categorical_accuracy: 0.9831\n",
      "Epoch 9: val_loss improved from 0.06865 to 0.06771, saving model to /media/fernando/Expansion/OUTPUTS/DOCTORADO2/fcnn_emotion4_fusion_1/ber2024-fusion/training_validation_holdout/cls_ncod15/model_ncod15.h5\n",
      "674/674 [==============================] - 3s 4ms/step - loss: 0.0528 - categorical_accuracy: 0.9831 - val_loss: 0.0677 - val_categorical_accuracy: 0.9802\n",
      "Epoch 10/100\n",
      "667/674 [============================>.] - ETA: 0s - loss: 0.0518 - categorical_accuracy: 0.9829\n",
      "Epoch 10: val_loss did not improve from 0.06771\n",
      "674/674 [==============================] - 3s 4ms/step - loss: 0.0518 - categorical_accuracy: 0.9829 - val_loss: 0.0678 - val_categorical_accuracy: 0.9800\n",
      "Epoch 11/100\n",
      "662/674 [============================>.] - ETA: 0s - loss: 0.0516 - categorical_accuracy: 0.9826\n",
      "Epoch 11: val_loss improved from 0.06771 to 0.06696, saving model to /media/fernando/Expansion/OUTPUTS/DOCTORADO2/fcnn_emotion4_fusion_1/ber2024-fusion/training_validation_holdout/cls_ncod15/model_ncod15.h5\n",
      "674/674 [==============================] - 3s 4ms/step - loss: 0.0514 - categorical_accuracy: 0.9826 - val_loss: 0.0670 - val_categorical_accuracy: 0.9800\n",
      "Epoch 12/100\n",
      "668/674 [============================>.] - ETA: 0s - loss: 0.0515 - categorical_accuracy: 0.9830\n",
      "Epoch 12: val_loss did not improve from 0.06696\n",
      "674/674 [==============================] - 3s 4ms/step - loss: 0.0516 - categorical_accuracy: 0.9829 - val_loss: 0.0684 - val_categorical_accuracy: 0.9798\n",
      "Epoch 13/100\n",
      "670/674 [============================>.] - ETA: 0s - loss: 0.0507 - categorical_accuracy: 0.9827\n",
      "Epoch 13: val_loss did not improve from 0.06696\n",
      "674/674 [==============================] - 3s 4ms/step - loss: 0.0506 - categorical_accuracy: 0.9827 - val_loss: 0.0694 - val_categorical_accuracy: 0.9800\n",
      "Epoch 14/100\n",
      "669/674 [============================>.] - ETA: 0s - loss: 0.0504 - categorical_accuracy: 0.9830\n",
      "Epoch 14: val_loss did not improve from 0.06696\n",
      "674/674 [==============================] - 3s 4ms/step - loss: 0.0508 - categorical_accuracy: 0.9829 - val_loss: 0.0695 - val_categorical_accuracy: 0.9789\n",
      "Epoch 15/100\n",
      "658/674 [============================>.] - ETA: 0s - loss: 0.0508 - categorical_accuracy: 0.9825\n",
      "Epoch 15: val_loss did not improve from 0.06696\n",
      "674/674 [==============================] - 3s 4ms/step - loss: 0.0504 - categorical_accuracy: 0.9825 - val_loss: 0.0690 - val_categorical_accuracy: 0.9794\n",
      "Epoch 16/100\n",
      "670/674 [============================>.] - ETA: 0s - loss: 0.0500 - categorical_accuracy: 0.9829\n",
      "Epoch 16: val_loss improved from 0.06696 to 0.06685, saving model to /media/fernando/Expansion/OUTPUTS/DOCTORADO2/fcnn_emotion4_fusion_1/ber2024-fusion/training_validation_holdout/cls_ncod15/model_ncod15.h5\n",
      "674/674 [==============================] - 3s 5ms/step - loss: 0.0499 - categorical_accuracy: 0.9829 - val_loss: 0.0668 - val_categorical_accuracy: 0.9809\n",
      "Epoch 17/100\n",
      "668/674 [============================>.] - ETA: 0s - loss: 0.0498 - categorical_accuracy: 0.9832\n",
      "Epoch 17: val_loss improved from 0.06685 to 0.06612, saving model to /media/fernando/Expansion/OUTPUTS/DOCTORADO2/fcnn_emotion4_fusion_1/ber2024-fusion/training_validation_holdout/cls_ncod15/model_ncod15.h5\n",
      "674/674 [==============================] - 3s 4ms/step - loss: 0.0495 - categorical_accuracy: 0.9833 - val_loss: 0.0661 - val_categorical_accuracy: 0.9789\n",
      "Epoch 18/100\n",
      "672/674 [============================>.] - ETA: 0s - loss: 0.0490 - categorical_accuracy: 0.9832\n",
      "Epoch 18: val_loss improved from 0.06612 to 0.06565, saving model to /media/fernando/Expansion/OUTPUTS/DOCTORADO2/fcnn_emotion4_fusion_1/ber2024-fusion/training_validation_holdout/cls_ncod15/model_ncod15.h5\n",
      "674/674 [==============================] - 3s 4ms/step - loss: 0.0492 - categorical_accuracy: 0.9832 - val_loss: 0.0656 - val_categorical_accuracy: 0.9816\n",
      "Epoch 19/100\n",
      "661/674 [============================>.] - ETA: 0s - loss: 0.0498 - categorical_accuracy: 0.9830\n",
      "Epoch 19: val_loss improved from 0.06565 to 0.06533, saving model to /media/fernando/Expansion/OUTPUTS/DOCTORADO2/fcnn_emotion4_fusion_1/ber2024-fusion/training_validation_holdout/cls_ncod15/model_ncod15.h5\n",
      "674/674 [==============================] - 3s 4ms/step - loss: 0.0493 - categorical_accuracy: 0.9831 - val_loss: 0.0653 - val_categorical_accuracy: 0.9822\n",
      "Epoch 20/100\n",
      "661/674 [============================>.] - ETA: 0s - loss: 0.0475 - categorical_accuracy: 0.9841\n",
      "Epoch 20: val_loss improved from 0.06533 to 0.06455, saving model to /media/fernando/Expansion/OUTPUTS/DOCTORADO2/fcnn_emotion4_fusion_1/ber2024-fusion/training_validation_holdout/cls_ncod15/model_ncod15.h5\n",
      "674/674 [==============================] - 3s 4ms/step - loss: 0.0484 - categorical_accuracy: 0.9838 - val_loss: 0.0645 - val_categorical_accuracy: 0.9807\n",
      "Epoch 21/100\n",
      "661/674 [============================>.] - ETA: 0s - loss: 0.0482 - categorical_accuracy: 0.9833\n",
      "Epoch 21: val_loss did not improve from 0.06455\n",
      "674/674 [==============================] - 3s 4ms/step - loss: 0.0484 - categorical_accuracy: 0.9831 - val_loss: 0.0662 - val_categorical_accuracy: 0.9802\n",
      "Epoch 22/100\n",
      "659/674 [============================>.] - ETA: 0s - loss: 0.0479 - categorical_accuracy: 0.9835\n",
      "Epoch 22: val_loss did not improve from 0.06455\n",
      "674/674 [==============================] - 3s 4ms/step - loss: 0.0479 - categorical_accuracy: 0.9835 - val_loss: 0.0654 - val_categorical_accuracy: 0.9809\n",
      "Epoch 23/100\n",
      "659/674 [============================>.] - ETA: 0s - loss: 0.0473 - categorical_accuracy: 0.9839\n",
      "Epoch 23: val_loss did not improve from 0.06455\n",
      "674/674 [==============================] - 2s 4ms/step - loss: 0.0473 - categorical_accuracy: 0.9839 - val_loss: 0.0661 - val_categorical_accuracy: 0.9800\n",
      "Epoch 24/100\n",
      "666/674 [============================>.] - ETA: 0s - loss: 0.0470 - categorical_accuracy: 0.9840\n",
      "Epoch 24: val_loss did not improve from 0.06455\n",
      "674/674 [==============================] - 3s 4ms/step - loss: 0.0472 - categorical_accuracy: 0.9839 - val_loss: 0.0655 - val_categorical_accuracy: 0.9807\n",
      "Epoch 25/100\n",
      "665/674 [============================>.] - ETA: 0s - loss: 0.0470 - categorical_accuracy: 0.9840\n",
      "Epoch 25: val_loss did not improve from 0.06455\n",
      "674/674 [==============================] - 3s 4ms/step - loss: 0.0472 - categorical_accuracy: 0.9839 - val_loss: 0.0674 - val_categorical_accuracy: 0.9790\n",
      "Epoch 26/100\n",
      "673/674 [============================>.] - ETA: 0s - loss: 0.0467 - categorical_accuracy: 0.9839\n",
      "Epoch 26: val_loss improved from 0.06455 to 0.06407, saving model to /media/fernando/Expansion/OUTPUTS/DOCTORADO2/fcnn_emotion4_fusion_1/ber2024-fusion/training_validation_holdout/cls_ncod15/model_ncod15.h5\n",
      "674/674 [==============================] - 3s 4ms/step - loss: 0.0466 - categorical_accuracy: 0.9839 - val_loss: 0.0641 - val_categorical_accuracy: 0.9800\n",
      "Epoch 27/100\n",
      "667/674 [============================>.] - ETA: 0s - loss: 0.0467 - categorical_accuracy: 0.9841\n",
      "Epoch 27: val_loss did not improve from 0.06407\n",
      "674/674 [==============================] - 3s 4ms/step - loss: 0.0466 - categorical_accuracy: 0.9842 - val_loss: 0.0657 - val_categorical_accuracy: 0.9798\n",
      "Epoch 28/100\n",
      "665/674 [============================>.] - ETA: 0s - loss: 0.0461 - categorical_accuracy: 0.9843\n",
      "Epoch 28: val_loss did not improve from 0.06407\n",
      "674/674 [==============================] - 3s 4ms/step - loss: 0.0461 - categorical_accuracy: 0.9844 - val_loss: 0.0661 - val_categorical_accuracy: 0.9803\n",
      "Epoch 29/100\n",
      "665/674 [============================>.] - ETA: 0s - loss: 0.0454 - categorical_accuracy: 0.9843\n",
      "Epoch 29: val_loss did not improve from 0.06407\n",
      "674/674 [==============================] - 3s 4ms/step - loss: 0.0458 - categorical_accuracy: 0.9841 - val_loss: 0.0661 - val_categorical_accuracy: 0.9796\n",
      "Epoch 30/100\n",
      "666/674 [============================>.] - ETA: 0s - loss: 0.0461 - categorical_accuracy: 0.9844\n",
      "Epoch 30: val_loss did not improve from 0.06407\n",
      "674/674 [==============================] - 3s 4ms/step - loss: 0.0458 - categorical_accuracy: 0.9846 - val_loss: 0.0676 - val_categorical_accuracy: 0.9802\n",
      "Epoch 31/100\n",
      "668/674 [============================>.] - ETA: 0s - loss: 0.0459 - categorical_accuracy: 0.9843\n",
      "Epoch 31: val_loss did not improve from 0.06407\n",
      "674/674 [==============================] - 3s 4ms/step - loss: 0.0457 - categorical_accuracy: 0.9844 - val_loss: 0.0659 - val_categorical_accuracy: 0.9815\n",
      "Epoch 32/100\n",
      "664/674 [============================>.] - ETA: 0s - loss: 0.0452 - categorical_accuracy: 0.9844\n",
      "Epoch 32: val_loss did not improve from 0.06407\n",
      "674/674 [==============================] - 3s 4ms/step - loss: 0.0452 - categorical_accuracy: 0.9843 - val_loss: 0.0653 - val_categorical_accuracy: 0.9805\n",
      "Epoch 33/100\n",
      "667/674 [============================>.] - ETA: 0s - loss: 0.0452 - categorical_accuracy: 0.9845\n",
      "Epoch 33: val_loss did not improve from 0.06407\n",
      "674/674 [==============================] - 3s 4ms/step - loss: 0.0450 - categorical_accuracy: 0.9845 - val_loss: 0.0654 - val_categorical_accuracy: 0.9798\n",
      "Epoch 34/100\n",
      "660/674 [============================>.] - ETA: 0s - loss: 0.0442 - categorical_accuracy: 0.9852\n",
      "Epoch 34: val_loss did not improve from 0.06407\n",
      "674/674 [==============================] - 3s 4ms/step - loss: 0.0444 - categorical_accuracy: 0.9850 - val_loss: 0.0664 - val_categorical_accuracy: 0.9805\n",
      "Epoch 35/100\n",
      "668/674 [============================>.] - ETA: 0s - loss: 0.0444 - categorical_accuracy: 0.9849\n",
      "Epoch 35: val_loss did not improve from 0.06407\n",
      "674/674 [==============================] - 3s 5ms/step - loss: 0.0443 - categorical_accuracy: 0.9849 - val_loss: 0.0663 - val_categorical_accuracy: 0.9798\n",
      "Epoch 36/100\n",
      "668/674 [============================>.] - ETA: 0s - loss: 0.0440 - categorical_accuracy: 0.9853\n",
      "Epoch 36: val_loss did not improve from 0.06407\n",
      "674/674 [==============================] - 3s 5ms/step - loss: 0.0439 - categorical_accuracy: 0.9853 - val_loss: 0.0669 - val_categorical_accuracy: 0.9805\n",
      "Epoch 37/100\n",
      "663/674 [============================>.] - ETA: 0s - loss: 0.0442 - categorical_accuracy: 0.9844\n",
      "Epoch 37: val_loss did not improve from 0.06407\n",
      "674/674 [==============================] - 3s 4ms/step - loss: 0.0438 - categorical_accuracy: 0.9845 - val_loss: 0.0664 - val_categorical_accuracy: 0.9807\n",
      "Epoch 38/100\n",
      "663/674 [============================>.] - ETA: 0s - loss: 0.0434 - categorical_accuracy: 0.9842\n",
      "Epoch 38: val_loss did not improve from 0.06407\n",
      "674/674 [==============================] - 3s 4ms/step - loss: 0.0436 - categorical_accuracy: 0.9841 - val_loss: 0.0689 - val_categorical_accuracy: 0.9807\n",
      "Epoch 39/100\n",
      "666/674 [============================>.] - ETA: 0s - loss: 0.0439 - categorical_accuracy: 0.9843\n",
      "Epoch 39: val_loss did not improve from 0.06407\n",
      "674/674 [==============================] - 3s 4ms/step - loss: 0.0436 - categorical_accuracy: 0.9845 - val_loss: 0.0654 - val_categorical_accuracy: 0.9798\n",
      "Epoch 40/100\n",
      "666/674 [============================>.] - ETA: 0s - loss: 0.0431 - categorical_accuracy: 0.9850\n",
      "Epoch 40: val_loss did not improve from 0.06407\n",
      "674/674 [==============================] - 3s 4ms/step - loss: 0.0435 - categorical_accuracy: 0.9849 - val_loss: 0.0692 - val_categorical_accuracy: 0.9802\n",
      "Epoch 41/100\n",
      "674/674 [==============================] - ETA: 0s - loss: 0.0431 - categorical_accuracy: 0.9849\n",
      "Epoch 41: val_loss did not improve from 0.06407\n",
      "674/674 [==============================] - 3s 4ms/step - loss: 0.0431 - categorical_accuracy: 0.9849 - val_loss: 0.0677 - val_categorical_accuracy: 0.9809\n",
      "Epoch 42/100\n",
      "672/674 [============================>.] - ETA: 0s - loss: 0.0429 - categorical_accuracy: 0.9848\n",
      "Epoch 42: val_loss did not improve from 0.06407\n",
      "674/674 [==============================] - 3s 4ms/step - loss: 0.0429 - categorical_accuracy: 0.9848 - val_loss: 0.0689 - val_categorical_accuracy: 0.9787\n",
      "Epoch 43/100\n",
      "667/674 [============================>.] - ETA: 0s - loss: 0.0422 - categorical_accuracy: 0.9851\n",
      "Epoch 43: val_loss did not improve from 0.06407\n",
      "674/674 [==============================] - 4s 5ms/step - loss: 0.0426 - categorical_accuracy: 0.9851 - val_loss: 0.0735 - val_categorical_accuracy: 0.9800\n",
      "Epoch 44/100\n",
      "673/674 [============================>.] - ETA: 0s - loss: 0.0431 - categorical_accuracy: 0.9846\n",
      "Epoch 44: val_loss did not improve from 0.06407\n",
      "674/674 [==============================] - 3s 4ms/step - loss: 0.0430 - categorical_accuracy: 0.9847 - val_loss: 0.0695 - val_categorical_accuracy: 0.9789\n",
      "Epoch 45/100\n",
      "670/674 [============================>.] - ETA: 0s - loss: 0.0423 - categorical_accuracy: 0.9846\n",
      "Epoch 45: val_loss did not improve from 0.06407\n",
      "674/674 [==============================] - 3s 4ms/step - loss: 0.0426 - categorical_accuracy: 0.9845 - val_loss: 0.0693 - val_categorical_accuracy: 0.9790\n",
      "Epoch 46/100\n",
      "669/674 [============================>.] - ETA: 0s - loss: 0.0420 - categorical_accuracy: 0.9852\n",
      "Epoch 46: val_loss did not improve from 0.06407\n",
      "674/674 [==============================] - 3s 4ms/step - loss: 0.0420 - categorical_accuracy: 0.9852 - val_loss: 0.0683 - val_categorical_accuracy: 0.9803\n",
      "Epoch 46: early stopping\n"
     ]
    }
   ],
   "source": [
    "# FIT THE MODEL\n",
    "history = model.fit(training_data_array,training_y_categorical,\n",
    "                    epochs=EPOCAS,\n",
    "                    batch_size=BATCH_SIZE,\n",
    "                    validation_data=(validation_data_array,validation_y_categorical),\n",
    "                    callbacks=[checkpoint,early_stopping,tensorboard_callback],\n",
    "                    verbose=1\n",
    "                   );"
   ]
  },
  {
   "cell_type": "code",
   "execution_count": 19,
   "id": "29ed98f1-5e63-4cc3-9425-c9498d0eb68b",
   "metadata": {},
   "outputs": [
    {
     "name": "stdout",
     "output_type": "stream",
     "text": [
      "max_val_acc 0.9821958541870117\n"
     ]
    },
    {
     "data": {
      "image/png": "[encoded data removed]",
      "text/plain": [
       "<Figure size 1600x800 with 2 Axes>"
      ]
     },
     "metadata": {},
     "output_type": "display_data"
    }
   ],
   "source": [
    "mpp.save_model_history(history,\n",
    "                       os.path.join(output_dir,\"historical.csv\"),\n",
    "                       show=False,\n",
    "                       labels=['categorical_accuracy','loss']);"
   ]
  },
  {
   "cell_type": "code",
   "execution_count": 20,
   "id": "d6bff659-35f6-444f-b889-8cd0bbf636d0",
   "metadata": {},
   "outputs": [
    {
     "name": "stdout",
     "output_type": "stream",
     "text": [
      "674/674 [==============================] - 2s 2ms/step - loss: 0.0450 - categorical_accuracy: 0.9846\n",
      "training {'loss': 0.044950153678655624, 'categorical_accuracy': 0.9845597147941589} \n",
      "\n",
      "\n",
      "169/169 [==============================] - 1s 3ms/step - loss: 0.0641 - categorical_accuracy: 0.9800\n",
      "validation {'loss': 0.0640740916132927, 'categorical_accuracy': 0.9799703359603882} \n",
      "\n",
      "\n",
      "521/521 [==============================] - 2s 3ms/step - loss: 0.0991 - categorical_accuracy: 0.9693\n",
      "testing {'loss': 0.09909793734550476, 'categorical_accuracy': 0.9693240523338318} \n",
      "\n",
      "\n"
     ]
    }
   ],
   "source": [
    "# LOAD BEST MODEL to evaluate the performance of the model\n",
    "model.load_weights(best_model_file);\n",
    "data_results=dict();\n",
    "\n",
    "# Evaluate training\n",
    "results = model.evaluate(training_data_array,training_y_categorical)\n",
    "results = dict(zip(model.metrics_names,results))\n",
    "print('training',results,\"\\n\\n\");\n",
    "for key,value in results.items():\n",
    "    data_results['train_'+key]=value;\n",
    "\n",
    "# Evaluate validation\n",
    "results = model.evaluate(validation_data_array,validation_y_categorical)\n",
    "results = dict(zip(model.metrics_names,results))\n",
    "print('validation',results,\"\\n\\n\");\n",
    "for key,value in results.items():\n",
    "    data_results['val_'+key]=value;\n",
    "\n",
    "# Evaluate testing\n",
    "results = model.evaluate(test_data_array,test_y_categorical)\n",
    "results = dict(zip(model.metrics_names,results))\n",
    "print('testing',results,\"\\n\\n\");\n",
    "for key,value in results.items():\n",
    "    data_results['test_'+key]=value;\n",
    "\n",
    "data_results['number_of_parameters']=mpp.get_model_parameters(model);\n",
    "data_results['ncod']=NCOD;\n",
    "data_results['epochs']=EPOCAS;\n",
    "data_results['patience']=patience;\n",
    "data_results['seed']=seed_number;\n",
    "\n",
    "# final all json\n",
    "with open(os.path.join(output_dir,\"training_data_results.json\"), 'w') as f:\n",
    "    json.dump(data_results, f,indent=4);\n",
    "\n",
    "tf.keras.backend.clear_session()"
   ]
  },
  {
   "cell_type": "code",
   "execution_count": 21,
   "id": "6fa36ac3-a1b0-459f-b46e-681c993968ff",
   "metadata": {},
   "outputs": [
    {
     "name": "stdout",
     "output_type": "stream",
     "text": [
      "521/521 [==============================] - 1s 1ms/step\n",
      "Categorical accuracy: 0.9693240485052227\n",
      "{\n",
      "    \"negative\": {\n",
      "        \"precision\": 0.9567099567099567,\n",
      "        \"recall\": 0.9455669122890421,\n",
      "        \"f1-score\": 0.9511057979677227,\n",
      "        \"support\": 4207.0\n",
      "    },\n",
      "    \"neutral\": {\n",
      "        \"precision\": 0.9588916647740177,\n",
      "        \"recall\": 0.9491906474820144,\n",
      "        \"f1-score\": 0.9540164953112643,\n",
      "        \"support\": 4448.0\n",
      "    },\n",
      "    \"pain\": {\n",
      "        \"precision\": 0.9740985271711529,\n",
      "        \"recall\": 0.9930106135128138,\n",
      "        \"f1-score\": 0.9834636585053198,\n",
      "        \"support\": 3863.0\n",
      "    },\n",
      "    \"positive\": {\n",
      "        \"precision\": 0.9884587641259919,\n",
      "        \"recall\": 0.9929951690821256,\n",
      "        \"f1-score\": 0.9907217737076757,\n",
      "        \"support\": 4140.0\n",
      "    },\n",
      "    \"accuracy\": 0.9693240485052227,\n",
      "    \"macro avg\": {\n",
      "        \"precision\": 0.9695397281952798,\n",
      "        \"recall\": 0.970190835591499,\n",
      "        \"f1-score\": 0.9698269313729955,\n",
      "        \"support\": 16658.0\n",
      "    },\n",
      "    \"weighted avg\": {\n",
      "        \"precision\": 0.9692154404332687,\n",
      "        \"recall\": 0.9693240485052227,\n",
      "        \"f1-score\": 0.9692325440719497,\n",
      "        \"support\": 16658.0\n",
      "    }\n",
      "}\n"
     ]
    },
    {
     "data": {
      "image/png": "[encoded data removed]",
      "text/plain": [
       "<Figure size 800x600 with 2 Axes>"
      ]
     },
     "metadata": {},
     "output_type": "display_data"
    }
   ],
   "source": [
    "from sklearn.metrics import classification_report,confusion_matrix\n",
    "from sklearn.metrics import ConfusionMatrixDisplay\n",
    "import matplotlib.pyplot as plt\n",
    "\n",
    "target_names = ['negative','neutral','pain','positive'];\n",
    "\n",
    "# Predict\n",
    "Y_pred = model.predict(test_data_array,verbose=1);\n",
    "y_pred = np.argmax(Y_pred, axis=1);\n",
    "\n",
    "# Calculate accuracy\n",
    "categorical_accuracy = np.mean(test_y == y_pred);\n",
    "print(f'Categorical accuracy: {categorical_accuracy}');\n",
    "\n",
    "# Confusion matrix\n",
    "CM=confusion_matrix(test_y, y_pred);\n",
    "\n",
    "fname=os.path.join(output_dir,\"confusion_matrix.eps\");\n",
    "fig, ax = plt.subplots(figsize=(8,6), dpi=100)\n",
    "disp = ConfusionMatrixDisplay(confusion_matrix=CM, display_labels=target_names)\n",
    "disp.plot(ax=ax,cmap=plt.cm.Blues)\n",
    "plt.savefig(fname)\n",
    "\n",
    "cm_dict=dict();\n",
    "cm_dict['matrix']=CM.tolist();\n",
    "cm_dict['label']=target_names;\n",
    "# final all json\n",
    "with open(os.path.join(output_dir,\"confusion_matrix.json\"), 'w') as f:\n",
    "    json.dump(cm_dict, f,indent=4);\n",
    "    f.close()\n",
    "\n",
    "# Classification report\n",
    "fname=os.path.join(output_dir,\"classification_report.json\")\n",
    "dict_dat=classification_report(test_y, y_pred, target_names=target_names,output_dict=True);\n",
    "print(json.dumps(dict_dat, indent=4))\n",
    "with open(fname, 'w') as f: \n",
    "    json.dump(dict_dat, f,indent=4);\n",
    "    f.close()"
   ]
  }
 ],
 "metadata": {
  "kernelspec": {
   "display_name": "Python 3 (ipykernel)",
   "language": "python",
   "name": "python3"
  },
  "language_info": {
   "codemirror_mode": {
    "name": "ipython",
    "version": 3
   },
   "file_extension": ".py",
   "mimetype": "text/x-python",
   "name": "python",
   "nbconvert_exporter": "python",
   "pygments_lexer": "ipython3",
   "version": "3.10.12"
  }
 },
 "nbformat": 4,
 "nbformat_minor": 5
}
