{
 "cells": [
  {
   "cell_type": "code",
   "execution_count": 1,
   "id": "7d874f9f",
   "metadata": {},
   "outputs": [],
   "source": [
    "import os\n",
    "#os.environ['TF_GPU_ALLOCATOR'] = 'cuda_malloc_async'\n",
    "\n",
    "os.environ['TF_USE_LEGACY_KERAS'] = '1';"
   ]
  },
  {
   "cell_type": "code",
   "execution_count": 2,
   "id": "8c38da82",
   "metadata": {},
   "outputs": [],
   "source": [
    "input_default_json_conf_file='fcnn_emotion4_training_default.json';"
   ]
  },
  {
   "cell_type": "code",
   "execution_count": 3,
   "id": "3410f40c-893b-449d-b024-7781e0d76733",
   "metadata": {},
   "outputs": [
    {
     "name": "stderr",
     "output_type": "stream",
     "text": [
      "2024-07-24 12:10:38.395709: I tensorflow/core/platform/cpu_feature_guard.cc:210] This TensorFlow binary is optimized to use available CPU instructions in performance-critical operations.\n",
      "To enable the following instructions: AVX2 FMA, in other operations, rebuild TensorFlow with the appropriate compiler flags.\n",
      "2024-07-24 12:10:39.812366: W tensorflow/compiler/tf2tensorrt/utils/py_utils.cc:38] TF-TRT Warning: Could not find TensorRT\n"
     ]
    }
   ],
   "source": [
    "import numpy as np\n",
    "import pandas as pd\n",
    "import tensorflow as tf\n",
    "import datetime\n",
    "import json"
   ]
  },
  {
   "cell_type": "code",
   "execution_count": 4,
   "id": "d4ce46fc-8392-4e0b-a820-3ce426fcc7ba",
   "metadata": {},
   "outputs": [],
   "source": [
    "import sys\n",
    "sys.path.append('../library');"
   ]
  },
  {
   "cell_type": "code",
   "execution_count": 5,
   "id": "d770d436",
   "metadata": {},
   "outputs": [
    {
     "name": "stdout",
     "output_type": "stream",
     "text": [
      "Num GPUs Available:  1\n"
     ]
    },
    {
     "name": "stderr",
     "output_type": "stream",
     "text": [
      "2024-07-24 12:10:41.608155: I external/local_xla/xla/stream_executor/cuda/cuda_executor.cc:998] successful NUMA node read from SysFS had negative value (-1), but there must be at least one NUMA node, so returning NUMA node zero. See more at https://github.com/torvalds/linux/blob/v6.0/Documentation/ABI/testing/sysfs-bus-pci#L344-L355\n",
      "2024-07-24 12:10:41.704362: I external/local_xla/xla/stream_executor/cuda/cuda_executor.cc:998] successful NUMA node read from SysFS had negative value (-1), but there must be at least one NUMA node, so returning NUMA node zero. See more at https://github.com/torvalds/linux/blob/v6.0/Documentation/ABI/testing/sysfs-bus-pci#L344-L355\n",
      "2024-07-24 12:10:41.704843: I external/local_xla/xla/stream_executor/cuda/cuda_executor.cc:998] successful NUMA node read from SysFS had negative value (-1), but there must be at least one NUMA node, so returning NUMA node zero. See more at https://github.com/torvalds/linux/blob/v6.0/Documentation/ABI/testing/sysfs-bus-pci#L344-L355\n"
     ]
    }
   ],
   "source": [
    "print(\"Num GPUs Available: \", len(tf.config.list_physical_devices('GPU')))"
   ]
  },
  {
   "cell_type": "code",
   "execution_count": 6,
   "id": "00acb00f",
   "metadata": {},
   "outputs": [],
   "source": [
    "## Load json conf json file\n",
    "fd = open(os.path.join('./',input_default_json_conf_file));\n",
    "DATA = json.load(fd);\n",
    "fd.close()"
   ]
  },
  {
   "cell_type": "markdown",
   "id": "13b0f452-3278-49c0-9601-c8a443dbc32b",
   "metadata": {},
   "source": [
    "# Variable globales"
   ]
  },
  {
   "cell_type": "code",
   "execution_count": 7,
   "id": "d83c3fa6-dbbb-4644-a12f-e497f971a446",
   "metadata": {},
   "outputs": [],
   "source": [
    "## Seed for the random variables\n",
    "seed_number=0;\n",
    "\n",
    "## Dataset \n",
    "dataset_base_dir    = DATA['dataset_train_base_dir'];\n",
    "dataset_labels_file = DATA['dataset_train_labels_file'];\n",
    "\n",
    "dataset_base_test_dir    = DATA['dataset_test_base_dir'];\n",
    "dataset_labels_test_file = DATA['dataset_test_labels_file'];\n",
    "\n",
    "dataset_name        = DATA['dataset_name'];\n",
    "\n",
    "## Training hyperparameters\n",
    "EPOCAS     = DATA[\"epochs\"];\n",
    "BATCH_SIZE = DATA[\"batch_size\"];\n",
    "\n",
    "\n",
    "## Output\n",
    "output_base_dir = DATA[\"output_base_dir\"];\n",
    "\n",
    "file_of_weight=''\n",
    "subdir='endec';\n",
    "patience=max(10,int(EPOCAS/10))\n",
    "NCOD=15;\n",
    "ANGLE=60;"
   ]
  },
  {
   "cell_type": "markdown",
   "id": "65186ce7",
   "metadata": {},
   "source": [
    "# Parametros de entrada"
   ]
  },
  {
   "cell_type": "code",
   "execution_count": 8,
   "id": "8a1d31d1",
   "metadata": {},
   "outputs": [
    {
     "name": "stdout",
     "output_type": "stream",
     "text": [
      "        dataset_base_dir: /media/fernando/Expansion/DATASET/TESE/BER/BER2024/BER2024-SKELETON\n",
      "     dataset_labels_file: train.csv\n",
      "   dataset_base_test_dir: /media/fernando/Expansion/DATASET/TESE/BER/BER2024/BER2024-SKELETON\n",
      "dataset_labels_test_file: test.csv\n",
      "            dataset_name: ber2024-skel\n",
      "                  EPOCAS: 40\n",
      "              BATCH_SIZE: 1024\n",
      "         output_base_dir: /media/fernando/Expansion/OUTPUTS/DOCTORADO2/fcnn_emotion4\n"
     ]
    }
   ],
   "source": [
    "for n in range(len(sys.argv)):\n",
    "    if sys.argv[n]=='--dataset-train-dir':\n",
    "        dataset_base_dir=sys.argv[n+1];\n",
    "    elif sys.argv[n]=='--dataset-train-file':\n",
    "        dataset_labels_file=sys.argv[n+1];\n",
    "    elif sys.argv[n]=='--dataset-test-dir':\n",
    "        dataset_base_test_dir=sys.argv[n+1];\n",
    "    elif sys.argv[n]=='--dataset-test-file':\n",
    "        dataset_labels_test_file=sys.argv[n+1];\n",
    "    elif sys.argv[n]=='--dataset-name':\n",
    "        dataset_name=sys.argv[n+1];\n",
    "    elif sys.argv[n]=='--epochs':\n",
    "        EPOCAS=int(sys.argv[n+1]);\n",
    "    elif sys.argv[n]=='--batch-size':\n",
    "        BATCH_SIZE=int(sys.argv[n+1]);\n",
    "    elif sys.argv[n]=='--ncod':\n",
    "        NCOD=int(sys.argv[n+1]);\n",
    "    elif sys.argv[n]=='--patience':\n",
    "        patience=int(sys.argv[n+1]);\n",
    "    elif sys.argv[n]=='--subdir':\n",
    "        subdir=sys.argv[n+1];\n",
    "    elif sys.argv[n]=='--weights-init':\n",
    "        file_of_weight=sys.argv[n+1];\n",
    "    elif sys.argv[n]=='--output-dir':\n",
    "        output_base_dir=sys.argv[n+1];\n",
    "        \n",
    "print('        dataset_base_dir:',dataset_base_dir)\n",
    "print('     dataset_labels_file:',dataset_labels_file)\n",
    "print('   dataset_base_test_dir:',dataset_base_test_dir)\n",
    "print('dataset_labels_test_file:',dataset_labels_test_file)\n",
    "print('            dataset_name:',dataset_name)\n",
    "print('                  EPOCAS:',EPOCAS)\n",
    "print('              BATCH_SIZE:',BATCH_SIZE)\n",
    "print('                    NCOD:',NCOD)\n",
    "print('                patience:',patience)\n",
    "print('                  subdir:',subdir)\n",
    "print('          file_of_weight:',file_of_weight)\n",
    "print('         output_base_dir:',output_base_dir)"
   ]
  },
  {
   "cell_type": "markdown",
   "id": "99d1dee5-778a-4fd9-80de-90620bb33128",
   "metadata": {},
   "source": [
    "# Set seed of random variables\n"
   ]
  },
  {
   "cell_type": "code",
   "execution_count": 9,
   "id": "6ddef12f-6604-4c71-9473-15f328e954dd",
   "metadata": {},
   "outputs": [],
   "source": [
    "np.random.seed(seed_number)\n",
    "tf.keras.utils.set_random_seed(seed_number);"
   ]
  },
  {
   "cell_type": "markdown",
   "id": "28a59004-739e-4760-bd91-ee3808207e3e",
   "metadata": {},
   "source": [
    "# Loading data of dataset"
   ]
  },
  {
   "cell_type": "code",
   "execution_count": 10,
   "id": "1abe0e9b-ee46-40d8-97c3-12a1efc0cd1a",
   "metadata": {},
   "outputs": [
    {
     "name": "stdout",
     "output_type": "stream",
     "text": [
      "\n",
      "\n",
      "test_df\n",
      "              d0         d1        d2         d3         d4        d5  \\\n",
      "0      578.53033  230.53235  0.997254  584.17610  221.87859  0.972028   \n",
      "1      920.09784  375.53006  0.972105  944.41710  346.81830  0.997568   \n",
      "2      766.30960  252.15428  0.994588  777.61940  225.52296  0.991696   \n",
      "3      710.24036  232.16788  0.993728  724.85980  201.97440  0.998824   \n",
      "4      743.05970  192.98499  0.992488  765.76780  169.78462  0.989598   \n",
      "...          ...        ...       ...        ...        ...       ...   \n",
      "16674  439.34560  229.46915  0.991680  457.49250  200.63686  0.990643   \n",
      "16675  831.20184  257.23987  0.993503  870.40430  225.87146  0.991977   \n",
      "16676  675.22986  146.00938  0.998339  714.07970  129.44043  0.990368   \n",
      "16677  365.72820  188.31245  0.993100  383.71097  165.13180  0.991528   \n",
      "16678  820.39874  276.85623  0.992258  846.90924  255.66278  0.990174   \n",
      "\n",
      "              d6          d7        d8          d9  ...  d42  d43  d44  d45  \\\n",
      "0      555.77313  209.135130  0.985637     0.00000  ...  0.0  0.0  0.0  0.0   \n",
      "1      897.46027  344.804930  0.803327  1001.61444  ...  0.0  0.0  0.0  0.0   \n",
      "2      731.83936  231.202400  0.998233     0.00000  ...  0.0  0.0  0.0  0.0   \n",
      "3      690.78220  229.546750  0.989725   784.50476  ...  0.0  0.0  0.0  0.0   \n",
      "4      716.49340  172.981800  0.998406   792.81976  ...  0.0  0.0  0.0  0.0   \n",
      "...          ...         ...       ...         ...  ...  ...  ...  ...  ...   \n",
      "16674  403.43423  207.693270  0.998295   487.32120  ...  0.0  0.0  0.0  0.0   \n",
      "16675  814.57855  224.783660  0.998529   941.03820  ...  0.0  0.0  0.0  0.0   \n",
      "16676  680.02936  127.081566  0.957615   783.90350  ...  0.0  0.0  0.0  0.0   \n",
      "16677  333.78848  173.752980  0.997962   411.76508  ...  0.0  0.0  0.0  0.0   \n",
      "16678  797.48425  258.003200  0.998274   879.70580  ...  0.0  0.0  0.0  0.0   \n",
      "\n",
      "       d46  d47  d48  d49  d50     label  \n",
      "0      0.0  0.0  0.0  0.0  0.0      pain  \n",
      "1      0.0  0.0  0.0  0.0  0.0      pain  \n",
      "2      0.0  0.0  0.0  0.0  0.0  positive  \n",
      "3      0.0  0.0  0.0  0.0  0.0    neutro  \n",
      "4      0.0  0.0  0.0  0.0  0.0  negative  \n",
      "...    ...  ...  ...  ...  ...       ...  \n",
      "16674  0.0  0.0  0.0  0.0  0.0    neutro  \n",
      "16675  0.0  0.0  0.0  0.0  0.0  negative  \n",
      "16676  0.0  0.0  0.0  0.0  0.0    neutro  \n",
      "16677  0.0  0.0  0.0  0.0  0.0  negative  \n",
      "16678  0.0  0.0  0.0  0.0  0.0  negative  \n",
      "\n",
      "[16679 rows x 52 columns]\n"
     ]
    }
   ],
   "source": [
    "# Load filenames and labels\n",
    "train_val_df = pd.read_csv(os.path.join(dataset_base_dir,dataset_labels_file));\n",
    "#print(train_val_df)\n",
    "\n",
    "# Setting labels\n",
    "Y = train_val_df[['label']];\n",
    "L=np.shape(Y)[0];\n",
    "\n",
    "# Load test filenames and labels\n",
    "test_df = pd.read_csv(os.path.join(dataset_base_test_dir,dataset_labels_test_file));\n",
    "\n",
    "print('\\n\\ntest_df')\n",
    "print(test_df)\n"
   ]
  },
  {
   "cell_type": "markdown",
   "id": "86da712f-5937-4965-9623-82c4ee139297",
   "metadata": {},
   "source": [
    "# Setting the cross-validation split\n"
   ]
  },
  {
   "cell_type": "code",
   "execution_count": 11,
   "id": "dcab2262-3467-4ee3-86a8-9eda4f5ff726",
   "metadata": {},
   "outputs": [
    {
     "name": "stdout",
     "output_type": "stream",
     "text": [
      "\n",
      "\n",
      "training_df\n",
      "               d0         d1        d2          d3         d4        d5  \\\n",
      "8982    960.05600  202.20062  0.994441   976.69696  189.05788  0.992597   \n",
      "11571   734.76117  259.07974  0.993402   759.39734  234.89705  0.991606   \n",
      "17123   652.60890  174.34769  0.992906   675.89560  160.28514  0.989038   \n",
      "20066   556.48460  194.43310  0.998464   589.38180  167.67004  0.993131   \n",
      "8822    429.19846  220.50840  0.992251   463.33950  198.33228  0.998347   \n",
      "...           ...        ...       ...         ...        ...       ...   \n",
      "7149    490.36950  226.31702  0.988921   496.08840  212.05159  0.986984   \n",
      "20120  1056.60690  265.03806  0.990833  1076.93210  245.03746  0.986916   \n",
      "14275   476.07532  332.64615  0.992961   495.98813  290.08920  0.993253   \n",
      "5284    570.50950  168.71097  0.992591   592.79803  150.86066  0.990587   \n",
      "7290    746.79913  177.09557  0.990950   764.65170  162.77843  0.989897   \n",
      "\n",
      "               d6         d7        d8         d9  ...  d42  d43  d44  d45  \\\n",
      "8982    929.15550  181.70969  0.998692    0.00000  ...  0.0  0.0  0.0  0.0   \n",
      "11571   711.77200  233.69232  0.998602  792.00305  ...  0.0  0.0  0.0  0.0   \n",
      "17123   633.35156  159.60834  0.998517  708.47210  ...  0.0  0.0  0.0  0.0   \n",
      "20066   545.33340  171.79012  0.989662  661.61080  ...  0.0  0.0  0.0  0.0   \n",
      "8822    411.15170  196.27556  0.990344  518.35406  ...  0.0  0.0  0.0  0.0   \n",
      "...           ...        ...       ...        ...  ...  ...  ...  ...  ...   \n",
      "7149    459.62405  215.08809  0.998455    0.00000  ...  0.0  0.0  0.0  0.0   \n",
      "20120  1020.67870  244.83191  0.997955    0.00000  ...  0.0  0.0  0.0  0.0   \n",
      "14275   439.67328  303.71506  0.998661  538.56470  ...  0.0  0.0  0.0  0.0   \n",
      "5284    544.28150  145.71306  0.998594  612.69415  ...  0.0  0.0  0.0  0.0   \n",
      "7290    714.78320  153.33357  0.998028    0.00000  ...  0.0  0.0  0.0  0.0   \n",
      "\n",
      "       d46  d47  d48  d49  d50     label  \n",
      "8982   0.0  0.0  0.0  0.0  0.0    neutro  \n",
      "11571  0.0  0.0  0.0  0.0  0.0  negative  \n",
      "17123  0.0  0.0  0.0  0.0  0.0  positive  \n",
      "20066  0.0  0.0  0.0  0.0  0.0    neutro  \n",
      "8822   0.0  0.0  0.0  0.0  0.0  positive  \n",
      "...    ...  ...  ...  ...  ...       ...  \n",
      "7149   0.0  0.0  0.0  0.0  0.0      pain  \n",
      "20120  0.0  0.0  0.0  0.0  0.0    neutro  \n",
      "14275  0.0  0.0  0.0  0.0  0.0      pain  \n",
      "5284   0.0  0.0  0.0  0.0  0.0  positive  \n",
      "7290   0.0  0.0  0.0  0.0  0.0  negative  \n",
      "\n",
      "[21594 rows x 52 columns]\n",
      "\n",
      "\n",
      "validation_df\n",
      "              d0         d1        d2         d3         d4        d5  \\\n",
      "5204   439.45874  252.41171  0.973478  470.08900  228.62314  0.988573   \n",
      "19103  692.40950  148.99464  0.991743  711.37270  129.91030  0.990131   \n",
      "15725  571.24610  181.10843  0.992614  597.35610  162.32610  0.998473   \n",
      "4697   765.71045  220.52809  0.989963  793.77344  194.24617  0.990062   \n",
      "3964   764.99270  249.59853  0.992941  779.56335  228.31485  0.989173   \n",
      "...          ...        ...       ...        ...        ...       ...   \n",
      "20540  421.95398  214.76436  0.994722  453.46124  193.62128  0.998591   \n",
      "18492  788.11850  181.60251  0.992710  810.84550  157.37318  0.989191   \n",
      "22235  444.96440  150.22807  0.992919  470.85397  141.61282  0.998815   \n",
      "18500  594.54535  177.19861  0.985744  624.66680  142.23158  0.987016   \n",
      "3754   819.64360  199.32500  0.988233  839.87213  177.59846  0.987180   \n",
      "\n",
      "              d6         d7        d8         d9  ...  d42  d43  d44  d45  \\\n",
      "5204   427.31067  229.40962  0.975215  539.09595  ...  0.0  0.0  0.0  0.0   \n",
      "19103  657.74120  131.93222  0.998687  735.67580  ...  0.0  0.0  0.0  0.0   \n",
      "15725  554.09890  163.57207  0.991601  645.52370  ...  0.0  0.0  0.0  0.0   \n",
      "4697   741.15000  193.76431  0.998522  826.90440  ...  0.0  0.0  0.0  0.0   \n",
      "3964   732.33044  226.88496  0.998159    0.00000  ...  0.0  0.0  0.0  0.0   \n",
      "...          ...        ...       ...        ...  ...  ...  ...  ...  ...   \n",
      "20540  401.24338  194.95090  0.991068  508.61923  ...  0.0  0.0  0.0  0.0   \n",
      "18492  759.69560  158.23622  0.998538  831.27045  ...  0.0  0.0  0.0  0.0   \n",
      "22235  425.95102  137.66430  0.989407  501.67712  ...  0.0  0.0  0.0  0.0   \n",
      "18500  579.76610  155.14125  0.997933  709.51590  ...  0.0  0.0  0.0  0.0   \n",
      "3754   790.30630  168.15814  0.997825    0.00000  ...  0.0  0.0  0.0  0.0   \n",
      "\n",
      "       d46  d47  d48  d49  d50     label  \n",
      "5204   0.0  0.0  0.0  0.0  0.0      pain  \n",
      "19103  0.0  0.0  0.0  0.0  0.0    neutro  \n",
      "15725  0.0  0.0  0.0  0.0  0.0  positive  \n",
      "4697   0.0  0.0  0.0  0.0  0.0      pain  \n",
      "3964   0.0  0.0  0.0  0.0  0.0  positive  \n",
      "...    ...  ...  ...  ...  ...       ...  \n",
      "20540  0.0  0.0  0.0  0.0  0.0  positive  \n",
      "18492  0.0  0.0  0.0  0.0  0.0  negative  \n",
      "22235  0.0  0.0  0.0  0.0  0.0    neutro  \n",
      "18500  0.0  0.0  0.0  0.0  0.0  negative  \n",
      "3754   0.0  0.0  0.0  0.0  0.0  negative  \n",
      "\n",
      "[5399 rows x 52 columns]\n"
     ]
    }
   ],
   "source": [
    "from sklearn.model_selection import train_test_split\n",
    "\n",
    "training_df, validation_df = train_test_split(train_val_df, test_size=0.2,shuffle=True, stratify=Y)\n",
    "\n",
    "print('\\n\\ntraining_df')\n",
    "print(training_df);\n",
    "\n",
    "\n",
    "print('\\n\\nvalidation_df')\n",
    "print(validation_df)"
   ]
  },
  {
   "cell_type": "markdown",
   "id": "67beeb38-1ad1-455d-8a71-5900a1e88163",
   "metadata": {},
   "source": [
    "# Data augmentation configuration"
   ]
  },
  {
   "cell_type": "code",
   "execution_count": 12,
   "id": "c2e3e68f-50e7-4f8c-9cd6-ae3261e8f20f",
   "metadata": {},
   "outputs": [
    {
     "name": "stdout",
     "output_type": "stream",
     "text": [
      "train: (21594, 51)\n",
      "val: (5399, 51)\n",
      "test: (16679, 51)\n"
     ]
    }
   ],
   "source": [
    "import SkeletonEmotion4Lib.DataAugmentation as sda\n",
    "import SkeletonEmotion4Lib.lib_tools as slt\n",
    "\n",
    "training_data_array   = slt.batch_normalize_coordinates(training_df.iloc[:,0:51].values)\n",
    "validation_data_array = slt.batch_normalize_coordinates(validation_df.iloc[:,0:51].values)\n",
    "test_data_array       = slt.batch_normalize_coordinates(test_df.iloc[:,0:51].values)\n",
    "\n",
    "print('train:',training_data_array.shape)\n",
    "print('val:',validation_data_array.shape)\n",
    "print('test:',test_data_array.shape)\n",
    "\n",
    "train_data_generator = sda.DataAugmentationEncDecGenerator(training_data_array, \n",
    "                                    batch_size=BATCH_SIZE, \n",
    "                                    augment_fn=lambda X: slt.batch_random_rotate_coordinates(X,angle=ANGLE),\n",
    "                                    shuffle=True);\n",
    "\n",
    "valid_data_generator = sda.DataAugmentationEncDecGenerator(validation_data_array, \n",
    "                                        batch_size=BATCH_SIZE, \n",
    "                                        augment_fn=None,\n",
    "                                        shuffle=True);\n",
    "\n",
    "test_data_generator = sda.DataAugmentationEncDecGenerator(   test_data_array, \n",
    "                                            batch_size=BATCH_SIZE, \n",
    "                                            augment_fn=None,\n",
    "                                            shuffle=False);\n",
    "\n",
    "\n"
   ]
  },
  {
   "cell_type": "markdown",
   "id": "ed5189cf-b447-4b0a-b9f3-56f304d6fdde",
   "metadata": {},
   "source": [
    "# Creating output directory"
   ]
  },
  {
   "cell_type": "code",
   "execution_count": 13,
   "id": "6a786de7-43ac-4597-92eb-d9eee66f81d9",
   "metadata": {},
   "outputs": [],
   "source": [
    "output_dir = os.path.join(output_base_dir,dataset_name,'training_validation_holdout_encdec',subdir);\n",
    "\n",
    "os.makedirs(output_base_dir,exist_ok = True);\n",
    "\n",
    "os.makedirs(output_dir,exist_ok = True);"
   ]
  },
  {
   "cell_type": "markdown",
   "id": "bbf04e51-7a7b-4116-8e1e-04e5f358c5dc",
   "metadata": {},
   "source": [
    "# Create new encoder-decoder model"
   ]
  },
  {
   "cell_type": "code",
   "execution_count": 14,
   "id": "5d629ba9-d621-4905-a88f-a0730d6c1802",
   "metadata": {},
   "outputs": [
    {
     "name": "stdout",
     "output_type": "stream",
     "text": [
      "input_shape (None, 51)\n",
      "output_shape (None, 51)\n",
      "\n",
      "Model: \"sequential_2\"\n",
      "_________________________________________________________________\n",
      " Layer (type)                Output Shape              Param #   \n",
      "=================================================================\n",
      " sequential (Sequential)     (None, 15)                17128     \n",
      "                                                                 \n",
      " sequential_1 (Sequential)   (None, 51)                17164     \n"
     ]
    },
    {
     "name": "stderr",
     "output_type": "stream",
     "text": [
      "2024-07-24 12:10:49.215335: I external/local_xla/xla/stream_executor/cuda/cuda_executor.cc:998] successful NUMA node read from SysFS had negative value (-1), but there must be at least one NUMA node, so returning NUMA node zero. See more at https://github.com/torvalds/linux/blob/v6.0/Documentation/ABI/testing/sysfs-bus-pci#L344-L355\n",
      "2024-07-24 12:10:49.215616: I external/local_xla/xla/stream_executor/cuda/cuda_executor.cc:998] successful NUMA node read from SysFS had negative value (-1), but there must be at least one NUMA node, so returning NUMA node zero. See more at https://github.com/torvalds/linux/blob/v6.0/Documentation/ABI/testing/sysfs-bus-pci#L344-L355\n",
      "2024-07-24 12:10:49.215820: I external/local_xla/xla/stream_executor/cuda/cuda_executor.cc:998] successful NUMA node read from SysFS had negative value (-1), but there must be at least one NUMA node, so returning NUMA node zero. See more at https://github.com/torvalds/linux/blob/v6.0/Documentation/ABI/testing/sysfs-bus-pci#L344-L355\n",
      "2024-07-24 12:10:49.305189: I external/local_xla/xla/stream_executor/cuda/cuda_executor.cc:998] successful NUMA node read from SysFS had negative value (-1), but there must be at least one NUMA node, so returning NUMA node zero. See more at https://github.com/torvalds/linux/blob/v6.0/Documentation/ABI/testing/sysfs-bus-pci#L344-L355\n",
      "2024-07-24 12:10:49.305495: I external/local_xla/xla/stream_executor/cuda/cuda_executor.cc:998] successful NUMA node read from SysFS had negative value (-1), but there must be at least one NUMA node, so returning NUMA node zero. See more at https://github.com/torvalds/linux/blob/v6.0/Documentation/ABI/testing/sysfs-bus-pci#L344-L355\n",
      "2024-07-24 12:10:49.305689: I external/local_xla/xla/stream_executor/cuda/cuda_executor.cc:998] successful NUMA node read from SysFS had negative value (-1), but there must be at least one NUMA node, so returning NUMA node zero. See more at https://github.com/torvalds/linux/blob/v6.0/Documentation/ABI/testing/sysfs-bus-pci#L344-L355\n",
      "2024-07-24 12:10:49.305845: I tensorflow/core/common_runtime/gpu/gpu_device.cc:1928] Created device /job:localhost/replica:0/task:0/device:GPU:0 with 1737 MB memory:  -> device: 0, name: NVIDIA GeForce MX150, pci bus id: 0000:01:00.0, compute capability: 6.1\n"
     ]
    },
    {
     "name": "stdout",
     "output_type": "stream",
     "text": [
      "                                                                 \n",
      "=================================================================\n",
      "Total params: 34292 (133.95 KB)\n",
      "Trainable params: 34292 (133.95 KB)\n",
      "Non-trainable params: 0 (0.00 Byte)\n",
      "_________________________________________________________________\n"
     ]
    }
   ],
   "source": [
    "import SkeletonEmotion4Lib.lib_model as mpp\n",
    "\n",
    "model = mpp.create_model_encdec(load_weights=False,file_of_weight=file_of_weight,ncod=NCOD);\n",
    "\n",
    "print('input_shape',model.input_shape)\n",
    "print('output_shape',model.output_shape)\n",
    "print('')\n",
    "\n",
    "model.summary()\n",
    "\n",
    "mpp.save_model_parameters(model, os.path.join(output_dir,'parameters_stats_endec.m'));\n"
   ]
  },
  {
   "cell_type": "code",
   "execution_count": 15,
   "id": "0ca642ba-fd51-4b8b-a9ce-1782d9b4a819",
   "metadata": {},
   "outputs": [],
   "source": [
    "# COMPILE NEW MODEL\n",
    "model.compile(loss='mse',\n",
    "              optimizer='adam',\n",
    "              metrics=['RootMeanSquaredError'])\n",
    "\n",
    "# CREATE CALLBACKS\n",
    "best_model_encdec_file=os.path.join(output_dir,'model_encdec.h5');\n",
    "checkpoint = tf.keras.callbacks.ModelCheckpoint(filepath=best_model_encdec_file, \n",
    "                                                save_weights_only=True,\n",
    "                                                monitor='val_loss', \n",
    "                                                save_best_only=True, \n",
    "                                                verbose=1);\n",
    "\n",
    "# Definindo o callback EarlyStopping\n",
    "early_stopping = tf.keras.callbacks.EarlyStopping(  monitor='val_loss', \n",
    "                                                    patience=patience,  \n",
    "                                                    verbose=1, \n",
    "                                                    restore_best_weights=False);\n",
    "\n",
    "log_dir = os.path.join(output_dir,\"logs\",\"fit\",'encdec-'+datetime.datetime.now().strftime(\"%Y%m%d-%H%M%S\"));\n",
    "tensorboard_callback = tf.keras.callbacks.TensorBoard(log_dir=log_dir, histogram_freq=1)"
   ]
  },
  {
   "cell_type": "code",
   "execution_count": 16,
   "id": "13cd68b8-e1aa-4ef4-af04-e05781f309ff",
   "metadata": {
    "scrolled": true
   },
   "outputs": [
    {
     "name": "stdout",
     "output_type": "stream",
     "text": [
      "Epoch 1/40\n"
     ]
    },
    {
     "name": "stderr",
     "output_type": "stream",
     "text": [
      "WARNING: All log messages before absl::InitializeLog() is called are written to STDERR\n",
      "I0000 00:00:1721833861.379215  366603 service.cc:145] XLA service 0x7c4f3420a0e0 initialized for platform CUDA (this does not guarantee that XLA will be used). Devices:\n",
      "I0000 00:00:1721833861.379275  366603 service.cc:153]   StreamExecutor device (0): NVIDIA GeForce MX150, Compute Capability 6.1\n",
      "2024-07-24 12:11:01.388194: I tensorflow/compiler/mlir/tensorflow/utils/dump_mlir_util.cc:268] disabling MLIR crash reproducer, set env var `MLIR_CRASH_REPRODUCER_DIRECTORY` to enable.\n",
      "2024-07-24 12:11:01.415357: I external/local_xla/xla/stream_executor/cuda/cuda_dnn.cc:465] Loaded cuDNN version 8906\n",
      "I0000 00:00:1721833861.502162  366603 device_compiler.h:188] Compiled cluster using XLA!  This line is logged at most once for the lifetime of the process.\n"
     ]
    },
    {
     "name": "stdout",
     "output_type": "stream",
     "text": [
      "21/22 [===========================>..] - ETA: 0s - loss: 0.5960 - root_mean_squared_error: 0.7720\n",
      "Epoch 1: val_loss improved from inf to 0.45017, saving model to /media/fernando/Expansion/OUTPUTS/DOCTORADO2/fcnn_emotion4/ber2024-skel/training_validation_holdout/model_encdec.h5\n",
      "22/22 [==============================] - 14s 61ms/step - loss: 0.5911 - root_mean_squared_error: 0.7688 - val_loss: 0.4502 - val_root_mean_squared_error: 0.6709\n",
      "Epoch 2/40\n",
      "22/22 [==============================] - ETA: 0s - loss: 0.4034 - root_mean_squared_error: 0.6351\n",
      "Epoch 2: val_loss improved from 0.45017 to 0.31469, saving model to /media/fernando/Expansion/OUTPUTS/DOCTORADO2/fcnn_emotion4/ber2024-skel/training_validation_holdout/model_encdec.h5\n",
      "22/22 [==============================] - 1s 38ms/step - loss: 0.4034 - root_mean_squared_error: 0.6351 - val_loss: 0.3147 - val_root_mean_squared_error: 0.5610\n",
      "Epoch 3/40\n",
      "22/22 [==============================] - ETA: 0s - loss: 0.3501 - root_mean_squared_error: 0.5917\n",
      "Epoch 3: val_loss improved from 0.31469 to 0.29007, saving model to /media/fernando/Expansion/OUTPUTS/DOCTORADO2/fcnn_emotion4/ber2024-skel/training_validation_holdout/model_encdec.h5\n",
      "22/22 [==============================] - 1s 66ms/step - loss: 0.3501 - root_mean_squared_error: 0.5917 - val_loss: 0.2901 - val_root_mean_squared_error: 0.5386\n",
      "Epoch 4/40\n",
      "21/22 [===========================>..] - ETA: 0s - loss: 0.3393 - root_mean_squared_error: 0.5825\n",
      "Epoch 4: val_loss improved from 0.29007 to 0.28489, saving model to /media/fernando/Expansion/OUTPUTS/DOCTORADO2/fcnn_emotion4/ber2024-skel/training_validation_holdout/model_encdec.h5\n",
      "22/22 [==============================] - 1s 48ms/step - loss: 0.3390 - root_mean_squared_error: 0.5822 - val_loss: 0.2849 - val_root_mean_squared_error: 0.5337\n",
      "Epoch 5/40\n",
      "21/22 [===========================>..] - ETA: 0s - loss: 0.3208 - root_mean_squared_error: 0.5664\n",
      "Epoch 5: val_loss did not improve from 0.28489\n",
      "22/22 [==============================] - 1s 42ms/step - loss: 0.3199 - root_mean_squared_error: 0.5656 - val_loss: 0.2876 - val_root_mean_squared_error: 0.5363\n",
      "Epoch 6/40\n",
      "21/22 [===========================>..] - ETA: 0s - loss: 0.2919 - root_mean_squared_error: 0.5403\n",
      "Epoch 6: val_loss improved from 0.28489 to 0.27875, saving model to /media/fernando/Expansion/OUTPUTS/DOCTORADO2/fcnn_emotion4/ber2024-skel/training_validation_holdout/model_encdec.h5\n",
      "22/22 [==============================] - 1s 58ms/step - loss: 0.2916 - root_mean_squared_error: 0.5400 - val_loss: 0.2788 - val_root_mean_squared_error: 0.5280\n",
      "Epoch 7/40\n",
      "22/22 [==============================] - ETA: 0s - loss: 0.2787 - root_mean_squared_error: 0.5279\n",
      "Epoch 7: val_loss improved from 0.27875 to 0.26886, saving model to /media/fernando/Expansion/OUTPUTS/DOCTORADO2/fcnn_emotion4/ber2024-skel/training_validation_holdout/model_encdec.h5\n",
      "22/22 [==============================] - 1s 59ms/step - loss: 0.2787 - root_mean_squared_error: 0.5279 - val_loss: 0.2689 - val_root_mean_squared_error: 0.5185\n",
      "Epoch 8/40\n",
      "22/22 [==============================] - ETA: 0s - loss: 0.2645 - root_mean_squared_error: 0.5143\n",
      "Epoch 8: val_loss improved from 0.26886 to 0.24615, saving model to /media/fernando/Expansion/OUTPUTS/DOCTORADO2/fcnn_emotion4/ber2024-skel/training_validation_holdout/model_encdec.h5\n",
      "22/22 [==============================] - 2s 78ms/step - loss: 0.2645 - root_mean_squared_error: 0.5143 - val_loss: 0.2461 - val_root_mean_squared_error: 0.4961\n",
      "Epoch 9/40\n",
      "21/22 [===========================>..] - ETA: 0s - loss: 0.2369 - root_mean_squared_error: 0.4868\n",
      "Epoch 9: val_loss improved from 0.24615 to 0.19028, saving model to /media/fernando/Expansion/OUTPUTS/DOCTORADO2/fcnn_emotion4/ber2024-skel/training_validation_holdout/model_encdec.h5\n",
      "22/22 [==============================] - 1s 50ms/step - loss: 0.2358 - root_mean_squared_error: 0.4856 - val_loss: 0.1903 - val_root_mean_squared_error: 0.4362\n",
      "Epoch 10/40\n",
      "22/22 [==============================] - ETA: 0s - loss: 0.1866 - root_mean_squared_error: 0.4319\n",
      "Epoch 10: val_loss improved from 0.19028 to 0.12564, saving model to /media/fernando/Expansion/OUTPUTS/DOCTORADO2/fcnn_emotion4/ber2024-skel/training_validation_holdout/model_encdec.h5\n",
      "22/22 [==============================] - 1s 57ms/step - loss: 0.1866 - root_mean_squared_error: 0.4319 - val_loss: 0.1256 - val_root_mean_squared_error: 0.3545\n",
      "Epoch 11/40\n",
      "22/22 [==============================] - ETA: 0s - loss: 0.1573 - root_mean_squared_error: 0.3966\n",
      "Epoch 11: val_loss improved from 0.12564 to 0.10325, saving model to /media/fernando/Expansion/OUTPUTS/DOCTORADO2/fcnn_emotion4/ber2024-skel/training_validation_holdout/model_encdec.h5\n",
      "22/22 [==============================] - 1s 46ms/step - loss: 0.1573 - root_mean_squared_error: 0.3966 - val_loss: 0.1032 - val_root_mean_squared_error: 0.3213\n",
      "Epoch 12/40\n",
      "21/22 [===========================>..] - ETA: 0s - loss: 0.1490 - root_mean_squared_error: 0.3861\n",
      "Epoch 12: val_loss improved from 0.10325 to 0.09747, saving model to /media/fernando/Expansion/OUTPUTS/DOCTORADO2/fcnn_emotion4/ber2024-skel/training_validation_holdout/model_encdec.h5\n",
      "22/22 [==============================] - 1s 49ms/step - loss: 0.1489 - root_mean_squared_error: 0.3859 - val_loss: 0.0975 - val_root_mean_squared_error: 0.3122\n",
      "Epoch 13/40\n",
      "22/22 [==============================] - ETA: 0s - loss: 0.1435 - root_mean_squared_error: 0.3788\n",
      "Epoch 13: val_loss improved from 0.09747 to 0.09523, saving model to /media/fernando/Expansion/OUTPUTS/DOCTORADO2/fcnn_emotion4/ber2024-skel/training_validation_holdout/model_encdec.h5\n",
      "22/22 [==============================] - 1s 40ms/step - loss: 0.1435 - root_mean_squared_error: 0.3788 - val_loss: 0.0952 - val_root_mean_squared_error: 0.3086\n",
      "Epoch 14/40\n",
      "22/22 [==============================] - ETA: 0s - loss: 0.1410 - root_mean_squared_error: 0.3754\n",
      "Epoch 14: val_loss improved from 0.09523 to 0.09234, saving model to /media/fernando/Expansion/OUTPUTS/DOCTORADO2/fcnn_emotion4/ber2024-skel/training_validation_holdout/model_encdec.h5\n",
      "22/22 [==============================] - 1s 45ms/step - loss: 0.1410 - root_mean_squared_error: 0.3754 - val_loss: 0.0923 - val_root_mean_squared_error: 0.3039\n",
      "Epoch 15/40\n",
      "22/22 [==============================] - ETA: 0s - loss: 0.1379 - root_mean_squared_error: 0.3713\n",
      "Epoch 15: val_loss improved from 0.09234 to 0.08914, saving model to /media/fernando/Expansion/OUTPUTS/DOCTORADO2/fcnn_emotion4/ber2024-skel/training_validation_holdout/model_encdec.h5\n",
      "22/22 [==============================] - 1s 38ms/step - loss: 0.1379 - root_mean_squared_error: 0.3713 - val_loss: 0.0891 - val_root_mean_squared_error: 0.2986\n",
      "Epoch 16/40\n",
      "22/22 [==============================] - ETA: 0s - loss: 0.1362 - root_mean_squared_error: 0.3691\n",
      "Epoch 16: val_loss improved from 0.08914 to 0.08818, saving model to /media/fernando/Expansion/OUTPUTS/DOCTORADO2/fcnn_emotion4/ber2024-skel/training_validation_holdout/model_encdec.h5\n",
      "22/22 [==============================] - 1s 38ms/step - loss: 0.1362 - root_mean_squared_error: 0.3691 - val_loss: 0.0882 - val_root_mean_squared_error: 0.2970\n",
      "Epoch 17/40\n",
      "21/22 [===========================>..] - ETA: 0s - loss: 0.1338 - root_mean_squared_error: 0.3658\n",
      "Epoch 17: val_loss improved from 0.08818 to 0.08635, saving model to /media/fernando/Expansion/OUTPUTS/DOCTORADO2/fcnn_emotion4/ber2024-skel/training_validation_holdout/model_encdec.h5\n",
      "22/22 [==============================] - 1s 60ms/step - loss: 0.1337 - root_mean_squared_error: 0.3656 - val_loss: 0.0863 - val_root_mean_squared_error: 0.2938\n",
      "Epoch 18/40\n",
      "21/22 [===========================>..] - ETA: 0s - loss: 0.1316 - root_mean_squared_error: 0.3628\n",
      "Epoch 18: val_loss improved from 0.08635 to 0.08628, saving model to /media/fernando/Expansion/OUTPUTS/DOCTORADO2/fcnn_emotion4/ber2024-skel/training_validation_holdout/model_encdec.h5\n",
      "22/22 [==============================] - 1s 69ms/step - loss: 0.1316 - root_mean_squared_error: 0.3628 - val_loss: 0.0863 - val_root_mean_squared_error: 0.2937\n",
      "Epoch 19/40\n",
      "22/22 [==============================] - ETA: 0s - loss: 0.1294 - root_mean_squared_error: 0.3597\n",
      "Epoch 19: val_loss improved from 0.08628 to 0.08324, saving model to /media/fernando/Expansion/OUTPUTS/DOCTORADO2/fcnn_emotion4/ber2024-skel/training_validation_holdout/model_encdec.h5\n",
      "22/22 [==============================] - 2s 103ms/step - loss: 0.1294 - root_mean_squared_error: 0.3597 - val_loss: 0.0832 - val_root_mean_squared_error: 0.2885\n",
      "Epoch 20/40\n",
      "21/22 [===========================>..] - ETA: 0s - loss: 0.1267 - root_mean_squared_error: 0.3559\n",
      "Epoch 20: val_loss improved from 0.08324 to 0.08200, saving model to /media/fernando/Expansion/OUTPUTS/DOCTORADO2/fcnn_emotion4/ber2024-skel/training_validation_holdout/model_encdec.h5\n",
      "22/22 [==============================] - 2s 68ms/step - loss: 0.1267 - root_mean_squared_error: 0.3559 - val_loss: 0.0820 - val_root_mean_squared_error: 0.2864\n",
      "Epoch 21/40\n",
      "21/22 [===========================>..] - ETA: 0s - loss: 0.1245 - root_mean_squared_error: 0.3528\n",
      "Epoch 21: val_loss improved from 0.08200 to 0.08179, saving model to /media/fernando/Expansion/OUTPUTS/DOCTORADO2/fcnn_emotion4/ber2024-skel/training_validation_holdout/model_encdec.h5\n",
      "22/22 [==============================] - 1s 60ms/step - loss: 0.1244 - root_mean_squared_error: 0.3527 - val_loss: 0.0818 - val_root_mean_squared_error: 0.2860\n",
      "Epoch 22/40\n",
      "21/22 [===========================>..] - ETA: 0s - loss: 0.1207 - root_mean_squared_error: 0.3474\n",
      "Epoch 22: val_loss improved from 0.08179 to 0.08073, saving model to /media/fernando/Expansion/OUTPUTS/DOCTORADO2/fcnn_emotion4/ber2024-skel/training_validation_holdout/model_encdec.h5\n",
      "22/22 [==============================] - 1s 44ms/step - loss: 0.1208 - root_mean_squared_error: 0.3475 - val_loss: 0.0807 - val_root_mean_squared_error: 0.2841\n",
      "Epoch 23/40\n",
      "22/22 [==============================] - ETA: 0s - loss: 0.1186 - root_mean_squared_error: 0.3444\n",
      "Epoch 23: val_loss improved from 0.08073 to 0.07983, saving model to /media/fernando/Expansion/OUTPUTS/DOCTORADO2/fcnn_emotion4/ber2024-skel/training_validation_holdout/model_encdec.h5\n",
      "22/22 [==============================] - 1s 46ms/step - loss: 0.1186 - root_mean_squared_error: 0.3444 - val_loss: 0.0798 - val_root_mean_squared_error: 0.2825\n",
      "Epoch 24/40\n",
      "22/22 [==============================] - ETA: 0s - loss: 0.1143 - root_mean_squared_error: 0.3381\n",
      "Epoch 24: val_loss did not improve from 0.07983\n",
      "22/22 [==============================] - 1s 54ms/step - loss: 0.1143 - root_mean_squared_error: 0.3381 - val_loss: 0.0803 - val_root_mean_squared_error: 0.2834\n",
      "Epoch 25/40\n",
      "21/22 [===========================>..] - ETA: 0s - loss: 0.1095 - root_mean_squared_error: 0.3308\n",
      "Epoch 25: val_loss improved from 0.07983 to 0.07951, saving model to /media/fernando/Expansion/OUTPUTS/DOCTORADO2/fcnn_emotion4/ber2024-skel/training_validation_holdout/model_encdec.h5\n",
      "22/22 [==============================] - 1s 53ms/step - loss: 0.1093 - root_mean_squared_error: 0.3306 - val_loss: 0.0795 - val_root_mean_squared_error: 0.2820\n",
      "Epoch 26/40\n",
      "21/22 [===========================>..] - ETA: 0s - loss: 0.1047 - root_mean_squared_error: 0.3235\n",
      "Epoch 26: val_loss improved from 0.07951 to 0.07915, saving model to /media/fernando/Expansion/OUTPUTS/DOCTORADO2/fcnn_emotion4/ber2024-skel/training_validation_holdout/model_encdec.h5\n",
      "22/22 [==============================] - 1s 45ms/step - loss: 0.1046 - root_mean_squared_error: 0.3234 - val_loss: 0.0791 - val_root_mean_squared_error: 0.2813\n",
      "Epoch 27/40\n",
      "21/22 [===========================>..] - ETA: 0s - loss: 0.1006 - root_mean_squared_error: 0.3172\n",
      "Epoch 27: val_loss improved from 0.07915 to 0.07835, saving model to /media/fernando/Expansion/OUTPUTS/DOCTORADO2/fcnn_emotion4/ber2024-skel/training_validation_holdout/model_encdec.h5\n",
      "22/22 [==============================] - 1s 52ms/step - loss: 0.1006 - root_mean_squared_error: 0.3171 - val_loss: 0.0784 - val_root_mean_squared_error: 0.2799\n",
      "Epoch 28/40\n",
      "21/22 [===========================>..] - ETA: 0s - loss: 0.0971 - root_mean_squared_error: 0.3116\n",
      "Epoch 28: val_loss did not improve from 0.07835\n",
      "22/22 [==============================] - 1s 52ms/step - loss: 0.0971 - root_mean_squared_error: 0.3116 - val_loss: 0.0792 - val_root_mean_squared_error: 0.2814\n",
      "Epoch 29/40\n",
      "21/22 [===========================>..] - ETA: 0s - loss: 0.0968 - root_mean_squared_error: 0.3112\n",
      "Epoch 29: val_loss improved from 0.07835 to 0.07803, saving model to /media/fernando/Expansion/OUTPUTS/DOCTORADO2/fcnn_emotion4/ber2024-skel/training_validation_holdout/model_encdec.h5\n",
      "22/22 [==============================] - 1s 46ms/step - loss: 0.0967 - root_mean_squared_error: 0.3110 - val_loss: 0.0780 - val_root_mean_squared_error: 0.2793\n",
      "Epoch 30/40\n",
      "22/22 [==============================] - ETA: 0s - loss: 0.0930 - root_mean_squared_error: 0.3049\n",
      "Epoch 30: val_loss improved from 0.07803 to 0.07624, saving model to /media/fernando/Expansion/OUTPUTS/DOCTORADO2/fcnn_emotion4/ber2024-skel/training_validation_holdout/model_encdec.h5\n",
      "22/22 [==============================] - 1s 44ms/step - loss: 0.0930 - root_mean_squared_error: 0.3049 - val_loss: 0.0762 - val_root_mean_squared_error: 0.2761\n",
      "Epoch 31/40\n",
      "22/22 [==============================] - ETA: 0s - loss: 0.0900 - root_mean_squared_error: 0.3000\n",
      "Epoch 31: val_loss improved from 0.07624 to 0.07552, saving model to /media/fernando/Expansion/OUTPUTS/DOCTORADO2/fcnn_emotion4/ber2024-skel/training_validation_holdout/model_encdec.h5\n",
      "22/22 [==============================] - 1s 44ms/step - loss: 0.0900 - root_mean_squared_error: 0.3000 - val_loss: 0.0755 - val_root_mean_squared_error: 0.2748\n",
      "Epoch 32/40\n",
      "22/22 [==============================] - ETA: 0s - loss: 0.0880 - root_mean_squared_error: 0.2966\n",
      "Epoch 32: val_loss improved from 0.07552 to 0.07545, saving model to /media/fernando/Expansion/OUTPUTS/DOCTORADO2/fcnn_emotion4/ber2024-skel/training_validation_holdout/model_encdec.h5\n",
      "22/22 [==============================] - 1s 48ms/step - loss: 0.0880 - root_mean_squared_error: 0.2966 - val_loss: 0.0754 - val_root_mean_squared_error: 0.2747\n",
      "Epoch 33/40\n",
      "22/22 [==============================] - ETA: 0s - loss: 0.0881 - root_mean_squared_error: 0.2969\n",
      "Epoch 33: val_loss improved from 0.07545 to 0.07246, saving model to /media/fernando/Expansion/OUTPUTS/DOCTORADO2/fcnn_emotion4/ber2024-skel/training_validation_holdout/model_encdec.h5\n",
      "22/22 [==============================] - 1s 43ms/step - loss: 0.0881 - root_mean_squared_error: 0.2969 - val_loss: 0.0725 - val_root_mean_squared_error: 0.2692\n",
      "Epoch 34/40\n",
      "22/22 [==============================] - ETA: 0s - loss: 0.0848 - root_mean_squared_error: 0.2912\n",
      "Epoch 34: val_loss improved from 0.07246 to 0.07153, saving model to /media/fernando/Expansion/OUTPUTS/DOCTORADO2/fcnn_emotion4/ber2024-skel/training_validation_holdout/model_encdec.h5\n",
      "22/22 [==============================] - 1s 56ms/step - loss: 0.0848 - root_mean_squared_error: 0.2912 - val_loss: 0.0715 - val_root_mean_squared_error: 0.2675\n",
      "Epoch 35/40\n",
      "22/22 [==============================] - ETA: 0s - loss: 0.0840 - root_mean_squared_error: 0.2897\n",
      "Epoch 35: val_loss improved from 0.07153 to 0.07128, saving model to /media/fernando/Expansion/OUTPUTS/DOCTORADO2/fcnn_emotion4/ber2024-skel/training_validation_holdout/model_encdec.h5\n",
      "22/22 [==============================] - 2s 109ms/step - loss: 0.0840 - root_mean_squared_error: 0.2897 - val_loss: 0.0713 - val_root_mean_squared_error: 0.2670\n",
      "Epoch 36/40\n",
      "21/22 [===========================>..] - ETA: 0s - loss: 0.0826 - root_mean_squared_error: 0.2873\n",
      "Epoch 36: val_loss did not improve from 0.07128\n",
      "22/22 [==============================] - 1s 61ms/step - loss: 0.0825 - root_mean_squared_error: 0.2872 - val_loss: 0.0717 - val_root_mean_squared_error: 0.2677\n",
      "Epoch 37/40\n",
      "22/22 [==============================] - ETA: 0s - loss: 0.0822 - root_mean_squared_error: 0.2868\n",
      "Epoch 37: val_loss improved from 0.07128 to 0.06972, saving model to /media/fernando/Expansion/OUTPUTS/DOCTORADO2/fcnn_emotion4/ber2024-skel/training_validation_holdout/model_encdec.h5\n",
      "22/22 [==============================] - 2s 68ms/step - loss: 0.0822 - root_mean_squared_error: 0.2868 - val_loss: 0.0697 - val_root_mean_squared_error: 0.2640\n",
      "Epoch 38/40\n",
      "21/22 [===========================>..] - ETA: 0s - loss: 0.0813 - root_mean_squared_error: 0.2851\n",
      "Epoch 38: val_loss improved from 0.06972 to 0.06950, saving model to /media/fernando/Expansion/OUTPUTS/DOCTORADO2/fcnn_emotion4/ber2024-skel/training_validation_holdout/model_encdec.h5\n",
      "22/22 [==============================] - 2s 72ms/step - loss: 0.0814 - root_mean_squared_error: 0.2853 - val_loss: 0.0695 - val_root_mean_squared_error: 0.2636\n",
      "Epoch 39/40\n",
      "22/22 [==============================] - ETA: 0s - loss: 0.0795 - root_mean_squared_error: 0.2820\n",
      "Epoch 39: val_loss improved from 0.06950 to 0.06933, saving model to /media/fernando/Expansion/OUTPUTS/DOCTORADO2/fcnn_emotion4/ber2024-skel/training_validation_holdout/model_encdec.h5\n",
      "22/22 [==============================] - 1s 67ms/step - loss: 0.0795 - root_mean_squared_error: 0.2820 - val_loss: 0.0693 - val_root_mean_squared_error: 0.2633\n",
      "Epoch 40/40\n",
      "22/22 [==============================] - ETA: 0s - loss: 0.0794 - root_mean_squared_error: 0.2818\n",
      "Epoch 40: val_loss improved from 0.06933 to 0.06877, saving model to /media/fernando/Expansion/OUTPUTS/DOCTORADO2/fcnn_emotion4/ber2024-skel/training_validation_holdout/model_encdec.h5\n",
      "22/22 [==============================] - 1s 64ms/step - loss: 0.0794 - root_mean_squared_error: 0.2818 - val_loss: 0.0688 - val_root_mean_squared_error: 0.2622\n"
     ]
    }
   ],
   "source": [
    "# FIT THE MODEL\n",
    "history = model.fit(train_data_generator,\n",
    "                    epochs=EPOCAS,\n",
    "                    validation_data=valid_data_generator,\n",
    "                    callbacks=[checkpoint,early_stopping,tensorboard_callback],\n",
    "                    verbose=1\n",
    "                   );"
   ]
  },
  {
   "cell_type": "code",
   "execution_count": 17,
   "id": "0ea9caea-8be6-4270-a130-c0f08b82d12f",
   "metadata": {},
   "outputs": [
    {
     "name": "stdout",
     "output_type": "stream",
     "text": [
      "max_val_acc 0.6709461212158203\n"
     ]
    },
    {
     "data": {
      "image/png": "[encoded data removed]",
      "text/plain": [
       "<Figure size 1600x800 with 2 Axes>"
      ]
     },
     "metadata": {},
     "output_type": "display_data"
    }
   ],
   "source": [
    "mpp.save_model_history(history,\n",
    "                       os.path.join(output_dir,\"historical_encdec.csv\"),\n",
    "                       show=False,\n",
    "                       labels=['root_mean_squared_error','loss']);"
   ]
  },
  {
   "cell_type": "code",
   "execution_count": 18,
   "id": "89a724bd-d127-4202-bd6e-579af21dfe6f",
   "metadata": {},
   "outputs": [],
   "source": [
    "model.load_weights(best_model_encdec_file); \n",
    "\n",
    "\n",
    "best_model_encoder_file=os.path.join(output_dir,'model_encoder.h5');\n",
    "best_model_decoder_file=os.path.join(output_dir,'model_decoder.h5');\n",
    "\n",
    "model.layers[0].save_weights(best_model_encoder_file);\n",
    "model.layers[1].save_weights(best_model_decoder_file);"
   ]
  },
  {
   "cell_type": "markdown",
   "id": "083be078-c76e-423a-a538-6e5c6c9cda8c",
   "metadata": {},
   "source": [
    "# Evaluate best encode-decoder model"
   ]
  },
  {
   "cell_type": "code",
   "execution_count": 19,
   "id": "88d1749a-04a9-4779-8531-08cc4935eb35",
   "metadata": {},
   "outputs": [
    {
     "name": "stdout",
     "output_type": "stream",
     "text": [
      "22/22 [==============================] - 1s 43ms/step - loss: 0.0788 - root_mean_squared_error: 0.2807\n",
      "training {'loss': 0.07878986746072769, 'root_mean_squared_error': 0.2806953191757202} \n",
      "\n",
      "\n",
      "6/6 [==============================] - 0s 8ms/step - loss: 0.0688 - root_mean_squared_error: 0.2622\n",
      "validation {'loss': 0.06877236068248749, 'root_mean_squared_error': 0.26224485039711} \n",
      "\n",
      "\n",
      "17/17 [==============================] - 0s 4ms/step - loss: 0.0685 - root_mean_squared_error: 0.2617\n",
      "testing {'loss': 0.0684816911816597, 'root_mean_squared_error': 0.26169005036354065} \n",
      "\n",
      "\n"
     ]
    }
   ],
   "source": [
    "# LOAD BEST MODEL to evaluate the performance of the model\n",
    "model.load_weights(best_model_encdec_file);\n",
    "data_results=dict();\n",
    "\n",
    "# Evaluate training\n",
    "results = model.evaluate(train_data_generator)\n",
    "results = dict(zip(model.metrics_names,results))\n",
    "print('training',results,\"\\n\\n\");\n",
    "for key,value in results.items():\n",
    "    data_results['train_'+key]=value;\n",
    "\n",
    "# Evaluate validation\n",
    "results = model.evaluate(valid_data_generator)\n",
    "results = dict(zip(model.metrics_names,results))\n",
    "print('validation',results,\"\\n\\n\");\n",
    "for key,value in results.items():\n",
    "    data_results['val_'+key]=value;\n",
    "\n",
    "# Evaluate testing\n",
    "results = model.evaluate(test_data_generator)\n",
    "results = dict(zip(model.metrics_names,results))\n",
    "print('testing',results,\"\\n\\n\");\n",
    "for key,value in results.items():\n",
    "    data_results['test_'+key]=value;\n",
    "\n",
    "data_results['number_of_parameters']=mpp.get_model_parameters(model);\n",
    "data_results['ncod']=NCOD;\n",
    "data_results['epochs']=EPOCAS;\n",
    "data_results['patience']=patience;\n",
    "data_results['seed']=seed_number;\n",
    "\n",
    "\n",
    "# final all json\n",
    "with open(os.path.join(output_dir,\"training_data_results_encdec.json\"), 'w') as f:\n",
    "    json.dump(data_results, f,indent=4);\n",
    "\n",
    "tf.keras.backend.clear_session()\n"
   ]
  }
 ],
 "metadata": {
  "kernelspec": {
   "display_name": "Python 3 (ipykernel)",
   "language": "python",
   "name": "python3"
  },
  "language_info": {
   "codemirror_mode": {
    "name": "ipython",
    "version": 3
   },
   "file_extension": ".py",
   "mimetype": "text/x-python",
   "name": "python",
   "nbconvert_exporter": "python",
   "pygments_lexer": "ipython3",
   "version": "3.10.12"
  }
 },
 "nbformat": 4,
 "nbformat_minor": 5
}
