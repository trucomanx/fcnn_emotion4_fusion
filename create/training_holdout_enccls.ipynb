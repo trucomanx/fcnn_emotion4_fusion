{
 "cells": [
  {
   "cell_type": "code",
   "execution_count": 1,
   "id": "7d874f9f",
   "metadata": {},
   "outputs": [],
   "source": [
    "import os\n",
    "#os.environ['TF_GPU_ALLOCATOR'] = 'cuda_malloc_async'\n",
    "\n",
    "os.environ['TF_USE_LEGACY_KERAS'] = '1';"
   ]
  },
  {
   "cell_type": "code",
   "execution_count": 2,
   "id": "8c38da82",
   "metadata": {},
   "outputs": [],
   "source": [
    "input_default_json_conf_file='fcnn_emotion4_training_default.json';"
   ]
  },
  {
   "cell_type": "code",
   "execution_count": 3,
   "id": "3410f40c-893b-449d-b024-7781e0d76733",
   "metadata": {},
   "outputs": [
    {
     "name": "stderr",
     "output_type": "stream",
     "text": [
      "2024-07-24 12:10:38.395709: I tensorflow/core/platform/cpu_feature_guard.cc:210] This TensorFlow binary is optimized to use available CPU instructions in performance-critical operations.\n",
      "To enable the following instructions: AVX2 FMA, in other operations, rebuild TensorFlow with the appropriate compiler flags.\n",
      "2024-07-24 12:10:39.812366: W tensorflow/compiler/tf2tensorrt/utils/py_utils.cc:38] TF-TRT Warning: Could not find TensorRT\n"
     ]
    }
   ],
   "source": [
    "import numpy as np\n",
    "import pandas as pd\n",
    "import tensorflow as tf\n",
    "import datetime\n",
    "import json"
   ]
  },
  {
   "cell_type": "code",
   "execution_count": 4,
   "id": "d4ce46fc-8392-4e0b-a820-3ce426fcc7ba",
   "metadata": {},
   "outputs": [],
   "source": [
    "import sys\n",
    "sys.path.append('../library');"
   ]
  },
  {
   "cell_type": "code",
   "execution_count": 5,
   "id": "d770d436",
   "metadata": {},
   "outputs": [
    {
     "name": "stdout",
     "output_type": "stream",
     "text": [
      "Num GPUs Available:  1\n"
     ]
    },
    {
     "name": "stderr",
     "output_type": "stream",
     "text": [
      "2024-07-24 12:10:41.608155: I external/local_xla/xla/stream_executor/cuda/cuda_executor.cc:998] successful NUMA node read from SysFS had negative value (-1), but there must be at least one NUMA node, so returning NUMA node zero. See more at https://github.com/torvalds/linux/blob/v6.0/Documentation/ABI/testing/sysfs-bus-pci#L344-L355\n",
      "2024-07-24 12:10:41.704362: I external/local_xla/xla/stream_executor/cuda/cuda_executor.cc:998] successful NUMA node read from SysFS had negative value (-1), but there must be at least one NUMA node, so returning NUMA node zero. See more at https://github.com/torvalds/linux/blob/v6.0/Documentation/ABI/testing/sysfs-bus-pci#L344-L355\n",
      "2024-07-24 12:10:41.704843: I external/local_xla/xla/stream_executor/cuda/cuda_executor.cc:998] successful NUMA node read from SysFS had negative value (-1), but there must be at least one NUMA node, so returning NUMA node zero. See more at https://github.com/torvalds/linux/blob/v6.0/Documentation/ABI/testing/sysfs-bus-pci#L344-L355\n"
     ]
    }
   ],
   "source": [
    "print(\"Num GPUs Available: \", len(tf.config.list_physical_devices('GPU')))"
   ]
  },
  {
   "cell_type": "code",
   "execution_count": 6,
   "id": "00acb00f",
   "metadata": {},
   "outputs": [],
   "source": [
    "## Load json conf json file\n",
    "fd = open(os.path.join('./',input_default_json_conf_file));\n",
    "DATA = json.load(fd);\n",
    "fd.close()"
   ]
  },
  {
   "cell_type": "markdown",
   "id": "13b0f452-3278-49c0-9601-c8a443dbc32b",
   "metadata": {},
   "source": [
    "# Variable globales"
   ]
  },
  {
   "cell_type": "code",
   "execution_count": 7,
   "id": "d83c3fa6-dbbb-4644-a12f-e497f971a446",
   "metadata": {},
   "outputs": [],
   "source": [
    "## Seed for the random variables\n",
    "seed_number=0;\n",
    "\n",
    "## Dataset \n",
    "dataset_base_dir    = DATA['dataset_train_base_dir'];\n",
    "dataset_labels_file = DATA['dataset_train_labels_file'];\n",
    "\n",
    "dataset_base_test_dir    = DATA['dataset_test_base_dir'];\n",
    "dataset_labels_test_file = DATA['dataset_test_labels_file'];\n",
    "\n",
    "dataset_name        = DATA['dataset_name'];\n",
    "\n",
    "## Training hyperparameters\n",
    "EPOCAS     = DATA[\"epochs\"];\n",
    "BATCH_SIZE = DATA[\"batch_size\"];\n",
    "\n",
    "\n",
    "## Output\n",
    "output_base_dir = DATA[\"output_base_dir\"];\n",
    "\n",
    "file_of_weight=''\n",
    "subdir='enccls';\n",
    "patience=max(10,int(EPOCAS/10));\n",
    "NCOD=15;\n",
    "ANGLE=60;"
   ]
  },
  {
   "cell_type": "markdown",
   "id": "65186ce7",
   "metadata": {},
   "source": [
    "# Parametros de entrada"
   ]
  },
  {
   "cell_type": "code",
   "execution_count": 8,
   "id": "8a1d31d1",
   "metadata": {},
   "outputs": [
    {
     "name": "stdout",
     "output_type": "stream",
     "text": [
      "        dataset_base_dir: /media/fernando/Expansion/DATASET/TESE/BER/BER2024/BER2024-SKELETON\n",
      "     dataset_labels_file: train.csv\n",
      "   dataset_base_test_dir: /media/fernando/Expansion/DATASET/TESE/BER/BER2024/BER2024-SKELETON\n",
      "dataset_labels_test_file: test.csv\n",
      "            dataset_name: ber2024-skel\n",
      "                  EPOCAS: 40\n",
      "              BATCH_SIZE: 1024\n",
      "         output_base_dir: /media/fernando/Expansion/OUTPUTS/DOCTORADO2/fcnn_emotion4\n"
     ]
    }
   ],
   "source": [
    "for n in range(len(sys.argv)):\n",
    "    if sys.argv[n]=='--dataset-train-dir':\n",
    "        dataset_base_dir=sys.argv[n+1];\n",
    "    elif sys.argv[n]=='--dataset-train-file':\n",
    "        dataset_labels_file=sys.argv[n+1];\n",
    "    elif sys.argv[n]=='--dataset-test-dir':\n",
    "        dataset_base_test_dir=sys.argv[n+1];\n",
    "    elif sys.argv[n]=='--dataset-test-file':\n",
    "        dataset_labels_test_file=sys.argv[n+1];\n",
    "    elif sys.argv[n]=='--dataset-name':\n",
    "        dataset_name=sys.argv[n+1];\n",
    "    elif sys.argv[n]=='--epochs':\n",
    "        EPOCAS=int(sys.argv[n+1]);\n",
    "    elif sys.argv[n]=='--batch-size':\n",
    "        BATCH_SIZE=int(sys.argv[n+1]);\n",
    "    elif sys.argv[n]=='--ncod':\n",
    "        NCOD=int(sys.argv[n+1]);\n",
    "    elif sys.argv[n]=='--patience':\n",
    "        patience=int(sys.argv[n+1]);\n",
    "    elif sys.argv[n]=='--subdir':\n",
    "        subdir=sys.argv[n+1];\n",
    "    elif sys.argv[n]=='--weights-init':\n",
    "        file_of_weight=sys.argv[n+1];\n",
    "    elif sys.argv[n]=='--output-dir':\n",
    "        output_base_dir=sys.argv[n+1];\n",
    "        \n",
    "print('        dataset_base_dir:',dataset_base_dir)\n",
    "print('     dataset_labels_file:',dataset_labels_file)\n",
    "print('   dataset_base_test_dir:',dataset_base_test_dir)\n",
    "print('dataset_labels_test_file:',dataset_labels_test_file)\n",
    "print('            dataset_name:',dataset_name)\n",
    "print('                  EPOCAS:',EPOCAS)\n",
    "print('              BATCH_SIZE:',BATCH_SIZE)\n",
    "print('                    NCOD:',NCOD)\n",
    "print('                patience:',patience)\n",
    "print('                  subdir:',subdir)\n",
    "print('          file_of_weight:',file_of_weight)\n",
    "print('         output_base_dir:',output_base_dir)"
   ]
  },
  {
   "cell_type": "markdown",
   "id": "99d1dee5-778a-4fd9-80de-90620bb33128",
   "metadata": {},
   "source": [
    "# Set seed of random variables\n"
   ]
  },
  {
   "cell_type": "code",
   "execution_count": 9,
   "id": "6ddef12f-6604-4c71-9473-15f328e954dd",
   "metadata": {},
   "outputs": [],
   "source": [
    "np.random.seed(seed_number)\n",
    "tf.keras.utils.set_random_seed(seed_number);"
   ]
  },
  {
   "cell_type": "markdown",
   "id": "28a59004-739e-4760-bd91-ee3808207e3e",
   "metadata": {},
   "source": [
    "# Loading data of dataset"
   ]
  },
  {
   "cell_type": "code",
   "execution_count": 10,
   "id": "1abe0e9b-ee46-40d8-97c3-12a1efc0cd1a",
   "metadata": {},
   "outputs": [
    {
     "name": "stdout",
     "output_type": "stream",
     "text": [
      "\n",
      "\n",
      "test_df\n",
      "              d0         d1        d2         d3         d4        d5  \\\n",
      "0      578.53033  230.53235  0.997254  584.17610  221.87859  0.972028   \n",
      "1      920.09784  375.53006  0.972105  944.41710  346.81830  0.997568   \n",
      "2      766.30960  252.15428  0.994588  777.61940  225.52296  0.991696   \n",
      "3      710.24036  232.16788  0.993728  724.85980  201.97440  0.998824   \n",
      "4      743.05970  192.98499  0.992488  765.76780  169.78462  0.989598   \n",
      "...          ...        ...       ...        ...        ...       ...   \n",
      "16674  439.34560  229.46915  0.991680  457.49250  200.63686  0.990643   \n",
      "16675  831.20184  257.23987  0.993503  870.40430  225.87146  0.991977   \n",
      "16676  675.22986  146.00938  0.998339  714.07970  129.44043  0.990368   \n",
      "16677  365.72820  188.31245  0.993100  383.71097  165.13180  0.991528   \n",
      "16678  820.39874  276.85623  0.992258  846.90924  255.66278  0.990174   \n",
      "\n",
      "              d6          d7        d8          d9  ...  d42  d43  d44  d45  \\\n",
      "0      555.77313  209.135130  0.985637     0.00000  ...  0.0  0.0  0.0  0.0   \n",
      "1      897.46027  344.804930  0.803327  1001.61444  ...  0.0  0.0  0.0  0.0   \n",
      "2      731.83936  231.202400  0.998233     0.00000  ...  0.0  0.0  0.0  0.0   \n",
      "3      690.78220  229.546750  0.989725   784.50476  ...  0.0  0.0  0.0  0.0   \n",
      "4      716.49340  172.981800  0.998406   792.81976  ...  0.0  0.0  0.0  0.0   \n",
      "...          ...         ...       ...         ...  ...  ...  ...  ...  ...   \n",
      "16674  403.43423  207.693270  0.998295   487.32120  ...  0.0  0.0  0.0  0.0   \n",
      "16675  814.57855  224.783660  0.998529   941.03820  ...  0.0  0.0  0.0  0.0   \n",
      "16676  680.02936  127.081566  0.957615   783.90350  ...  0.0  0.0  0.0  0.0   \n",
      "16677  333.78848  173.752980  0.997962   411.76508  ...  0.0  0.0  0.0  0.0   \n",
      "16678  797.48425  258.003200  0.998274   879.70580  ...  0.0  0.0  0.0  0.0   \n",
      "\n",
      "       d46  d47  d48  d49  d50     label  \n",
      "0      0.0  0.0  0.0  0.0  0.0      pain  \n",
      "1      0.0  0.0  0.0  0.0  0.0      pain  \n",
      "2      0.0  0.0  0.0  0.0  0.0  positive  \n",
      "3      0.0  0.0  0.0  0.0  0.0    neutro  \n",
      "4      0.0  0.0  0.0  0.0  0.0  negative  \n",
      "...    ...  ...  ...  ...  ...       ...  \n",
      "16674  0.0  0.0  0.0  0.0  0.0    neutro  \n",
      "16675  0.0  0.0  0.0  0.0  0.0  negative  \n",
      "16676  0.0  0.0  0.0  0.0  0.0    neutro  \n",
      "16677  0.0  0.0  0.0  0.0  0.0  negative  \n",
      "16678  0.0  0.0  0.0  0.0  0.0  negative  \n",
      "\n",
      "[16679 rows x 52 columns]\n"
     ]
    }
   ],
   "source": [
    "# Load filenames and labels\n",
    "train_val_df = pd.read_csv(os.path.join(dataset_base_dir,dataset_labels_file));\n",
    "#print(train_val_df)\n",
    "\n",
    "# Setting labels\n",
    "Y = train_val_df[['label']];\n",
    "L=np.shape(Y)[0];\n",
    "\n",
    "# Load test filenames and labels\n",
    "test_df = pd.read_csv(os.path.join(dataset_base_test_dir,dataset_labels_test_file));\n",
    "\n",
    "print('\\n\\ntest_df')\n",
    "print(test_df)\n"
   ]
  },
  {
   "cell_type": "markdown",
   "id": "86da712f-5937-4965-9623-82c4ee139297",
   "metadata": {},
   "source": [
    "# Setting the cross-validation split\n"
   ]
  },
  {
   "cell_type": "code",
   "execution_count": 11,
   "id": "dcab2262-3467-4ee3-86a8-9eda4f5ff726",
   "metadata": {},
   "outputs": [
    {
     "name": "stdout",
     "output_type": "stream",
     "text": [
      "\n",
      "\n",
      "training_df\n",
      "               d0         d1        d2          d3         d4        d5  \\\n",
      "8982    960.05600  202.20062  0.994441   976.69696  189.05788  0.992597   \n",
      "11571   734.76117  259.07974  0.993402   759.39734  234.89705  0.991606   \n",
      "17123   652.60890  174.34769  0.992906   675.89560  160.28514  0.989038   \n",
      "20066   556.48460  194.43310  0.998464   589.38180  167.67004  0.993131   \n",
      "8822    429.19846  220.50840  0.992251   463.33950  198.33228  0.998347   \n",
      "...           ...        ...       ...         ...        ...       ...   \n",
      "7149    490.36950  226.31702  0.988921   496.08840  212.05159  0.986984   \n",
      "20120  1056.60690  265.03806  0.990833  1076.93210  245.03746  0.986916   \n",
      "14275   476.07532  332.64615  0.992961   495.98813  290.08920  0.993253   \n",
      "5284    570.50950  168.71097  0.992591   592.79803  150.86066  0.990587   \n",
      "7290    746.79913  177.09557  0.990950   764.65170  162.77843  0.989897   \n",
      "\n",
      "               d6         d7        d8         d9  ...  d42  d43  d44  d45  \\\n",
      "8982    929.15550  181.70969  0.998692    0.00000  ...  0.0  0.0  0.0  0.0   \n",
      "11571   711.77200  233.69232  0.998602  792.00305  ...  0.0  0.0  0.0  0.0   \n",
      "17123   633.35156  159.60834  0.998517  708.47210  ...  0.0  0.0  0.0  0.0   \n",
      "20066   545.33340  171.79012  0.989662  661.61080  ...  0.0  0.0  0.0  0.0   \n",
      "8822    411.15170  196.27556  0.990344  518.35406  ...  0.0  0.0  0.0  0.0   \n",
      "...           ...        ...       ...        ...  ...  ...  ...  ...  ...   \n",
      "7149    459.62405  215.08809  0.998455    0.00000  ...  0.0  0.0  0.0  0.0   \n",
      "20120  1020.67870  244.83191  0.997955    0.00000  ...  0.0  0.0  0.0  0.0   \n",
      "14275   439.67328  303.71506  0.998661  538.56470  ...  0.0  0.0  0.0  0.0   \n",
      "5284    544.28150  145.71306  0.998594  612.69415  ...  0.0  0.0  0.0  0.0   \n",
      "7290    714.78320  153.33357  0.998028    0.00000  ...  0.0  0.0  0.0  0.0   \n",
      "\n",
      "       d46  d47  d48  d49  d50     label  \n",
      "8982   0.0  0.0  0.0  0.0  0.0    neutro  \n",
      "11571  0.0  0.0  0.0  0.0  0.0  negative  \n",
      "17123  0.0  0.0  0.0  0.0  0.0  positive  \n",
      "20066  0.0  0.0  0.0  0.0  0.0    neutro  \n",
      "8822   0.0  0.0  0.0  0.0  0.0  positive  \n",
      "...    ...  ...  ...  ...  ...       ...  \n",
      "7149   0.0  0.0  0.0  0.0  0.0      pain  \n",
      "20120  0.0  0.0  0.0  0.0  0.0    neutro  \n",
      "14275  0.0  0.0  0.0  0.0  0.0      pain  \n",
      "5284   0.0  0.0  0.0  0.0  0.0  positive  \n",
      "7290   0.0  0.0  0.0  0.0  0.0  negative  \n",
      "\n",
      "[21594 rows x 52 columns]\n",
      "\n",
      "\n",
      "validation_df\n",
      "              d0         d1        d2         d3         d4        d5  \\\n",
      "5204   439.45874  252.41171  0.973478  470.08900  228.62314  0.988573   \n",
      "19103  692.40950  148.99464  0.991743  711.37270  129.91030  0.990131   \n",
      "15725  571.24610  181.10843  0.992614  597.35610  162.32610  0.998473   \n",
      "4697   765.71045  220.52809  0.989963  793.77344  194.24617  0.990062   \n",
      "3964   764.99270  249.59853  0.992941  779.56335  228.31485  0.989173   \n",
      "...          ...        ...       ...        ...        ...       ...   \n",
      "20540  421.95398  214.76436  0.994722  453.46124  193.62128  0.998591   \n",
      "18492  788.11850  181.60251  0.992710  810.84550  157.37318  0.989191   \n",
      "22235  444.96440  150.22807  0.992919  470.85397  141.61282  0.998815   \n",
      "18500  594.54535  177.19861  0.985744  624.66680  142.23158  0.987016   \n",
      "3754   819.64360  199.32500  0.988233  839.87213  177.59846  0.987180   \n",
      "\n",
      "              d6         d7        d8         d9  ...  d42  d43  d44  d45  \\\n",
      "5204   427.31067  229.40962  0.975215  539.09595  ...  0.0  0.0  0.0  0.0   \n",
      "19103  657.74120  131.93222  0.998687  735.67580  ...  0.0  0.0  0.0  0.0   \n",
      "15725  554.09890  163.57207  0.991601  645.52370  ...  0.0  0.0  0.0  0.0   \n",
      "4697   741.15000  193.76431  0.998522  826.90440  ...  0.0  0.0  0.0  0.0   \n",
      "3964   732.33044  226.88496  0.998159    0.00000  ...  0.0  0.0  0.0  0.0   \n",
      "...          ...        ...       ...        ...  ...  ...  ...  ...  ...   \n",
      "20540  401.24338  194.95090  0.991068  508.61923  ...  0.0  0.0  0.0  0.0   \n",
      "18492  759.69560  158.23622  0.998538  831.27045  ...  0.0  0.0  0.0  0.0   \n",
      "22235  425.95102  137.66430  0.989407  501.67712  ...  0.0  0.0  0.0  0.0   \n",
      "18500  579.76610  155.14125  0.997933  709.51590  ...  0.0  0.0  0.0  0.0   \n",
      "3754   790.30630  168.15814  0.997825    0.00000  ...  0.0  0.0  0.0  0.0   \n",
      "\n",
      "       d46  d47  d48  d49  d50     label  \n",
      "5204   0.0  0.0  0.0  0.0  0.0      pain  \n",
      "19103  0.0  0.0  0.0  0.0  0.0    neutro  \n",
      "15725  0.0  0.0  0.0  0.0  0.0  positive  \n",
      "4697   0.0  0.0  0.0  0.0  0.0      pain  \n",
      "3964   0.0  0.0  0.0  0.0  0.0  positive  \n",
      "...    ...  ...  ...  ...  ...       ...  \n",
      "20540  0.0  0.0  0.0  0.0  0.0  positive  \n",
      "18492  0.0  0.0  0.0  0.0  0.0  negative  \n",
      "22235  0.0  0.0  0.0  0.0  0.0    neutro  \n",
      "18500  0.0  0.0  0.0  0.0  0.0  negative  \n",
      "3754   0.0  0.0  0.0  0.0  0.0  negative  \n",
      "\n",
      "[5399 rows x 52 columns]\n"
     ]
    }
   ],
   "source": [
    "from sklearn.model_selection import train_test_split\n",
    "\n",
    "training_df, validation_df = train_test_split(train_val_df, test_size=0.2,shuffle=True, stratify=Y)\n",
    "\n",
    "print('\\n\\ntraining_df')\n",
    "print(training_df);\n",
    "\n",
    "\n",
    "print('\\n\\nvalidation_df')\n",
    "print(validation_df)"
   ]
  },
  {
   "cell_type": "markdown",
   "id": "d567bcc5",
   "metadata": {},
   "source": [
    "# Creating output directory"
   ]
  },
  {
   "cell_type": "code",
   "execution_count": null,
   "id": "eb2b7082",
   "metadata": {},
   "outputs": [],
   "source": [
    "output_dir = os.path.join(output_base_dir,dataset_name,'training_validation_holdout',subdir);\n",
    "\n",
    "os.makedirs(output_base_dir,exist_ok = True);\n",
    "\n",
    "os.makedirs(output_dir,exist_ok = True);"
   ]
  },
  {
   "cell_type": "markdown",
   "id": "67beeb38-1ad1-455d-8a71-5900a1e88163",
   "metadata": {},
   "source": [
    "# Data augmentation configuration"
   ]
  },
  {
   "cell_type": "code",
   "execution_count": 12,
   "id": "c2e3e68f-50e7-4f8c-9cd6-ae3261e8f20f",
   "metadata": {},
   "outputs": [
    {
     "name": "stdout",
     "output_type": "stream",
     "text": [
      "train: (21594, 51)\n",
      "val: (5399, 51)\n",
      "test: (16679, 51)\n"
     ]
    }
   ],
   "source": [
    "import SkeletonEmotion4Lib.DataAugmentation as sda\n",
    "import SkeletonEmotion4Lib.lib_tools as slt\n",
    "\n",
    "training_data_array   = slt.batch_normalize_coordinates(training_df.iloc[:,0:51].values)\n",
    "validation_data_array = slt.batch_normalize_coordinates(validation_df.iloc[:,0:51].values)\n",
    "test_data_array       = slt.batch_normalize_coordinates(test_df.iloc[:,0:51].values)\n",
    "\n",
    "print('train:',training_data_array.shape)\n",
    "print('val:',validation_data_array.shape)\n",
    "print('test:',test_data_array.shape)\n"
   ]
  },
  {
   "cell_type": "markdown",
   "id": "c2522828-179f-433e-8fa4-653b80df8729",
   "metadata": {},
   "source": [
    "# Dataset"
   ]
  },
  {
   "cell_type": "code",
   "execution_count": 20,
   "id": "ecc7ce2b-5dbe-414d-a81d-7f0d6a5dd6cf",
   "metadata": {},
   "outputs": [],
   "source": [
    "\n",
    "training_dataset = sda.DataAugmentationClsGenerator(training_data_array, \n",
    "                                                    training_df.iloc[:,51].values,\n",
    "                                                    batch_size=BATCH_SIZE, \n",
    "                                                    augment_fn=lambda X: slt.batch_random_rotate_coordinates(X,angle=ANGLE),\n",
    "                                                    shuffle=True);\n",
    "\n",
    "validation_dataset = sda.DataAugmentationClsGenerator(  validation_data_array, \n",
    "                                                        validation_df.iloc[:,51].values,\n",
    "                                                        batch_size=BATCH_SIZE, \n",
    "                                                        augment_fn=None,\n",
    "                                                        shuffle=True);\n",
    "\n",
    "test_dataset = sda.DataAugmentationClsGenerator(test_data_array, \n",
    "                                                test_df.iloc[:,51].values,\n",
    "                                                batch_size=BATCH_SIZE, \n",
    "                                                augment_fn=None,\n",
    "                                                shuffle=False);"
   ]
  },
  {
   "cell_type": "markdown",
   "id": "1f1555c7-97f3-4ede-8312-45d74d6008f6",
   "metadata": {},
   "source": [
    "# Create new model"
   ]
  },
  {
   "cell_type": "code",
   "execution_count": 21,
   "id": "424849a4-7762-47ff-8adf-4c9344e58558",
   "metadata": {},
   "outputs": [
    {
     "name": "stdout",
     "output_type": "stream",
     "text": [
      "Loading the weights in: /media/fernando/Expansion/OUTPUTS/DOCTORADO2/fcnn_emotion4/ber2024-skel/training_validation_holdout/model_encoder.h5\n",
      "Loaded the weights in: /media/fernando/Expansion/OUTPUTS/DOCTORADO2/fcnn_emotion4/ber2024-skel/training_validation_holdout/model_encoder.h5\n",
      "input_shape (None, 51)\n",
      "output_shape (None, 4)\n",
      "\n",
      "Model: \"sequential_1\"\n",
      "_________________________________________________________________\n",
      " Layer (type)                Output Shape              Param #   \n",
      "=================================================================\n",
      " sequential (Sequential)     (None, 15)                17128     \n",
      "                                                                 \n",
      " dense_5 (Dense)             (None, 91)                1456      \n",
      "                                                                 \n",
      " dense_6 (Dense)             (None, 31)                2852      \n",
      "                                                                 \n",
      " dense_7 (Dense)             (None, 15)                480       \n",
      "                                                                 \n",
      " dense_8 (Dense)             (None, 4)                 64        \n",
      "                                                                 \n",
      "=================================================================\n",
      "Total params: 21980 (85.86 KB)\n",
      "Trainable params: 4852 (18.95 KB)\n",
      "Non-trainable params: 17128 (66.91 KB)\n",
      "_________________________________________________________________\n"
     ]
    }
   ],
   "source": [
    "import SkeletonEmotion4Lib.lib_model as mpp\n",
    "\n",
    "model = mpp.create_model_enccls(load_weights=False,\n",
    "                                file_of_weight=file_of_weight,\n",
    "                                file_of_weight_full=False,\n",
    "                                ncod=NCOD);\n",
    "\n",
    "print('input_shape',model.input_shape)\n",
    "print('output_shape',model.output_shape)\n",
    "print('')\n",
    "\n",
    "model.summary()\n",
    "\n",
    "mpp.save_model_parameters(model, os.path.join(output_dir,'parameters_stats.m'));"
   ]
  },
  {
   "cell_type": "code",
   "execution_count": 22,
   "id": "c59cdc78-6eba-4cde-995e-cc56d0ed2dd2",
   "metadata": {},
   "outputs": [],
   "source": [
    "# COMPILE NEW MODEL\n",
    "model.compile(loss='categorical_crossentropy',\n",
    "              optimizer='adam',\n",
    "              metrics=['categorical_accuracy'])\n",
    "\n",
    "# CREATE CALLBACKS\n",
    "best_model_file=os.path.join(output_dir,'model_enccls.h5');\n",
    "checkpoint = tf.keras.callbacks.ModelCheckpoint(filepath=best_model_file, \n",
    "                                                save_weights_only=True,\n",
    "                                                monitor='val_loss', \n",
    "                                                save_best_only=True, \n",
    "                                                verbose=1);\n",
    "\n",
    "# Definindo o callback EarlyStopping\n",
    "early_stopping = tf.keras.callbacks.EarlyStopping(  monitor='val_loss', \n",
    "                                                    patience=patience,  \n",
    "                                                    verbose=1, \n",
    "                                                    restore_best_weights=False);\n",
    "\n",
    "log_dir = os.path.join(output_dir,\"logs\",\"fit\",'enccls-'+datetime.datetime.now().strftime(\"%Y%m%d-%H%M%S\"));\n",
    "tensorboard_callback = tf.keras.callbacks.TensorBoard(log_dir=log_dir, histogram_freq=1)"
   ]
  },
  {
   "cell_type": "code",
   "execution_count": 23,
   "id": "b9f0567f-b59d-43de-b9b2-7f013fb123c8",
   "metadata": {
    "scrolled": true
   },
   "outputs": [
    {
     "name": "stdout",
     "output_type": "stream",
     "text": [
      "Epoch 1/40\n",
      "21/22 [===========================>..] - ETA: 0s - loss: 1.3849 - categorical_accuracy: 0.2642\n",
      "Epoch 1: val_loss improved from inf to 1.38188, saving model to /media/fernando/Expansion/OUTPUTS/DOCTORADO2/fcnn_emotion4/ber2024-skel/training_validation_holdout/model_cls.h5\n",
      "22/22 [==============================] - 5s 92ms/step - loss: 1.3849 - categorical_accuracy: 0.2640 - val_loss: 1.3819 - val_categorical_accuracy: 0.2725\n",
      "Epoch 2/40\n",
      "21/22 [===========================>..] - ETA: 0s - loss: 1.3804 - categorical_accuracy: 0.2762\n",
      "Epoch 2: val_loss improved from 1.38188 to 1.37802, saving model to /media/fernando/Expansion/OUTPUTS/DOCTORADO2/fcnn_emotion4/ber2024-skel/training_validation_holdout/model_cls.h5\n",
      "22/22 [==============================] - 1s 51ms/step - loss: 1.3802 - categorical_accuracy: 0.2772 - val_loss: 1.3780 - val_categorical_accuracy: 0.2732\n",
      "Epoch 3/40\n",
      "21/22 [===========================>..] - ETA: 0s - loss: 1.3742 - categorical_accuracy: 0.3034\n",
      "Epoch 3: val_loss improved from 1.37802 to 1.36972, saving model to /media/fernando/Expansion/OUTPUTS/DOCTORADO2/fcnn_emotion4/ber2024-skel/training_validation_holdout/model_cls.h5\n",
      "22/22 [==============================] - 1s 59ms/step - loss: 1.3742 - categorical_accuracy: 0.3026 - val_loss: 1.3697 - val_categorical_accuracy: 0.3051\n",
      "Epoch 4/40\n",
      "22/22 [==============================] - ETA: 0s - loss: 1.3626 - categorical_accuracy: 0.3325\n",
      "Epoch 4: val_loss improved from 1.36972 to 1.35471, saving model to /media/fernando/Expansion/OUTPUTS/DOCTORADO2/fcnn_emotion4/ber2024-skel/training_validation_holdout/model_cls.h5\n",
      "22/22 [==============================] - 1s 48ms/step - loss: 1.3626 - categorical_accuracy: 0.3325 - val_loss: 1.3547 - val_categorical_accuracy: 0.3273\n",
      "Epoch 5/40\n",
      "22/22 [==============================] - ETA: 0s - loss: 1.3468 - categorical_accuracy: 0.3408\n",
      "Epoch 5: val_loss improved from 1.35471 to 1.33941, saving model to /media/fernando/Expansion/OUTPUTS/DOCTORADO2/fcnn_emotion4/ber2024-skel/training_validation_holdout/model_cls.h5\n",
      "22/22 [==============================] - 1s 56ms/step - loss: 1.3468 - categorical_accuracy: 0.3408 - val_loss: 1.3394 - val_categorical_accuracy: 0.3415\n",
      "Epoch 6/40\n",
      "22/22 [==============================] - ETA: 0s - loss: 1.3331 - categorical_accuracy: 0.3475\n",
      "Epoch 6: val_loss improved from 1.33941 to 1.32915, saving model to /media/fernando/Expansion/OUTPUTS/DOCTORADO2/fcnn_emotion4/ber2024-skel/training_validation_holdout/model_cls.h5\n",
      "22/22 [==============================] - 1s 59ms/step - loss: 1.3331 - categorical_accuracy: 0.3475 - val_loss: 1.3291 - val_categorical_accuracy: 0.3534\n",
      "Epoch 7/40\n",
      "22/22 [==============================] - ETA: 0s - loss: 1.3277 - categorical_accuracy: 0.3497\n",
      "Epoch 7: val_loss improved from 1.32915 to 1.32448, saving model to /media/fernando/Expansion/OUTPUTS/DOCTORADO2/fcnn_emotion4/ber2024-skel/training_validation_holdout/model_cls.h5\n",
      "22/22 [==============================] - 1s 64ms/step - loss: 1.3277 - categorical_accuracy: 0.3497 - val_loss: 1.3245 - val_categorical_accuracy: 0.3582\n",
      "Epoch 8/40\n",
      "21/22 [===========================>..] - ETA: 0s - loss: 1.3227 - categorical_accuracy: 0.3509\n",
      "Epoch 8: val_loss improved from 1.32448 to 1.31584, saving model to /media/fernando/Expansion/OUTPUTS/DOCTORADO2/fcnn_emotion4/ber2024-skel/training_validation_holdout/model_cls.h5\n",
      "22/22 [==============================] - 1s 61ms/step - loss: 1.3221 - categorical_accuracy: 0.3510 - val_loss: 1.3158 - val_categorical_accuracy: 0.3593\n",
      "Epoch 9/40\n",
      "22/22 [==============================] - ETA: 0s - loss: 1.3170 - categorical_accuracy: 0.3526\n",
      "Epoch 9: val_loss improved from 1.31584 to 1.31241, saving model to /media/fernando/Expansion/OUTPUTS/DOCTORADO2/fcnn_emotion4/ber2024-skel/training_validation_holdout/model_cls.h5\n",
      "22/22 [==============================] - 1s 51ms/step - loss: 1.3170 - categorical_accuracy: 0.3526 - val_loss: 1.3124 - val_categorical_accuracy: 0.3591\n",
      "Epoch 10/40\n",
      "21/22 [===========================>..] - ETA: 0s - loss: 1.3129 - categorical_accuracy: 0.3537\n",
      "Epoch 10: val_loss improved from 1.31241 to 1.30780, saving model to /media/fernando/Expansion/OUTPUTS/DOCTORADO2/fcnn_emotion4/ber2024-skel/training_validation_holdout/model_cls.h5\n",
      "22/22 [==============================] - 1s 59ms/step - loss: 1.3130 - categorical_accuracy: 0.3539 - val_loss: 1.3078 - val_categorical_accuracy: 0.3601\n",
      "Epoch 11/40\n",
      "22/22 [==============================] - ETA: 0s - loss: 1.3103 - categorical_accuracy: 0.3573\n",
      "Epoch 11: val_loss improved from 1.30780 to 1.30323, saving model to /media/fernando/Expansion/OUTPUTS/DOCTORADO2/fcnn_emotion4/ber2024-skel/training_validation_holdout/model_cls.h5\n",
      "22/22 [==============================] - 1s 58ms/step - loss: 1.3103 - categorical_accuracy: 0.3573 - val_loss: 1.3032 - val_categorical_accuracy: 0.3608\n",
      "Epoch 12/40\n",
      "21/22 [===========================>..] - ETA: 0s - loss: 1.3066 - categorical_accuracy: 0.3561\n",
      "Epoch 12: val_loss did not improve from 1.30323\n",
      "22/22 [==============================] - 1s 65ms/step - loss: 1.3068 - categorical_accuracy: 0.3564 - val_loss: 1.3034 - val_categorical_accuracy: 0.3608\n",
      "Epoch 13/40\n",
      "22/22 [==============================] - ETA: 0s - loss: 1.3050 - categorical_accuracy: 0.3591\n",
      "Epoch 13: val_loss improved from 1.30323 to 1.30089, saving model to /media/fernando/Expansion/OUTPUTS/DOCTORADO2/fcnn_emotion4/ber2024-skel/training_validation_holdout/model_cls.h5\n",
      "22/22 [==============================] - 2s 90ms/step - loss: 1.3050 - categorical_accuracy: 0.3591 - val_loss: 1.3009 - val_categorical_accuracy: 0.3501\n",
      "Epoch 14/40\n",
      "22/22 [==============================] - ETA: 0s - loss: 1.3018 - categorical_accuracy: 0.3631\n",
      "Epoch 14: val_loss improved from 1.30089 to 1.29888, saving model to /media/fernando/Expansion/OUTPUTS/DOCTORADO2/fcnn_emotion4/ber2024-skel/training_validation_holdout/model_cls.h5\n",
      "22/22 [==============================] - 2s 84ms/step - loss: 1.3018 - categorical_accuracy: 0.3631 - val_loss: 1.2989 - val_categorical_accuracy: 0.3540\n",
      "Epoch 15/40\n",
      "22/22 [==============================] - ETA: 0s - loss: 1.3000 - categorical_accuracy: 0.3636\n",
      "Epoch 15: val_loss improved from 1.29888 to 1.29821, saving model to /media/fernando/Expansion/OUTPUTS/DOCTORADO2/fcnn_emotion4/ber2024-skel/training_validation_holdout/model_cls.h5\n",
      "22/22 [==============================] - 1s 65ms/step - loss: 1.3000 - categorical_accuracy: 0.3636 - val_loss: 1.2982 - val_categorical_accuracy: 0.3623\n",
      "Epoch 16/40\n",
      "22/22 [==============================] - ETA: 0s - loss: 1.2985 - categorical_accuracy: 0.3664\n",
      "Epoch 16: val_loss improved from 1.29821 to 1.29811, saving model to /media/fernando/Expansion/OUTPUTS/DOCTORADO2/fcnn_emotion4/ber2024-skel/training_validation_holdout/model_cls.h5\n",
      "22/22 [==============================] - 1s 58ms/step - loss: 1.2985 - categorical_accuracy: 0.3664 - val_loss: 1.2981 - val_categorical_accuracy: 0.3558\n",
      "Epoch 17/40\n",
      "22/22 [==============================] - ETA: 0s - loss: 1.2965 - categorical_accuracy: 0.3653\n",
      "Epoch 17: val_loss improved from 1.29811 to 1.29796, saving model to /media/fernando/Expansion/OUTPUTS/DOCTORADO2/fcnn_emotion4/ber2024-skel/training_validation_holdout/model_cls.h5\n",
      "22/22 [==============================] - 1s 49ms/step - loss: 1.2965 - categorical_accuracy: 0.3653 - val_loss: 1.2980 - val_categorical_accuracy: 0.3577\n",
      "Epoch 18/40\n",
      "21/22 [===========================>..] - ETA: 0s - loss: 1.2957 - categorical_accuracy: 0.3677\n",
      "Epoch 18: val_loss improved from 1.29796 to 1.29595, saving model to /media/fernando/Expansion/OUTPUTS/DOCTORADO2/fcnn_emotion4/ber2024-skel/training_validation_holdout/model_cls.h5\n",
      "22/22 [==============================] - 1s 47ms/step - loss: 1.2959 - categorical_accuracy: 0.3683 - val_loss: 1.2960 - val_categorical_accuracy: 0.3671\n",
      "Epoch 19/40\n",
      "22/22 [==============================] - ETA: 0s - loss: 1.2961 - categorical_accuracy: 0.3681\n",
      "Epoch 19: val_loss improved from 1.29595 to 1.29265, saving model to /media/fernando/Expansion/OUTPUTS/DOCTORADO2/fcnn_emotion4/ber2024-skel/training_validation_holdout/model_cls.h5\n",
      "22/22 [==============================] - 1s 50ms/step - loss: 1.2961 - categorical_accuracy: 0.3681 - val_loss: 1.2926 - val_categorical_accuracy: 0.3643\n",
      "Epoch 20/40\n",
      "21/22 [===========================>..] - ETA: 0s - loss: 1.2937 - categorical_accuracy: 0.3707\n",
      "Epoch 20: val_loss did not improve from 1.29265\n",
      "22/22 [==============================] - 1s 57ms/step - loss: 1.2934 - categorical_accuracy: 0.3712 - val_loss: 1.2940 - val_categorical_accuracy: 0.3606\n",
      "Epoch 21/40\n",
      "22/22 [==============================] - ETA: 0s - loss: 1.2927 - categorical_accuracy: 0.3707\n",
      "Epoch 21: val_loss improved from 1.29265 to 1.28969, saving model to /media/fernando/Expansion/OUTPUTS/DOCTORADO2/fcnn_emotion4/ber2024-skel/training_validation_holdout/model_cls.h5\n",
      "22/22 [==============================] - 1s 66ms/step - loss: 1.2927 - categorical_accuracy: 0.3707 - val_loss: 1.2897 - val_categorical_accuracy: 0.3595\n",
      "Epoch 22/40\n",
      "22/22 [==============================] - ETA: 0s - loss: 1.2898 - categorical_accuracy: 0.3759\n",
      "Epoch 22: val_loss did not improve from 1.28969\n",
      "22/22 [==============================] - 2s 82ms/step - loss: 1.2898 - categorical_accuracy: 0.3759 - val_loss: 1.2924 - val_categorical_accuracy: 0.3645\n",
      "Epoch 23/40\n",
      "21/22 [===========================>..] - ETA: 0s - loss: 1.2906 - categorical_accuracy: 0.3746\n",
      "Epoch 23: val_loss did not improve from 1.28969\n",
      "22/22 [==============================] - 1s 49ms/step - loss: 1.2902 - categorical_accuracy: 0.3746 - val_loss: 1.2921 - val_categorical_accuracy: 0.3640\n",
      "Epoch 24/40\n",
      "21/22 [===========================>..] - ETA: 0s - loss: 1.2882 - categorical_accuracy: 0.3753\n",
      "Epoch 24: val_loss improved from 1.28969 to 1.28946, saving model to /media/fernando/Expansion/OUTPUTS/DOCTORADO2/fcnn_emotion4/ber2024-skel/training_validation_holdout/model_cls.h5\n",
      "22/22 [==============================] - 1s 51ms/step - loss: 1.2871 - categorical_accuracy: 0.3752 - val_loss: 1.2895 - val_categorical_accuracy: 0.3658\n",
      "Epoch 25/40\n",
      "22/22 [==============================] - ETA: 0s - loss: 1.2893 - categorical_accuracy: 0.3772\n",
      "Epoch 25: val_loss did not improve from 1.28946\n",
      "22/22 [==============================] - 1s 54ms/step - loss: 1.2893 - categorical_accuracy: 0.3772 - val_loss: 1.2903 - val_categorical_accuracy: 0.3669\n",
      "Epoch 26/40\n",
      "22/22 [==============================] - ETA: 0s - loss: 1.2853 - categorical_accuracy: 0.3778\n",
      "Epoch 26: val_loss improved from 1.28946 to 1.28296, saving model to /media/fernando/Expansion/OUTPUTS/DOCTORADO2/fcnn_emotion4/ber2024-skel/training_validation_holdout/model_cls.h5\n",
      "22/22 [==============================] - 1s 49ms/step - loss: 1.2853 - categorical_accuracy: 0.3778 - val_loss: 1.2830 - val_categorical_accuracy: 0.3728\n",
      "Epoch 27/40\n",
      "22/22 [==============================] - ETA: 0s - loss: 1.2854 - categorical_accuracy: 0.3802\n",
      "Epoch 27: val_loss did not improve from 1.28296\n",
      "22/22 [==============================] - 1s 45ms/step - loss: 1.2854 - categorical_accuracy: 0.3802 - val_loss: 1.2888 - val_categorical_accuracy: 0.3654\n",
      "Epoch 28/40\n",
      "22/22 [==============================] - ETA: 0s - loss: 1.2861 - categorical_accuracy: 0.3765\n",
      "Epoch 28: val_loss did not improve from 1.28296\n",
      "22/22 [==============================] - 1s 49ms/step - loss: 1.2861 - categorical_accuracy: 0.3765 - val_loss: 1.2843 - val_categorical_accuracy: 0.3753\n",
      "Epoch 29/40\n",
      "21/22 [===========================>..] - ETA: 0s - loss: 1.2860 - categorical_accuracy: 0.3775\n",
      "Epoch 29: val_loss improved from 1.28296 to 1.28225, saving model to /media/fernando/Expansion/OUTPUTS/DOCTORADO2/fcnn_emotion4/ber2024-skel/training_validation_holdout/model_cls.h5\n",
      "22/22 [==============================] - 1s 47ms/step - loss: 1.2849 - categorical_accuracy: 0.3780 - val_loss: 1.2822 - val_categorical_accuracy: 0.3790\n",
      "Epoch 30/40\n",
      "21/22 [===========================>..] - ETA: 0s - loss: 1.2856 - categorical_accuracy: 0.3773\n",
      "Epoch 30: val_loss did not improve from 1.28225\n",
      "22/22 [==============================] - 1s 46ms/step - loss: 1.2860 - categorical_accuracy: 0.3764 - val_loss: 1.2844 - val_categorical_accuracy: 0.3716\n",
      "Epoch 31/40\n",
      "22/22 [==============================] - ETA: 0s - loss: 1.2826 - categorical_accuracy: 0.3815\n",
      "Epoch 31: val_loss improved from 1.28225 to 1.28196, saving model to /media/fernando/Expansion/OUTPUTS/DOCTORADO2/fcnn_emotion4/ber2024-skel/training_validation_holdout/model_cls.h5\n",
      "22/22 [==============================] - 1s 47ms/step - loss: 1.2826 - categorical_accuracy: 0.3815 - val_loss: 1.2820 - val_categorical_accuracy: 0.3775\n",
      "Epoch 32/40\n",
      "21/22 [===========================>..] - ETA: 0s - loss: 1.2838 - categorical_accuracy: 0.3810\n",
      "Epoch 32: val_loss improved from 1.28196 to 1.27945, saving model to /media/fernando/Expansion/OUTPUTS/DOCTORADO2/fcnn_emotion4/ber2024-skel/training_validation_holdout/model_cls.h5\n",
      "22/22 [==============================] - 1s 45ms/step - loss: 1.2836 - categorical_accuracy: 0.3819 - val_loss: 1.2794 - val_categorical_accuracy: 0.3766\n",
      "Epoch 33/40\n",
      "22/22 [==============================] - ETA: 0s - loss: 1.2804 - categorical_accuracy: 0.3831\n",
      "Epoch 33: val_loss did not improve from 1.27945\n",
      "22/22 [==============================] - 1s 62ms/step - loss: 1.2804 - categorical_accuracy: 0.3831 - val_loss: 1.2799 - val_categorical_accuracy: 0.3780\n",
      "Epoch 34/40\n",
      "21/22 [===========================>..] - ETA: 0s - loss: 1.2821 - categorical_accuracy: 0.3789\n",
      "Epoch 34: val_loss did not improve from 1.27945\n",
      "22/22 [==============================] - 1s 59ms/step - loss: 1.2825 - categorical_accuracy: 0.3783 - val_loss: 1.2846 - val_categorical_accuracy: 0.3745\n",
      "Epoch 35/40\n",
      "22/22 [==============================] - ETA: 0s - loss: 1.2801 - categorical_accuracy: 0.3803\n",
      "Epoch 35: val_loss did not improve from 1.27945\n",
      "22/22 [==============================] - 1s 59ms/step - loss: 1.2801 - categorical_accuracy: 0.3803 - val_loss: 1.2814 - val_categorical_accuracy: 0.3747\n",
      "Epoch 36/40\n",
      "22/22 [==============================] - ETA: 0s - loss: 1.2790 - categorical_accuracy: 0.3802\n",
      "Epoch 36: val_loss improved from 1.27945 to 1.27850, saving model to /media/fernando/Expansion/OUTPUTS/DOCTORADO2/fcnn_emotion4/ber2024-skel/training_validation_holdout/model_cls.h5\n",
      "22/22 [==============================] - 2s 87ms/step - loss: 1.2790 - categorical_accuracy: 0.3802 - val_loss: 1.2785 - val_categorical_accuracy: 0.3771\n",
      "Epoch 37/40\n",
      "22/22 [==============================] - ETA: 0s - loss: 1.2776 - categorical_accuracy: 0.3830\n",
      "Epoch 37: val_loss did not improve from 1.27850\n",
      "22/22 [==============================] - 1s 64ms/step - loss: 1.2776 - categorical_accuracy: 0.3830 - val_loss: 1.2794 - val_categorical_accuracy: 0.3782\n",
      "Epoch 38/40\n",
      "21/22 [===========================>..] - ETA: 0s - loss: 1.2783 - categorical_accuracy: 0.3792\n",
      "Epoch 38: val_loss did not improve from 1.27850\n",
      "22/22 [==============================] - 1s 55ms/step - loss: 1.2773 - categorical_accuracy: 0.3809 - val_loss: 1.2785 - val_categorical_accuracy: 0.3756\n",
      "Epoch 39/40\n",
      "22/22 [==============================] - ETA: 0s - loss: 1.2774 - categorical_accuracy: 0.3852\n",
      "Epoch 39: val_loss did not improve from 1.27850\n",
      "22/22 [==============================] - 2s 71ms/step - loss: 1.2774 - categorical_accuracy: 0.3852 - val_loss: 1.2811 - val_categorical_accuracy: 0.3747\n",
      "Epoch 40/40\n",
      "22/22 [==============================] - ETA: 0s - loss: 1.2778 - categorical_accuracy: 0.3824\n",
      "Epoch 40: val_loss improved from 1.27850 to 1.27531, saving model to /media/fernando/Expansion/OUTPUTS/DOCTORADO2/fcnn_emotion4/ber2024-skel/training_validation_holdout/model_cls.h5\n",
      "22/22 [==============================] - 2s 108ms/step - loss: 1.2778 - categorical_accuracy: 0.3824 - val_loss: 1.2753 - val_categorical_accuracy: 0.3853\n"
     ]
    }
   ],
   "source": [
    "# FIT THE MODEL\n",
    "history = model.fit(training_dataset,\n",
    "                    epochs=EPOCAS,\n",
    "                    validation_data=validation_dataset,\n",
    "                    callbacks=[checkpoint,early_stopping,tensorboard_callback],\n",
    "                    verbose=1\n",
    "                   );"
   ]
  },
  {
   "cell_type": "code",
   "execution_count": 24,
   "id": "29ed98f1-5e63-4cc3-9425-c9498d0eb68b",
   "metadata": {},
   "outputs": [
    {
     "name": "stdout",
     "output_type": "stream",
     "text": [
      "max_val_acc 0.3852565288543701\n"
     ]
    },
    {
     "data": {
      "image/png": "[encoded data removed]",
      "text/plain": [
       "<Figure size 1600x800 with 2 Axes>"
      ]
     },
     "metadata": {},
     "output_type": "display_data"
    }
   ],
   "source": [
    "mpp.save_model_history(history,\n",
    "                       os.path.join(output_dir,\"historical.csv\"),\n",
    "                       show=False,\n",
    "                       labels=['categorical_accuracy','loss']);"
   ]
  },
  {
   "cell_type": "code",
   "execution_count": 25,
   "id": "d6bff659-35f6-444f-b889-8cd0bbf636d0",
   "metadata": {},
   "outputs": [
    {
     "name": "stdout",
     "output_type": "stream",
     "text": [
      "22/22 [==============================] - 1s 41ms/step - loss: 1.2768 - categorical_accuracy: 0.3858\n",
      "training {'loss': 1.276790738105774, 'categorical_accuracy': 0.38584792613983154} \n",
      "\n",
      "\n",
      "6/6 [==============================] - 0s 5ms/step - loss: 1.2753 - categorical_accuracy: 0.3853\n",
      "validation {'loss': 1.2753082513809204, 'categorical_accuracy': 0.3852565288543701} \n",
      "\n",
      "\n",
      "17/17 [==============================] - 0s 4ms/step - loss: 1.2850 - categorical_accuracy: 0.3723\n",
      "testing {'loss': 1.2849749326705933, 'categorical_accuracy': 0.37232446670532227} \n",
      "\n",
      "\n"
     ]
    }
   ],
   "source": [
    "# LOAD BEST MODEL to evaluate the performance of the model\n",
    "model.load_weights(best_model_file);\n",
    "data_results=dict();\n",
    "\n",
    "# Evaluate training\n",
    "results = model.evaluate(training_dataset)\n",
    "results = dict(zip(model.metrics_names,results))\n",
    "print('training',results,\"\\n\\n\");\n",
    "for key,value in results.items():\n",
    "    data_results['train_'+key]=value;\n",
    "\n",
    "# Evaluate validation\n",
    "results = model.evaluate(validation_dataset)\n",
    "results = dict(zip(model.metrics_names,results))\n",
    "print('validation',results,\"\\n\\n\");\n",
    "for key,value in results.items():\n",
    "    data_results['val_'+key]=value;\n",
    "\n",
    "# Evaluate testing\n",
    "results = model.evaluate(test_dataset)\n",
    "results = dict(zip(model.metrics_names,results))\n",
    "print('testing',results,\"\\n\\n\");\n",
    "for key,value in results.items():\n",
    "    data_results['test_'+key]=value;\n",
    "\n",
    "data_results['number_of_parameters']=mpp.get_model_parameters(model);\n",
    "data_results['ncod']=NCOD;\n",
    "data_results['epochs']=EPOCAS;\n",
    "data_results['patience']=patience;\n",
    "data_results['seed']=seed_number;\n",
    "\n",
    "# final all json\n",
    "with open(os.path.join(output_dir,\"training_data_results.json\"), 'w') as f:\n",
    "    json.dump(data_results, f,indent=4);\n",
    "\n",
    "tf.keras.backend.clear_session()"
   ]
  },
  {
   "cell_type": "code",
   "execution_count": 27,
   "id": "6fa36ac3-a1b0-459f-b46e-681c993968ff",
   "metadata": {},
   "outputs": [
    {
     "name": "stdout",
     "output_type": "stream",
     "text": [
      "17/17 [==============================] - 0s 9ms/step\n",
      "Categorical accuracy: 0.3723244798848852\n",
      "{\n",
      "    \"negative\": {\n",
      "        \"precision\": 0.31037489102005233,\n",
      "        \"recall\": 0.08504538939321549,\n",
      "        \"f1-score\": 0.13350834427151698,\n",
      "        \"support\": 4186.0\n",
      "    },\n",
      "    \"neutral\": {\n",
      "        \"precision\": 0.33274816469837215,\n",
      "        \"recall\": 0.46602592758158246,\n",
      "        \"f1-score\": 0.388268156424581,\n",
      "        \"support\": 4474.0\n",
      "    },\n",
      "    \"pain\": {\n",
      "        \"precision\": 0.4666666666666667,\n",
      "        \"recall\": 0.6296391752577319,\n",
      "        \"f1-score\": 0.536039495337356,\n",
      "        \"support\": 3880.0\n",
      "    },\n",
      "    \"positive\": {\n",
      "        \"precision\": 0.3289506325973704,\n",
      "        \"recall\": 0.32036723846339693,\n",
      "        \"f1-score\": 0.32460220318237454,\n",
      "        \"support\": 4139.0\n",
      "    },\n",
      "    \"accuracy\": 0.3723244798848852,\n",
      "    \"macro avg\": {\n",
      "        \"precision\": 0.35968508874561533,\n",
      "        \"recall\": 0.37526943267398166,\n",
      "        \"f1-score\": 0.3456045498039571,\n",
      "        \"support\": 16679.0\n",
      "    },\n",
      "    \"weighted avg\": {\n",
      "        \"precision\": 0.3573438406174015,\n",
      "        \"recall\": 0.3723244798848852,\n",
      "        \"f1-score\": 0.3429066144160282,\n",
      "        \"support\": 16679.0\n",
      "    }\n",
      "}\n"
     ]
    },
    {
     "data": {
      "image/png": "[encoded data removed]",
      "text/plain": [
       "<Figure size 800x600 with 2 Axes>"
      ]
     },
     "metadata": {},
     "output_type": "display_data"
    }
   ],
   "source": [
    "from sklearn.metrics import classification_report,confusion_matrix\n",
    "from sklearn.metrics import ConfusionMatrixDisplay\n",
    "import matplotlib.pyplot as plt\n",
    "\n",
    "target_names = ['negative','neutral','pain','positive'];\n",
    "\n",
    "# Predict\n",
    "Y_pred = model.predict(test_dataset,verbose=1);\n",
    "y_pred = np.argmax(Y_pred, axis=1);\n",
    "\n",
    "# Calculate accuracy\n",
    "categorical_accuracy = np.mean(test_dataset.classes == y_pred);\n",
    "print(f'Categorical accuracy: {categorical_accuracy}');\n",
    "\n",
    "# Confusion matrix\n",
    "CM=confusion_matrix(test_dataset.classes, y_pred);\n",
    "\n",
    "fname=os.path.join(output_dir,\"confusion_matrix.eps\");\n",
    "fig, ax = plt.subplots(figsize=(8,6), dpi=100)\n",
    "disp = ConfusionMatrixDisplay(confusion_matrix=CM, display_labels=target_names)\n",
    "disp.plot(ax=ax,cmap=plt.cm.Blues)\n",
    "plt.savefig(fname)\n",
    "\n",
    "cm_dict=dict();\n",
    "cm_dict['matrix']=CM.tolist();\n",
    "cm_dict['label']=target_names;\n",
    "# final all json\n",
    "with open(os.path.join(output_dir,\"confusion_matrix.json\"), 'w') as f:\n",
    "    json.dump(cm_dict, f,indent=4);\n",
    "    f.close()\n",
    "\n",
    "# Classification report\n",
    "fname=os.path.join(output_dir,\"classification_report.json\")\n",
    "dict_dat=classification_report(test_dataset.classes, y_pred, target_names=target_names,output_dict=True);\n",
    "print(json.dumps(dict_dat, indent=4))\n",
    "with open(fname, 'w') as f: \n",
    "    json.dump(dict_dat, f,indent=4);\n",
    "    f.close()"
   ]
  },
  {
   "cell_type": "code",
   "execution_count": null,
   "id": "dc88caa5-5171-487f-9403-9a712c006fe5",
   "metadata": {},
   "outputs": [],
   "source": []
  }
 ],
 "metadata": {
  "kernelspec": {
   "display_name": "Python 3 (ipykernel)",
   "language": "python",
   "name": "python3"
  },
  "language_info": {
   "codemirror_mode": {
    "name": "ipython",
    "version": 3
   },
   "file_extension": ".py",
   "mimetype": "text/x-python",
   "name": "python",
   "nbconvert_exporter": "python",
   "pygments_lexer": "ipython3",
   "version": "3.10.12"
  }
 },
 "nbformat": 4,
 "nbformat_minor": 5
}
